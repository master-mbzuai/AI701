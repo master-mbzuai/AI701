{
 "cells": [
  {
   "cell_type": "code",
   "execution_count": 23,
   "metadata": {},
   "outputs": [],
   "source": [
    "\n",
    "\n",
    "import pandas as pd\n",
    "import os\n",
    "import torch\n",
    "import time\n",
    "import torchvision\n",
    "import torch.nn as nn\n",
    "import numpy as np\n",
    "import torch.nn.functional as F\n",
    "from torchvision.datasets.utils import download_url\n",
    "from torchvision.datasets import ImageFolder\n",
    "from torch.utils.data import DataLoader\n",
    "import torchvision.transforms as tt\n",
    "from torch.utils.data import random_split\n",
    "from torchvision.utils import make_grid\n",
    "import torchvision.models as models\n",
    "import matplotlib.pyplot as plt\n",
    "from sklearn.metrics import *\n",
    "\n",
    "%matplotlib inline\n",
    "\n"
   ]
  },
  {
   "cell_type": "code",
   "execution_count": 24,
   "metadata": {},
   "outputs": [],
   "source": [
    "batch_size = 400\n",
    "epochs = 120\n",
    "max_lr = 0.001\n",
    "grad_clip = 0.01\n",
    "weight_decay =0.001\n",
    "opt_func = torch.optim.Adam"
   ]
  },
  {
   "cell_type": "code",
   "execution_count": 25,
   "metadata": {},
   "outputs": [
    {
     "name": "stdout",
     "output_type": "stream",
     "text": [
      "Files already downloaded and verified\n"
     ]
    }
   ],
   "source": [
    "train_data = torchvision.datasets.CIFAR100('./', train=True, download=True)\n",
    "\n",
    "# Stick all the images together to form a 1600000 X 32 X 3 array\n",
    "x = np.concatenate([np.asarray(train_data[i][0]) for i in range(len(train_data))])\n",
    "\n",
    "# calculate the mean and std along the (0, 1) axes\n",
    "mean = np.mean(x, axis=(0, 1))/255\n",
    "std = np.std(x, axis=(0, 1))/255\n",
    "# the the mean and std\n",
    "mean=mean.tolist()\n",
    "std=std.tolist()\n",
    "\n"
   ]
  },
  {
   "cell_type": "code",
   "execution_count": 40,
   "metadata": {},
   "outputs": [
    {
     "name": "stdout",
     "output_type": "stream",
     "text": [
      "[[[255 255 255]\n",
      "  [255 255 255]\n",
      "  [255 255 255]\n",
      "  ...\n",
      "  [195 205 193]\n",
      "  [212 224 204]\n",
      "  [182 194 167]]\n",
      "\n",
      " [[255 255 255]\n",
      "  [254 254 254]\n",
      "  [254 254 254]\n",
      "  ...\n",
      "  [170 176 150]\n",
      "  [161 168 130]\n",
      "  [146 154 113]]\n",
      "\n",
      " [[255 255 255]\n",
      "  [254 254 254]\n",
      "  [255 255 255]\n",
      "  ...\n",
      "  [189 199 169]\n",
      "  [166 178 130]\n",
      "  [121 133  87]]\n",
      "\n",
      " ...\n",
      "\n",
      " [[148 185  79]\n",
      "  [142 182  57]\n",
      "  [140 179  60]\n",
      "  ...\n",
      "  [ 30  17   1]\n",
      "  [ 65  62  15]\n",
      "  [ 76  77  20]]\n",
      "\n",
      " [[122 157  66]\n",
      "  [120 155  58]\n",
      "  [126 160  71]\n",
      "  ...\n",
      "  [ 22  16   3]\n",
      "  [ 97 112  56]\n",
      "  [141 161  87]]\n",
      "\n",
      " [[ 87 122  41]\n",
      "  [ 88 122  39]\n",
      "  [101 134  56]\n",
      "  ...\n",
      "  [ 34  36  10]\n",
      "  [105 133  59]\n",
      "  [138 173  79]]]\n"
     ]
    }
   ],
   "source": [
    "print(np.asarray(train_data[0][0]))"
   ]
  },
  {
   "cell_type": "code",
   "execution_count": 41,
   "metadata": {},
   "outputs": [
    {
     "name": "stdout",
     "output_type": "stream",
     "text": [
      "[0.5070751592371323, 0.48654887331495095, 0.4409178433670343]\n",
      "[0.26733428587941854, 0.25643846292120615, 0.2761504713263903]\n"
     ]
    }
   ],
   "source": [
    "print(mean)\n",
    "print(std)"
   ]
  },
  {
   "cell_type": "code",
   "execution_count": 28,
   "metadata": {},
   "outputs": [],
   "source": [
    "transform_train = tt.Compose([tt.RandomCrop(32, padding=4,padding_mode='reflect'), \n",
    "                         tt.RandomHorizontalFlip(), \n",
    "                         tt.ToTensor(), \n",
    "                         tt.Normalize(mean,std,inplace=True)])\n",
    "transform_test = tt.Compose([tt.ToTensor(), tt.Normalize(mean,std)])"
   ]
  },
  {
   "cell_type": "code",
   "execution_count": 29,
   "metadata": {},
   "outputs": [
    {
     "name": "stdout",
     "output_type": "stream",
     "text": [
      "Files already downloaded and verified\n",
      "Files already downloaded and verified\n"
     ]
    }
   ],
   "source": [
    "trainset = torchvision.datasets.CIFAR100(\"./\",\n",
    "                                         train=True,\n",
    "                                         download=True,\n",
    "                                         transform=transform_train)\n",
    "trainloader = torch.utils.data.DataLoader(\n",
    "    trainset, batch_size, shuffle=True, num_workers=2,pin_memory=True)\n",
    "\n",
    "testset = torchvision.datasets.CIFAR100(\"./\",\n",
    "                                        train=False,\n",
    "                                        download=True,\n",
    "                                        transform=transform_test)\n",
    "testloader = torch.utils.data.DataLoader(\n",
    "    testset, batch_size*2,pin_memory=True, num_workers=2)"
   ]
  },
  {
   "cell_type": "code",
   "execution_count": 30,
   "metadata": {},
   "outputs": [],
   "source": [
    "def get_default_device():\n",
    "    \"\"\"Pick GPU if available, else CPU\"\"\"\n",
    "    if torch.cuda.is_available():\n",
    "        return torch.device('cuda')\n",
    "    else:\n",
    "        return torch.device('cpu')\n",
    "    \n",
    "def to_device(data, device):\n",
    "    \"\"\"Move tensor(s) to chosen device\"\"\"\n",
    "    if isinstance(data, (list,tuple)):\n",
    "        return [to_device(x, device) for x in data]\n",
    "    return data.to(device, non_blocking=True)\n",
    "\n",
    "class DeviceDataLoader():\n",
    "    \"\"\"Wrap a dataloader to move data to a device\"\"\"\n",
    "    def __init__(self, dl, device):\n",
    "        self.dl = dl\n",
    "        self.device = device\n",
    "        \n",
    "    def __iter__(self):\n",
    "        \"\"\"Yield a batch of data after moving it to device\"\"\"\n",
    "        for b in self.dl: \n",
    "            yield to_device(b, self.device)\n",
    "\n",
    "    def __len__(self):\n",
    "        \"\"\"Number of batches\"\"\"\n",
    "        return len(self.dl)"
   ]
  },
  {
   "cell_type": "code",
   "execution_count": 31,
   "metadata": {},
   "outputs": [
    {
     "data": {
      "text/plain": [
       "device(type='cuda')"
      ]
     },
     "execution_count": 31,
     "metadata": {},
     "output_type": "execute_result"
    }
   ],
   "source": [
    "device = get_default_device()\n",
    "device"
   ]
  },
  {
   "cell_type": "code",
   "execution_count": 32,
   "metadata": {},
   "outputs": [],
   "source": [
    "\n",
    "\n",
    "trainloader = DeviceDataLoader(trainloader, device)\n",
    "testloader = DeviceDataLoader(testloader, device)\n",
    "\n"
   ]
  },
  {
   "cell_type": "code",
   "execution_count": 33,
   "metadata": {},
   "outputs": [
    {
     "data": {
      "text/plain": [
       "ResNet9(\n",
       "  (conv1): Sequential(\n",
       "    (0): Conv2d(3, 64, kernel_size=(3, 3), stride=(1, 1), padding=(1, 1))\n",
       "    (1): BatchNorm2d(64, eps=1e-05, momentum=0.1, affine=True, track_running_stats=True)\n",
       "    (2): ReLU(inplace=True)\n",
       "  )\n",
       "  (conv2): Sequential(\n",
       "    (0): Conv2d(64, 128, kernel_size=(3, 3), stride=(1, 1), padding=(1, 1))\n",
       "    (1): BatchNorm2d(128, eps=1e-05, momentum=0.1, affine=True, track_running_stats=True)\n",
       "    (2): ReLU(inplace=True)\n",
       "    (3): MaxPool2d(kernel_size=2, stride=2, padding=0, dilation=1, ceil_mode=False)\n",
       "  )\n",
       "  (res1): Sequential(\n",
       "    (0): Sequential(\n",
       "      (0): Conv2d(128, 128, kernel_size=(3, 3), stride=(1, 1), padding=(1, 1))\n",
       "      (1): BatchNorm2d(128, eps=1e-05, momentum=0.1, affine=True, track_running_stats=True)\n",
       "      (2): ReLU(inplace=True)\n",
       "    )\n",
       "    (1): Sequential(\n",
       "      (0): Conv2d(128, 128, kernel_size=(3, 3), stride=(1, 1), padding=(1, 1))\n",
       "      (1): BatchNorm2d(128, eps=1e-05, momentum=0.1, affine=True, track_running_stats=True)\n",
       "      (2): ReLU(inplace=True)\n",
       "    )\n",
       "  )\n",
       "  (conv3): Sequential(\n",
       "    (0): Conv2d(128, 256, kernel_size=(3, 3), stride=(1, 1), padding=(1, 1))\n",
       "    (1): BatchNorm2d(256, eps=1e-05, momentum=0.1, affine=True, track_running_stats=True)\n",
       "    (2): ReLU(inplace=True)\n",
       "    (3): MaxPool2d(kernel_size=2, stride=2, padding=0, dilation=1, ceil_mode=False)\n",
       "  )\n",
       "  (conv4): Sequential(\n",
       "    (0): Conv2d(256, 512, kernel_size=(3, 3), stride=(1, 1), padding=(1, 1))\n",
       "    (1): BatchNorm2d(512, eps=1e-05, momentum=0.1, affine=True, track_running_stats=True)\n",
       "    (2): ReLU(inplace=True)\n",
       "    (3): MaxPool2d(kernel_size=2, stride=2, padding=0, dilation=1, ceil_mode=False)\n",
       "  )\n",
       "  (res2): Sequential(\n",
       "    (0): Sequential(\n",
       "      (0): Conv2d(512, 512, kernel_size=(3, 3), stride=(1, 1), padding=(1, 1))\n",
       "      (1): BatchNorm2d(512, eps=1e-05, momentum=0.1, affine=True, track_running_stats=True)\n",
       "      (2): ReLU(inplace=True)\n",
       "    )\n",
       "    (1): Sequential(\n",
       "      (0): Conv2d(512, 512, kernel_size=(3, 3), stride=(1, 1), padding=(1, 1))\n",
       "      (1): BatchNorm2d(512, eps=1e-05, momentum=0.1, affine=True, track_running_stats=True)\n",
       "      (2): ReLU(inplace=True)\n",
       "    )\n",
       "  )\n",
       "  (conv5): Sequential(\n",
       "    (0): Conv2d(512, 1028, kernel_size=(3, 3), stride=(1, 1), padding=(1, 1))\n",
       "    (1): BatchNorm2d(1028, eps=1e-05, momentum=0.1, affine=True, track_running_stats=True)\n",
       "    (2): ReLU(inplace=True)\n",
       "    (3): MaxPool2d(kernel_size=2, stride=2, padding=0, dilation=1, ceil_mode=False)\n",
       "  )\n",
       "  (res3): Sequential(\n",
       "    (0): Sequential(\n",
       "      (0): Conv2d(1028, 1028, kernel_size=(3, 3), stride=(1, 1), padding=(1, 1))\n",
       "      (1): BatchNorm2d(1028, eps=1e-05, momentum=0.1, affine=True, track_running_stats=True)\n",
       "      (2): ReLU(inplace=True)\n",
       "    )\n",
       "    (1): Sequential(\n",
       "      (0): Conv2d(1028, 1028, kernel_size=(3, 3), stride=(1, 1), padding=(1, 1))\n",
       "      (1): BatchNorm2d(1028, eps=1e-05, momentum=0.1, affine=True, track_running_stats=True)\n",
       "      (2): ReLU(inplace=True)\n",
       "    )\n",
       "  )\n",
       "  (classifier): Sequential(\n",
       "    (0): MaxPool2d(kernel_size=2, stride=2, padding=0, dilation=1, ceil_mode=False)\n",
       "    (1): Flatten(start_dim=1, end_dim=-1)\n",
       "    (2): Linear(in_features=1028, out_features=100, bias=True)\n",
       "  )\n",
       ")"
      ]
     },
     "execution_count": 33,
     "metadata": {},
     "output_type": "execute_result"
    }
   ],
   "source": [
    "def accuracy(outputs, labels):\n",
    "    _, preds = torch.max(outputs, dim=1)\n",
    "    return torch.tensor(torch.sum(preds == labels).item() / len(preds))\n",
    "\n",
    "class ImageClassificationBase(nn.Module):\n",
    "    def training_step(self, batch):\n",
    "        images, labels = batch\n",
    "        print(images.shape) \n",
    "        out = self(images)                  # Generate predictions\n",
    "        loss = F.cross_entropy(out, labels) # Calculate loss\n",
    "        return loss\n",
    "    \n",
    "    def validation_step(self, batch):\n",
    "        images, labels = batch \n",
    "        out = self(images)                    # Generate predictions\n",
    "        loss = F.cross_entropy(out, labels)   # Calculate loss\n",
    "        acc = accuracy(out, labels)           # Calculate accuracy\n",
    "        return {'val_loss': loss.detach(), 'val_acc': acc}\n",
    "        \n",
    "    def validation_epoch_end(self, outputs):\n",
    "        batch_losses = [x['val_loss'] for x in outputs]\n",
    "        epoch_loss = torch.stack(batch_losses).mean()   # Combine losses\n",
    "        batch_accs = [x['val_acc'] for x in outputs]\n",
    "        epoch_acc = torch.stack(batch_accs).mean()      # Combine accuracies\n",
    "        return {'val_loss': epoch_loss.item(), 'val_acc': epoch_acc.item()}\n",
    "    \n",
    "    def epoch_end(self, epoch, result):\n",
    "        print(\"Epoch [{}], last_lr: {:.5f}, train_loss: {:.4f}, val_loss: {:.4f}, val_acc: {:.4f}\".format(\n",
    "            epoch, result['lrs'][-1], result['train_loss'], result['val_loss'], result['val_acc']))\n",
    "        \n",
    "def conv_block(in_channels, out_channels, pool=False):\n",
    "    layers = [nn.Conv2d(in_channels, out_channels, kernel_size=3, padding=1), \n",
    "              nn.BatchNorm2d(out_channels), \n",
    "              nn.ReLU(inplace=True)]\n",
    "    if pool: layers.append(nn.MaxPool2d(2))\n",
    "    return nn.Sequential(*layers)\n",
    "\n",
    "class ResNet9(ImageClassificationBase):\n",
    "    def __init__(self, in_channels, num_classes):\n",
    "        super().__init__()\n",
    "        \n",
    "        self.conv1 = conv_block(in_channels, 64)\n",
    "        self.conv2 = conv_block(64, 128, pool=True) \n",
    "        self.res1 = nn.Sequential(conv_block(128, 128), conv_block(128, 128)) \n",
    "        \n",
    "        self.conv3 = conv_block(128, 256, pool=True)\n",
    "        self.conv4 = conv_block(256, 512, pool=True) \n",
    "        self.res2 = nn.Sequential(conv_block(512, 512), conv_block(512, 512)) \n",
    "        self.conv5 = conv_block(512, 1028, pool=True) \n",
    "        self.res3 = nn.Sequential(conv_block(1028, 1028), conv_block(1028, 1028))  \n",
    "        \n",
    "        self.classifier = nn.Sequential(nn.MaxPool2d(2), # 1028 x 1 x 1\n",
    "                                        nn.Flatten(), # 1028 \n",
    "                                        nn.Linear(1028, num_classes)) # 1028 -> 100\n",
    "        \n",
    "    def forward(self, xb):\n",
    "        out = self.conv1(xb)\n",
    "        out = self.conv2(out)\n",
    "        out = self.res1(out) + out\n",
    "        out = self.conv3(out)\n",
    "        out = self.conv4(out)\n",
    "        out = self.res2(out) + out\n",
    "        out = self.conv5(out)\n",
    "        out = self.res3(out) + out\n",
    "        out = self.classifier(out)\n",
    "        return out\n",
    "\n",
    "model = to_device(ResNet9(3, 100), device)\n",
    "model\n"
   ]
  },
  {
   "cell_type": "code",
   "execution_count": 38,
   "metadata": {},
   "outputs": [
    {
     "data": {
      "image/png": "[encoded data removed]",
      "text/plain": [
       "<Figure size 640x480 with 1 Axes>"
      ]
     },
     "metadata": {},
     "output_type": "display_data"
    }
   ],
   "source": [
    "import pylab as plt\n",
    "from matplotlib import pyplot as plt\n",
    "\n",
    "plt.imshow(train_data[0][0], interpolation='nearest')\n",
    "plt.show()"
   ]
  },
  {
   "cell_type": "code",
   "execution_count": 34,
   "metadata": {},
   "outputs": [],
   "source": [
    "@torch.no_grad()\n",
    "def evaluate(model, test_loader):\n",
    "    model.eval()\n",
    "    outputs = [model.validation_step(batch) for batch in test_loader]\n",
    "    return model.validation_epoch_end(outputs)\n",
    "\n",
    "def get_lr(optimizer):\n",
    "    for param_group in optimizer.param_groups:\n",
    "        return param_group['lr']\n",
    "\n",
    "def fit_one_cycle(epochs, max_lr, model, train_loader, test_loader, \n",
    "                  weight_decay=0, grad_clip=None, opt_func=torch.optim.SGD):\n",
    "    torch.cuda.empty_cache()\n",
    "    history = []\n",
    "    \n",
    "    # Set up cutom optimizer with weight decay\n",
    "    optimizer = opt_func(model.parameters(), max_lr, weight_decay=weight_decay)\n",
    "    # Set up one-cycle learning rate scheduler\n",
    "    sched = torch.optim.lr_scheduler.OneCycleLR(optimizer, max_lr, epochs=epochs, \n",
    "                                                steps_per_epoch=len(train_loader))\n",
    "    \n",
    "    for epoch in range(epochs):\n",
    "        # Training Phase \n",
    "        model.train()\n",
    "        train_losses = []\n",
    "        lrs = []\n",
    "        for batch in train_loader:\n",
    "            loss = model.training_step(batch)\n",
    "            train_losses.append(loss)\n",
    "            loss.backward()\n",
    "            \n",
    "            # Gradient clipping\n",
    "            if grad_clip: \n",
    "                nn.utils.clip_grad_value_(model.parameters(), grad_clip)\n",
    "            \n",
    "            optimizer.step()\n",
    "            optimizer.zero_grad()\n",
    "            \n",
    "            # Record & update learning rate\n",
    "            lrs.append(get_lr(optimizer))\n",
    "            sched.step()\n",
    "        \n",
    "        # Validation phase\n",
    "        result = evaluate(model, test_loader)\n",
    "        result['train_loss'] = torch.stack(train_losses).mean().item()\n",
    "        result['lrs'] = lrs\n",
    "        model.epoch_end(epoch, result)\n",
    "        history.append(result)\n",
    "    return history"
   ]
  },
  {
   "cell_type": "code",
   "execution_count": 35,
   "metadata": {},
   "outputs": [
    {
     "data": {
      "text/plain": [
       "[{'val_loss': 4.605477333068848, 'val_acc': 0.010192308574914932}]"
      ]
     },
     "execution_count": 35,
     "metadata": {},
     "output_type": "execute_result"
    }
   ],
   "source": [
    "\n",
    "\n",
    "# Initial evaluation\n",
    "history = [evaluate(model, testloader)]\n",
    "history\n",
    "\n"
   ]
  },
  {
   "cell_type": "code",
   "execution_count": null,
   "metadata": {},
   "outputs": [],
   "source": [
    "# Fitting the first 1/4 epochs\n",
    "current_time=time.time()\n",
    "history += fit_one_cycle(int(epochs/4), max_lr, model, trainloader, testloader, \n",
    "                             grad_clip=grad_clip, \n",
    "                             weight_decay=weight_decay, \n",
    "                             opt_func=opt_func)"
   ]
  },
  {
   "cell_type": "code",
   "execution_count": 13,
   "metadata": {},
   "outputs": [
    {
     "name": "stdout",
     "output_type": "stream",
     "text": [
      "Epoch [0], last_lr: 0.00001, train_loss: 0.0458, val_loss: 0.9933, val_acc: 0.7444\n",
      "Epoch [1], last_lr: 0.00002, train_loss: 0.0443, val_loss: 1.0016, val_acc: 0.7414\n",
      "Epoch [2], last_lr: 0.00003, train_loss: 0.0446, val_loss: 1.0191, val_acc: 0.7431\n",
      "Epoch [3], last_lr: 0.00004, train_loss: 0.0447, val_loss: 1.0509, val_acc: 0.7362\n",
      "Epoch [4], last_lr: 0.00006, train_loss: 0.0539, val_loss: 1.0993, val_acc: 0.7253\n",
      "Epoch [5], last_lr: 0.00008, train_loss: 0.0679, val_loss: 1.1241, val_acc: 0.7201\n",
      "Epoch [6], last_lr: 0.00009, train_loss: 0.0833, val_loss: 1.1472, val_acc: 0.7137\n",
      "Epoch [7], last_lr: 0.00010, train_loss: 0.0956, val_loss: 1.1689, val_acc: 0.7106\n",
      "Epoch [8], last_lr: 0.00010, train_loss: 0.0976, val_loss: 1.2208, val_acc: 0.7041\n",
      "Epoch [9], last_lr: 0.00010, train_loss: 0.0924, val_loss: 1.2538, val_acc: 0.7017\n",
      "Epoch [10], last_lr: 0.00010, train_loss: 0.0826, val_loss: 1.1906, val_acc: 0.7100\n",
      "Epoch [11], last_lr: 0.00010, train_loss: 0.0745, val_loss: 1.1619, val_acc: 0.7159\n",
      "Epoch [12], last_lr: 0.00009, train_loss: 0.0635, val_loss: 1.1421, val_acc: 0.7192\n",
      "Epoch [13], last_lr: 0.00009, train_loss: 0.0575, val_loss: 1.1451, val_acc: 0.7194\n",
      "Epoch [14], last_lr: 0.00008, train_loss: 0.0507, val_loss: 1.1379, val_acc: 0.7234\n",
      "Epoch [15], last_lr: 0.00008, train_loss: 0.0430, val_loss: 1.1313, val_acc: 0.7341\n",
      "Epoch [16], last_lr: 0.00007, train_loss: 0.0366, val_loss: 1.0914, val_acc: 0.7320\n",
      "Epoch [17], last_lr: 0.00006, train_loss: 0.0306, val_loss: 1.1145, val_acc: 0.7311\n",
      "Epoch [18], last_lr: 0.00005, train_loss: 0.0275, val_loss: 1.0883, val_acc: 0.7386\n",
      "Epoch [19], last_lr: 0.00005, train_loss: 0.0209, val_loss: 1.0716, val_acc: 0.7428\n",
      "Epoch [20], last_lr: 0.00004, train_loss: 0.0171, val_loss: 1.0562, val_acc: 0.7448\n",
      "Epoch [21], last_lr: 0.00003, train_loss: 0.0162, val_loss: 1.0621, val_acc: 0.7462\n",
      "Epoch [22], last_lr: 0.00003, train_loss: 0.0134, val_loss: 1.0460, val_acc: 0.7494\n",
      "Epoch [23], last_lr: 0.00002, train_loss: 0.0115, val_loss: 1.0545, val_acc: 0.7491\n",
      "Epoch [24], last_lr: 0.00001, train_loss: 0.0104, val_loss: 1.0432, val_acc: 0.7501\n",
      "Epoch [25], last_lr: 0.00001, train_loss: 0.0100, val_loss: 1.0420, val_acc: 0.7492\n",
      "Epoch [26], last_lr: 0.00000, train_loss: 0.0090, val_loss: 1.0362, val_acc: 0.7501\n",
      "Epoch [27], last_lr: 0.00000, train_loss: 0.0086, val_loss: 1.0355, val_acc: 0.7506\n",
      "Epoch [28], last_lr: 0.00000, train_loss: 0.0081, val_loss: 1.0345, val_acc: 0.7508\n",
      "Epoch [29], last_lr: 0.00000, train_loss: 0.0085, val_loss: 1.0343, val_acc: 0.7511\n"
     ]
    }
   ],
   "source": [
    "\n",
    "\n",
    "# Fitting the second 1/4 epochs\n",
    "history += fit_one_cycle(int(epochs/4), max_lr/10, model, trainloader, testloader, \n",
    "                             grad_clip=grad_clip, \n",
    "                             weight_decay=weight_decay, \n",
    "                             opt_func=opt_func)\n",
    "\n"
   ]
  },
  {
   "cell_type": "code",
   "execution_count": 14,
   "metadata": {},
   "outputs": [
    {
     "name": "stdout",
     "output_type": "stream",
     "text": [
      "Epoch [0], last_lr: 0.00000, train_loss: 0.0083, val_loss: 1.0350, val_acc: 0.7526\n",
      "Epoch [1], last_lr: 0.00000, train_loss: 0.0083, val_loss: 1.0377, val_acc: 0.7515\n",
      "Epoch [2], last_lr: 0.00001, train_loss: 0.0085, val_loss: 1.0389, val_acc: 0.7504\n",
      "Epoch [3], last_lr: 0.00001, train_loss: 0.0093, val_loss: 1.0392, val_acc: 0.7506\n",
      "Epoch [4], last_lr: 0.00001, train_loss: 0.0092, val_loss: 1.0364, val_acc: 0.7502\n",
      "Epoch [5], last_lr: 0.00001, train_loss: 0.0087, val_loss: 1.0346, val_acc: 0.7526\n",
      "Epoch [6], last_lr: 0.00001, train_loss: 0.0098, val_loss: 1.0314, val_acc: 0.7496\n",
      "Epoch [7], last_lr: 0.00001, train_loss: 0.0091, val_loss: 1.0331, val_acc: 0.7488\n",
      "Epoch [8], last_lr: 0.00001, train_loss: 0.0085, val_loss: 1.0275, val_acc: 0.7513\n",
      "Epoch [9], last_lr: 0.00000, train_loss: 0.0079, val_loss: 1.0249, val_acc: 0.7529\n",
      "Epoch [10], last_lr: 0.00000, train_loss: 0.0075, val_loss: 1.0227, val_acc: 0.7529\n",
      "Epoch [11], last_lr: 0.00000, train_loss: 0.0073, val_loss: 1.0188, val_acc: 0.7537\n",
      "Epoch [12], last_lr: 0.00000, train_loss: 0.0070, val_loss: 1.0199, val_acc: 0.7532\n",
      "Epoch [13], last_lr: 0.00000, train_loss: 0.0069, val_loss: 1.0191, val_acc: 0.7543\n",
      "Epoch [14], last_lr: 0.00000, train_loss: 0.0072, val_loss: 1.0204, val_acc: 0.7537\n"
     ]
    }
   ],
   "source": [
    "\n",
    "\n",
    "history += fit_one_cycle(int(epochs/8), max_lr/100, model, trainloader, testloader, \n",
    "                             grad_clip=grad_clip, \n",
    "                             weight_decay=weight_decay, \n",
    "                             opt_func=opt_func)\n",
    "\n"
   ]
  },
  {
   "cell_type": "code",
   "execution_count": 15,
   "metadata": {},
   "outputs": [
    {
     "name": "stdout",
     "output_type": "stream",
     "text": [
      "Epoch [0], last_lr: 0.00000, train_loss: 0.0071, val_loss: 1.0191, val_acc: 0.7541\n",
      "Epoch [1], last_lr: 0.00000, train_loss: 0.0070, val_loss: 1.0189, val_acc: 0.7539\n",
      "Epoch [2], last_lr: 0.00000, train_loss: 0.0070, val_loss: 1.0191, val_acc: 0.7534\n",
      "Epoch [3], last_lr: 0.00000, train_loss: 0.0071, val_loss: 1.0190, val_acc: 0.7535\n",
      "Epoch [4], last_lr: 0.00000, train_loss: 0.0068, val_loss: 1.0194, val_acc: 0.7534\n",
      "Epoch [5], last_lr: 0.00000, train_loss: 0.0069, val_loss: 1.0199, val_acc: 0.7537\n",
      "Epoch [6], last_lr: 0.00000, train_loss: 0.0069, val_loss: 1.0197, val_acc: 0.7535\n",
      "Epoch [7], last_lr: 0.00000, train_loss: 0.0067, val_loss: 1.0194, val_acc: 0.7540\n",
      "Epoch [8], last_lr: 0.00000, train_loss: 0.0069, val_loss: 1.0212, val_acc: 0.7525\n",
      "Epoch [9], last_lr: 0.00000, train_loss: 0.0069, val_loss: 1.0209, val_acc: 0.7534\n",
      "Epoch [10], last_lr: 0.00000, train_loss: 0.0069, val_loss: 1.0177, val_acc: 0.7543\n",
      "Epoch [11], last_lr: 0.00000, train_loss: 0.0068, val_loss: 1.0184, val_acc: 0.7530\n",
      "Epoch [12], last_lr: 0.00000, train_loss: 0.0067, val_loss: 1.0200, val_acc: 0.7531\n",
      "Epoch [13], last_lr: 0.00000, train_loss: 0.0066, val_loss: 1.0197, val_acc: 0.7537\n",
      "Epoch [14], last_lr: 0.00000, train_loss: 0.0067, val_loss: 1.0201, val_acc: 0.7531\n"
     ]
    }
   ],
   "source": [
    "\n",
    "\n",
    "history += fit_one_cycle(int(epochs/8), max_lr/1000, model, trainloader, testloader, \n",
    "                             grad_clip=grad_clip, \n",
    "                             weight_decay=weight_decay, \n",
    "                             opt_func=opt_func)\n",
    "\n"
   ]
  },
  {
   "cell_type": "code",
   "execution_count": 16,
   "metadata": {},
   "outputs": [
    {
     "name": "stdout",
     "output_type": "stream",
     "text": [
      "Epoch [0], last_lr: 0.00000, train_loss: 0.0068, val_loss: 1.0181, val_acc: 0.7526\n",
      "Epoch [1], last_lr: 0.00000, train_loss: 0.0066, val_loss: 1.0207, val_acc: 0.7541\n",
      "Epoch [2], last_lr: 0.00000, train_loss: 0.0068, val_loss: 1.0213, val_acc: 0.7536\n",
      "Epoch [3], last_lr: 0.00000, train_loss: 0.0069, val_loss: 1.0221, val_acc: 0.7517\n",
      "Epoch [4], last_lr: 0.00001, train_loss: 0.0072, val_loss: 1.0186, val_acc: 0.7519\n",
      "Epoch [5], last_lr: 0.00001, train_loss: 0.0079, val_loss: 1.0219, val_acc: 0.7494\n",
      "Epoch [6], last_lr: 0.00001, train_loss: 0.0079, val_loss: 1.0212, val_acc: 0.7490\n",
      "Epoch [7], last_lr: 0.00001, train_loss: 0.0088, val_loss: 1.0230, val_acc: 0.7475\n",
      "Epoch [8], last_lr: 0.00001, train_loss: 0.0090, val_loss: 1.0231, val_acc: 0.7478\n",
      "Epoch [9], last_lr: 0.00001, train_loss: 0.0092, val_loss: 1.0194, val_acc: 0.7504\n",
      "Epoch [10], last_lr: 0.00001, train_loss: 0.0087, val_loss: 1.0190, val_acc: 0.7500\n",
      "Epoch [11], last_lr: 0.00001, train_loss: 0.0089, val_loss: 1.0251, val_acc: 0.7474\n",
      "Epoch [12], last_lr: 0.00001, train_loss: 0.0086, val_loss: 1.0211, val_acc: 0.7473\n",
      "Epoch [13], last_lr: 0.00001, train_loss: 0.0091, val_loss: 1.0058, val_acc: 0.7499\n",
      "Epoch [14], last_lr: 0.00001, train_loss: 0.0087, val_loss: 1.0129, val_acc: 0.7500\n",
      "Epoch [15], last_lr: 0.00001, train_loss: 0.0083, val_loss: 1.0105, val_acc: 0.7491\n",
      "Epoch [16], last_lr: 0.00001, train_loss: 0.0081, val_loss: 1.0088, val_acc: 0.7505\n",
      "Epoch [17], last_lr: 0.00001, train_loss: 0.0078, val_loss: 1.0095, val_acc: 0.7496\n",
      "Epoch [18], last_lr: 0.00001, train_loss: 0.0079, val_loss: 1.0085, val_acc: 0.7492\n",
      "Epoch [19], last_lr: 0.00000, train_loss: 0.0077, val_loss: 1.0073, val_acc: 0.7499\n",
      "Epoch [20], last_lr: 0.00000, train_loss: 0.0072, val_loss: 1.0077, val_acc: 0.7505\n",
      "Epoch [21], last_lr: 0.00000, train_loss: 0.0070, val_loss: 1.0057, val_acc: 0.7518\n",
      "Epoch [22], last_lr: 0.00000, train_loss: 0.0071, val_loss: 1.0036, val_acc: 0.7528\n",
      "Epoch [23], last_lr: 0.00000, train_loss: 0.0070, val_loss: 1.0030, val_acc: 0.7509\n",
      "Epoch [24], last_lr: 0.00000, train_loss: 0.0068, val_loss: 1.0026, val_acc: 0.7516\n",
      "Epoch [25], last_lr: 0.00000, train_loss: 0.0067, val_loss: 1.0020, val_acc: 0.7514\n",
      "Epoch [26], last_lr: 0.00000, train_loss: 0.0066, val_loss: 1.0040, val_acc: 0.7516\n",
      "Epoch [27], last_lr: 0.00000, train_loss: 0.0065, val_loss: 1.0023, val_acc: 0.7520\n",
      "Epoch [28], last_lr: 0.00000, train_loss: 0.0066, val_loss: 1.0025, val_acc: 0.7528\n",
      "Epoch [29], last_lr: 0.00000, train_loss: 0.0064, val_loss: 1.0019, val_acc: 0.7522\n",
      "Training time: 2185.85 s\n"
     ]
    }
   ],
   "source": [
    "\n",
    "\n",
    "history += fit_one_cycle(int(epochs/4), max_lr/100, model, trainloader, testloader, \n",
    "                             grad_clip=grad_clip, \n",
    "                             weight_decay=weight_decay, \n",
    "                             opt_func=opt_func)\n",
    "# Print training time\n",
    "print('Training time: {:.2f} s'.format(time.time() - current_time))\n",
    "\n"
   ]
  },
  {
   "cell_type": "code",
   "execution_count": 17,
   "metadata": {},
   "outputs": [
    {
     "name": "stdout",
     "output_type": "stream",
     "text": [
      "Training time: 1.42 s\n"
     ]
    }
   ],
   "source": [
    "# Collect training time and result\n",
    "current_time = time.time()\n",
    "result = evaluate(model, testloader)\n",
    "result\n",
    "print('Training time: {:.2f} s'.format(time.time() - current_time))"
   ]
  },
  {
   "cell_type": "code",
   "execution_count": 18,
   "metadata": {},
   "outputs": [],
   "source": [
    "# Saving the model to h5 file\n",
    "torch.save(model.state_dict(), 'group22_pretrained_model.h5')"
   ]
  },
  {
   "cell_type": "code",
   "execution_count": 19,
   "metadata": {},
   "outputs": [
    {
     "name": "stdout",
     "output_type": "stream",
     "text": [
      "Confusion matrix:\n",
      "[[90  0  0 ...  0  1  0]\n",
      " [ 1 88  0 ...  0  0  0]\n",
      " [ 0  1 65 ...  0  4  0]\n",
      " ...\n",
      " [ 0  0  0 ... 87  1  0]\n",
      " [ 0  1  3 ...  0 58  0]\n",
      " [ 0  0  1 ...  0  0 74]]\n",
      "              precision    recall  f1-score   support\n",
      "\n",
      "           0       0.93      0.90      0.91       100\n",
      "           1       0.83      0.88      0.85       100\n",
      "           2       0.65      0.65      0.65       100\n",
      "           3       0.64      0.58      0.61       100\n",
      "           4       0.54      0.64      0.59       100\n",
      "           5       0.71      0.76      0.73       100\n",
      "           6       0.77      0.85      0.81       100\n",
      "           7       0.85      0.82      0.83       100\n",
      "           8       0.91      0.86      0.89       100\n",
      "           9       0.89      0.85      0.87       100\n",
      "          10       0.60      0.56      0.58       100\n",
      "          11       0.60      0.55      0.57       100\n",
      "          12       0.76      0.80      0.78       100\n",
      "          13       0.67      0.62      0.65       100\n",
      "          14       0.73      0.66      0.69       100\n",
      "          15       0.74      0.82      0.78       100\n",
      "          16       0.75      0.74      0.74       100\n",
      "          17       0.88      0.86      0.87       100\n",
      "          18       0.70      0.69      0.70       100\n",
      "          19       0.76      0.68      0.72       100\n",
      "          20       0.90      0.89      0.89       100\n",
      "          21       0.80      0.90      0.85       100\n",
      "          22       0.79      0.78      0.78       100\n",
      "          23       0.80      0.86      0.83       100\n",
      "          24       0.89      0.86      0.87       100\n",
      "          25       0.63      0.63      0.63       100\n",
      "          26       0.71      0.69      0.70       100\n",
      "          27       0.66      0.66      0.66       100\n",
      "          28       0.80      0.77      0.79       100\n",
      "          29       0.74      0.70      0.72       100\n",
      "          30       0.75      0.70      0.73       100\n",
      "          31       0.86      0.73      0.79       100\n",
      "          32       0.73      0.66      0.69       100\n",
      "          33       0.68      0.69      0.69       100\n",
      "          34       0.76      0.79      0.77       100\n",
      "          35       0.57      0.63      0.60       100\n",
      "          36       0.76      0.84      0.80       100\n",
      "          37       0.75      0.75      0.75       100\n",
      "          38       0.73      0.70      0.71       100\n",
      "          39       0.91      0.88      0.89       100\n",
      "          40       0.69      0.68      0.68       100\n",
      "          41       0.85      0.88      0.87       100\n",
      "          42       0.75      0.76      0.76       100\n",
      "          43       0.83      0.74      0.78       100\n",
      "          44       0.52      0.51      0.52       100\n",
      "          45       0.63      0.66      0.65       100\n",
      "          46       0.60      0.53      0.56       100\n",
      "          47       0.67      0.69      0.68       100\n",
      "          48       0.89      0.93      0.91       100\n",
      "          49       0.83      0.90      0.86       100\n",
      "          50       0.59      0.57      0.58       100\n",
      "          51       0.77      0.79      0.78       100\n",
      "          52       0.62      0.65      0.63       100\n",
      "          53       0.87      0.92      0.89       100\n",
      "          54       0.80      0.91      0.85       100\n",
      "          55       0.51      0.59      0.55       100\n",
      "          56       0.91      0.93      0.92       100\n",
      "          57       0.75      0.81      0.78       100\n",
      "          58       0.84      0.84      0.84       100\n",
      "          59       0.72      0.68      0.70       100\n",
      "          60       0.88      0.84      0.86       100\n",
      "          61       0.75      0.74      0.74       100\n",
      "          62       0.77      0.81      0.79       100\n",
      "          63       0.78      0.73      0.75       100\n",
      "          64       0.74      0.60      0.66       100\n",
      "          65       0.63      0.69      0.66       100\n",
      "          66       0.77      0.82      0.80       100\n",
      "          67       0.64      0.65      0.65       100\n",
      "          68       0.90      0.92      0.91       100\n",
      "          69       0.81      0.83      0.82       100\n",
      "          70       0.85      0.78      0.81       100\n",
      "          71       0.80      0.86      0.83       100\n",
      "          72       0.57      0.47      0.51       100\n",
      "          73       0.59      0.63      0.61       100\n",
      "          74       0.60      0.59      0.60       100\n",
      "          75       0.88      0.88      0.88       100\n",
      "          76       0.88      0.92      0.90       100\n",
      "          77       0.81      0.68      0.74       100\n",
      "          78       0.62      0.66      0.64       100\n",
      "          79       0.76      0.84      0.80       100\n",
      "          80       0.69      0.60      0.64       100\n",
      "          81       0.70      0.78      0.74       100\n",
      "          82       0.96      0.96      0.96       100\n",
      "          83       0.77      0.69      0.73       100\n",
      "          84       0.76      0.68      0.72       100\n",
      "          85       0.86      0.85      0.85       100\n",
      "          86       0.79      0.72      0.75       100\n",
      "          87       0.83      0.85      0.84       100\n",
      "          88       0.85      0.82      0.83       100\n",
      "          89       0.83      0.91      0.87       100\n",
      "          90       0.75      0.83      0.79       100\n",
      "          91       0.83      0.82      0.82       100\n",
      "          92       0.71      0.65      0.68       100\n",
      "          93       0.61      0.61      0.61       100\n",
      "          94       0.87      0.95      0.91       100\n",
      "          95       0.73      0.74      0.73       100\n",
      "          96       0.71      0.70      0.70       100\n",
      "          97       0.79      0.87      0.83       100\n",
      "          98       0.58      0.58      0.58       100\n",
      "          99       0.76      0.74      0.75       100\n",
      "\n",
      "    accuracy                           0.75     10000\n",
      "   macro avg       0.75      0.75      0.75     10000\n",
      "weighted avg       0.75      0.75      0.75     10000\n",
      "\n",
      "F1 score: 0.750540\n",
      "Recall score: 0.751400\n",
      "Accuracy score: 0.751400\n"
     ]
    }
   ],
   "source": [
    "# Generate testing accuracy, predicted label, confusion matrix, and table for classification report\n",
    "def test_label_predictions(model, device, test_loader):\n",
    "    model.eval()\n",
    "    actuals = []\n",
    "    predictions = []\n",
    "    with torch.no_grad():\n",
    "        for data, target in test_loader:\n",
    "            data, target = data.to(device), target.to(device)\n",
    "            output = model(data)\n",
    "            prediction = output.argmax(dim=1, keepdim=True)\n",
    "            actuals.extend(target.view_as(prediction))\n",
    "            predictions.extend(prediction)\n",
    "    return [i.item() for i in actuals], [i.item() for i in predictions]\n",
    "\n",
    "y_test, y_pred = test_label_predictions(model, device, testloader)\n",
    "cm=confusion_matrix(y_test, y_pred)\n",
    "cr=classification_report(y_test, y_pred)\n",
    "fs=f1_score(y_test,y_pred,average='weighted')\n",
    "rs=recall_score(y_test, y_pred,average='weighted')\n",
    "accuracy=accuracy_score(y_test, y_pred)\n",
    "print('Confusion matrix:')\n",
    "print(cm)\n",
    "print(cr)\n",
    "print('F1 score: %f' % fs)\n",
    "print('Recall score: %f' % rs)\n",
    "print('Accuracy score: %f' % accuracy)"
   ]
  },
  {
   "cell_type": "code",
   "execution_count": 24,
   "metadata": {},
   "outputs": [
    {
     "name": "stdout",
     "output_type": "stream",
     "text": [
      "----------------------------------------------------------------\n",
      "        Layer (type)               Output Shape         Param #\n",
      "================================================================\n",
      "            Conv2d-1           [-1, 64, 32, 32]           1,792\n",
      "       BatchNorm2d-2           [-1, 64, 32, 32]             128\n",
      "              ReLU-3           [-1, 64, 32, 32]               0\n",
      "            Conv2d-4          [-1, 128, 32, 32]          73,856\n",
      "       BatchNorm2d-5          [-1, 128, 32, 32]             256\n",
      "              ReLU-6          [-1, 128, 32, 32]               0\n",
      "         MaxPool2d-7          [-1, 128, 16, 16]               0\n",
      "            Conv2d-8          [-1, 128, 16, 16]         147,584\n",
      "       BatchNorm2d-9          [-1, 128, 16, 16]             256\n",
      "             ReLU-10          [-1, 128, 16, 16]               0\n",
      "           Conv2d-11          [-1, 128, 16, 16]         147,584\n",
      "      BatchNorm2d-12          [-1, 128, 16, 16]             256\n",
      "             ReLU-13          [-1, 128, 16, 16]               0\n",
      "           Conv2d-14          [-1, 256, 16, 16]         295,168\n",
      "      BatchNorm2d-15          [-1, 256, 16, 16]             512\n",
      "             ReLU-16          [-1, 256, 16, 16]               0\n",
      "        MaxPool2d-17            [-1, 256, 8, 8]               0\n",
      "           Conv2d-18            [-1, 512, 8, 8]       1,180,160\n",
      "      BatchNorm2d-19            [-1, 512, 8, 8]           1,024\n",
      "             ReLU-20            [-1, 512, 8, 8]               0\n",
      "        MaxPool2d-21            [-1, 512, 4, 4]               0\n",
      "           Conv2d-22            [-1, 512, 4, 4]       2,359,808\n",
      "      BatchNorm2d-23            [-1, 512, 4, 4]           1,024\n",
      "             ReLU-24            [-1, 512, 4, 4]               0\n",
      "           Conv2d-25            [-1, 512, 4, 4]       2,359,808\n",
      "      BatchNorm2d-26            [-1, 512, 4, 4]           1,024\n",
      "             ReLU-27            [-1, 512, 4, 4]               0\n",
      "           Conv2d-28           [-1, 1028, 4, 4]       4,738,052\n",
      "      BatchNorm2d-29           [-1, 1028, 4, 4]           2,056\n",
      "             ReLU-30           [-1, 1028, 4, 4]               0\n",
      "        MaxPool2d-31           [-1, 1028, 2, 2]               0\n",
      "           Conv2d-32           [-1, 1028, 2, 2]       9,512,084\n",
      "      BatchNorm2d-33           [-1, 1028, 2, 2]           2,056\n",
      "             ReLU-34           [-1, 1028, 2, 2]               0\n",
      "           Conv2d-35           [-1, 1028, 2, 2]       9,512,084\n",
      "      BatchNorm2d-36           [-1, 1028, 2, 2]           2,056\n",
      "             ReLU-37           [-1, 1028, 2, 2]               0\n",
      "        MaxPool2d-38           [-1, 1028, 1, 1]               0\n",
      "          Flatten-39                 [-1, 1028]               0\n",
      "           Linear-40                  [-1, 100]         102,900\n",
      "================================================================\n",
      "Total params: 30,441,528\n",
      "Trainable params: 30,441,528\n",
      "Non-trainable params: 0\n",
      "----------------------------------------------------------------\n",
      "Input size (MB): 0.01\n",
      "Forward/backward pass size (MB): 9.68\n",
      "Params size (MB): 116.13\n",
      "Estimated Total Size (MB): 125.81\n",
      "----------------------------------------------------------------\n",
      "None\n"
     ]
    }
   ],
   "source": [
    "from torchsummary import summary\n",
    "\n",
    "print(summary(model,(3, 32, 32)))"
   ]
  },
  {
   "cell_type": "code",
   "execution_count": null,
   "metadata": {},
   "outputs": [],
   "source": []
  }
 ],
 "metadata": {
  "kernelspec": {
   "display_name": "Python 3",
   "language": "python",
   "name": "python3"
  },
  "language_info": {
   "codemirror_mode": {
    "name": "ipython",
    "version": 3
   },
   "file_extension": ".py",
   "mimetype": "text/x-python",
   "name": "python",
   "nbconvert_exporter": "python",
   "pygments_lexer": "ipython3",
   "version": "3.8.17"
  },
  "orig_nbformat": 4
 },
 "nbformat": 4,
 "nbformat_minor": 2
}
