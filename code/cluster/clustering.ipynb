{
 "cells": [
  {
   "cell_type": "code",
   "execution_count": 1,
   "metadata": {},
   "outputs": [
    {
     "name": "stderr",
     "output_type": "stream",
     "text": [
      "/Users/sebastiancavada/anaconda3/envs/tinyCL/lib/python3.10/site-packages/tqdm/auto.py:21: TqdmWarning: IProgress not found. Please update jupyter and ipywidgets. See https://ipywidgets.readthedocs.io/en/stable/user_install.html\n",
      "  from .autonotebook import tqdm as notebook_tqdm\n"
     ]
    }
   ],
   "source": [
    "from micromind import Metric\n",
    "from micromind.utils.parse import parse_arguments\n",
    "\n",
    "import torch\n",
    "import torch.nn as nn\n",
    "import torchvision\n",
    "import torchvision.transforms as transforms\n",
    "\n",
    "import os\n",
    "import random\n",
    "import importlib\n",
    "import numpy as np\n",
    "\n",
    "from tqdm import tqdm\n",
    "\n",
    "batch_size = 64"
   ]
  },
  {
   "cell_type": "code",
   "execution_count": 23,
   "metadata": {},
   "outputs": [
    {
     "name": "stdout",
     "output_type": "stream",
     "text": [
      "Running on the MPS\n"
     ]
    }
   ],
   "source": [
    "from micromind import MicroMind\n",
    "from micromind.networks import PhiNet\n",
    "\n",
    "import torch\n",
    "import torch.nn as nn\n",
    "\n",
    "model_path = \"../pretrained/finetuned/epoch_165_val_loss_0.9951.ckpt\"\n",
    "\n",
    "if torch.cuda.is_available():\n",
    "    device = torch.device(\"cuda:0\")\n",
    "    print(\"Running on the GPU\")\n",
    "elif torch.backends.mps.is_available: \n",
    "    device = torch.device(\"mps\")\n",
    "    print(\"Running on the MPS\")\n",
    "else:\n",
    "    device = torch.device(\"cpu\")\n",
    "    print(\"Running on the CPU\")\n",
    "\n",
    "class ImageClassification(MicroMind):\n",
    "\n",
    "    # test 1 with n as input vector size and m classes custom d\n",
    "    # n has to be calculated from the output of the neural network of the feature extractor\n",
    "    def __init__(self, *args, **kwargs):\n",
    "        super().__init__(*args, **kwargs)\n",
    "\n",
    "        self.input = 344\n",
    "        self.output = 100\n",
    "\n",
    "        self.modules[\"feature_extractor\"] = PhiNet(\n",
    "            input_shape=(3, 224, 224),\n",
    "            alpha=0.9,\n",
    "            num_layers=7,\n",
    "            beta=0.5,\n",
    "            t_zero=4.0,\n",
    "            include_top=False,\n",
    "            num_classes=1000,\n",
    "            compatibility=False,\n",
    "            divisor=8,\n",
    "            downsampling_layers=[4,5,7]\n",
    "        )\n",
    "\n",
    "        # Taking away the classifier from pretrained model\n",
    "        pretrained_dict = torch.load(model_path, map_location=device)\n",
    "\n",
    "\n",
    "        #loading the new model\n",
    "        self.modules[\"feature_extractor\"].load_state_dict(pretrained_dict[\"feature_extractor\"])        \n",
    "        for _, param in self.modules[\"feature_extractor\"].named_parameters():    \n",
    "            param.requires_grad = False\n",
    "\n",
    "        self.modules[\"classifier\"] = nn.Sequential(                \n",
    "            nn.AdaptiveAvgPool2d((1, 1)),\n",
    "            nn.Flatten(),\n",
    "            nn.Linear(self.input, self.output)               \n",
    "        )    \n",
    "\n",
    "        self.modules[\"classifier\"].load_state_dict(pretrained_dict[\"classifier\"])\n",
    "\n",
    "    def forward(self, batch):        \n",
    "        x = self.modules[\"feature_extractor\"](batch)    \n",
    "        x = self.modules[\"classifier\"](x)    \n",
    "        return x\n",
    "\n",
    "    def compute_loss(self, pred, batch):\n",
    "        return nn.CrossEntropyLoss()(pred, batch[1])                   \n",
    "        "
   ]
  },
  {
   "cell_type": "code",
   "execution_count": 35,
   "metadata": {},
   "outputs": [
    {
     "name": "stdout",
     "output_type": "stream",
     "text": [
      "Files already downloaded and verified\n"
     ]
    }
   ],
   "source": [
    "train_transform = transforms.Compose(\n",
    "        [\n",
    "         transforms.ToTensor(), \n",
    "         transforms.Normalize((0.5070751592371323, 0.48654887331495095, 0.4409178433670343), (0.26733428587941854, 0.25643846292120615, 0.2761504713263903)), \n",
    "         transforms.Resize((160, 160), antialias=True), \n",
    "         transforms.RandomHorizontalFlip(0.5),\n",
    "         transforms.RandomRotation(10)\n",
    "        ] \n",
    "    )\n",
    "\n",
    "trainset = torchvision.datasets.CIFAR100(\n",
    "    root=\"../data/cifar-100\", train=True, download=True, transform=train_transform\n",
    ")\n",
    "\n",
    "train_loader = torch.utils.data.DataLoader(\n",
    "    trainset, \n",
    "    batch_size=batch_size, \n",
    "    shuffle=True, \n",
    "    num_workers=2,    \n",
    ")"
   ]
  },
  {
   "cell_type": "code",
   "execution_count": 36,
   "metadata": {},
   "outputs": [
    {
     "name": "stdout",
     "output_type": "stream",
     "text": [
      "Files already downloaded and verified\n"
     ]
    }
   ],
   "source": [
    "test_transform = transforms.Compose(\n",
    "        [\n",
    "         transforms.ToTensor(), \n",
    "         transforms.Normalize((0.5070751592371323, 0.48654887331495095, 0.4409178433670343), (0.26733428587941854, 0.25643846292120615, 0.2761504713263903)), \n",
    "         transforms.Resize((160, 160), antialias=True), \n",
    "        ] \n",
    "    )\n",
    "\n",
    "testset = torchvision.datasets.CIFAR100(\n",
    "    root=\"../data/cifar-100\", train=False, download=True, transform=train_transform\n",
    ")\n",
    "\n",
    "test_loader = torch.utils.data.DataLoader(\n",
    "    trainset, \n",
    "    batch_size=batch_size, \n",
    "    shuffle=True, \n",
    "    num_workers=2,    \n",
    ")"
   ]
  },
  {
   "cell_type": "code",
   "execution_count": 37,
   "metadata": {},
   "outputs": [],
   "source": [
    "model = ImageClassification()"
   ]
  },
  {
   "cell_type": "code",
   "execution_count": 38,
   "metadata": {},
   "outputs": [
    {
     "name": "stdout",
     "output_type": "stream",
     "text": [
      "Tensor x: tensor([])\n",
      "Tensor y: tensor([])\n",
      "join tensors:\n",
      "tensor([], size=(2, 0))\n"
     ]
    }
   ],
   "source": [
    "# creating tensors \n",
    "x = torch.tensor([]) \n",
    "y = torch.tensor([]) \n",
    "  \n",
    "# printing above created tensors \n",
    "print(\"Tensor x:\", x) \n",
    "print(\"Tensor y:\", y) \n",
    "  \n",
    "# join above tensor using \"torch.stack()\" \n",
    "print(\"join tensors:\") \n",
    "t = torch.stack((x,y)) \n",
    "print(t)"
   ]
  },
  {
   "cell_type": "code",
   "execution_count": 39,
   "metadata": {},
   "outputs": [],
   "source": [
    "device = 'mps'\n",
    "\n",
    "model.modules.to(device)\n",
    "it = iter(train_loader)\n",
    "\n",
    "batch = next(it)\n",
    "batch = [x.to(device) for x in batch]\n",
    "\n",
    "x = model(batch[0])\n",
    "y = batch[1]\n",
    "\n",
    "for j in range(780):    \n",
    "    batch = next(it)\n",
    "    batch = [x.to(device) for x in batch]\n",
    "\n",
    "    output = model(batch[0]).to(device)\n",
    "    labels = batch[1].to(device)\n",
    "\n",
    "    x = torch.cat((x, output))\n",
    "    y = torch.cat((y, labels))    \n"
   ]
  },
  {
   "cell_type": "code",
   "execution_count": 47,
   "metadata": {},
   "outputs": [
    {
     "name": "stdout",
     "output_type": "stream",
     "text": [
      "49984\n",
      "49984\n"
     ]
    }
   ],
   "source": [
    "print(len(x))\n",
    "print(len(y))"
   ]
  },
  {
   "cell_type": "code",
   "execution_count": 18,
   "metadata": {},
   "outputs": [
    {
     "name": "stdout",
     "output_type": "stream",
     "text": [
      "torch.Size([49984, 344])\n",
      "torch.Size([49984])\n"
     ]
    }
   ],
   "source": [
    "print(x.shape)\n",
    "print(y.shape)"
   ]
  },
  {
   "cell_type": "code",
   "execution_count": 53,
   "metadata": {},
   "outputs": [],
   "source": [
    "predicted = x.to('cpu').detach().numpy()\n",
    "predicted = np.argmax(predicted, axis=1)\n",
    "labels = y.to('cpu').detach().numpy()"
   ]
  },
  {
   "cell_type": "markdown",
   "metadata": {},
   "source": [
    "# Some checks"
   ]
  },
  {
   "cell_type": "code",
   "execution_count": null,
   "metadata": {},
   "outputs": [
    {
     "name": "stdout",
     "output_type": "stream",
     "text": [
      "(49984,)\n"
     ]
    }
   ],
   "source": [
    "print(predicted.shape)"
   ]
  },
  {
   "cell_type": "code",
   "execution_count": 55,
   "metadata": {},
   "outputs": [
    {
     "data": {
      "text/plain": [
       "(array([505., 506., 504., 488., 466., 505., 501., 488., 507., 496., 485.,\n",
       "        446., 465., 476., 509., 485., 500., 508., 493., 475., 507., 528.,\n",
       "        487., 525., 524., 475., 467., 502., 492., 482., 516., 495., 463.,\n",
       "        494., 512., 473., 515., 480., 520., 513., 494., 506., 477., 512.,\n",
       "        491., 514., 516., 472., 514., 527., 501., 515., 571., 517., 524.,\n",
       "        460., 526., 483., 510., 462., 510., 530., 494., 508., 495., 488.,\n",
       "        494., 484., 522., 523., 512., 541., 426., 516., 477., 516., 517.,\n",
       "        515., 496., 496., 474., 536., 507., 494., 484., 506., 508., 522.,\n",
       "        518., 506., 501., 501., 481., 485., 518., 511., 474., 512., 501.,\n",
       "        515.]),\n",
       " array([ 0.  ,  0.99,  1.98,  2.97,  3.96,  4.95,  5.94,  6.93,  7.92,\n",
       "         8.91,  9.9 , 10.89, 11.88, 12.87, 13.86, 14.85, 15.84, 16.83,\n",
       "        17.82, 18.81, 19.8 , 20.79, 21.78, 22.77, 23.76, 24.75, 25.74,\n",
       "        26.73, 27.72, 28.71, 29.7 , 30.69, 31.68, 32.67, 33.66, 34.65,\n",
       "        35.64, 36.63, 37.62, 38.61, 39.6 , 40.59, 41.58, 42.57, 43.56,\n",
       "        44.55, 45.54, 46.53, 47.52, 48.51, 49.5 , 50.49, 51.48, 52.47,\n",
       "        53.46, 54.45, 55.44, 56.43, 57.42, 58.41, 59.4 , 60.39, 61.38,\n",
       "        62.37, 63.36, 64.35, 65.34, 66.33, 67.32, 68.31, 69.3 , 70.29,\n",
       "        71.28, 72.27, 73.26, 74.25, 75.24, 76.23, 77.22, 78.21, 79.2 ,\n",
       "        80.19, 81.18, 82.17, 83.16, 84.15, 85.14, 86.13, 87.12, 88.11,\n",
       "        89.1 , 90.09, 91.08, 92.07, 93.06, 94.05, 95.04, 96.03, 97.02,\n",
       "        98.01, 99.  ]),\n",
       " <BarContainer object of 100 artists>)"
      ]
     },
     "execution_count": 55,
     "metadata": {},
     "output_type": "execute_result"
    },
    {
     "data": {
      "image/png": "[encoded data removed]",
      "text/plain": [
       "<Figure size 640x480 with 1 Axes>"
      ]
     },
     "metadata": {},
     "output_type": "display_data"
    }
   ],
   "source": [
    "import matplotlib.pyplot as plt\n",
    "plt.hist(predicted, bins=100)"
   ]
  },
  {
   "cell_type": "code",
   "execution_count": 56,
   "metadata": {},
   "outputs": [
    {
     "data": {
      "text/plain": [
       "100"
      ]
     },
     "execution_count": 56,
     "metadata": {},
     "output_type": "execute_result"
    }
   ],
   "source": [
    "len(torch.unique(y))"
   ]
  },
  {
   "cell_type": "code",
   "execution_count": 65,
   "metadata": {},
   "outputs": [
    {
     "data": {
      "text/plain": [
       "<matplotlib.image.AxesImage at 0x295b12980>"
      ]
     },
     "execution_count": 65,
     "metadata": {},
     "output_type": "execute_result"
    },
    {
     "data": {
      "image/png": "[encoded data removed]",
      "text/plain": [
       "<Figure size 640x480 with 1 Axes>"
      ]
     },
     "metadata": {},
     "output_type": "display_data"
    }
   ],
   "source": [
    "c = np.zeros((100,100))\n",
    "for i in range(len(predicted)):    \n",
    "    c[predicted[i]][labels[i]] += 1\n",
    "\n",
    "plt.xlabel(\"PREDICTED\")\n",
    "plt.ylabel(\"LABEL\")\n",
    "plt.title(\"Confusion Matrix\")\n",
    "plt.imshow(c, cmap='Greys_r')"
   ]
  },
  {
   "cell_type": "code",
   "execution_count": 74,
   "metadata": {},
   "outputs": [
    {
     "name": "stdout",
     "output_type": "stream",
     "text": [
      "0.867217509603073\n"
     ]
    }
   ],
   "source": [
    "diagonal = np.sum(np.diag(c))\n",
    "\n",
    "print(diagonal/len(predicted))\n"
   ]
  },
  {
   "cell_type": "code",
   "execution_count": 71,
   "metadata": {},
   "outputs": [
    {
     "name": "stdout",
     "output_type": "stream",
     "text": [
      "0 0\n",
      "470.0\n",
      "83 0\n",
      "12.0\n"
     ]
    }
   ],
   "source": [
    "\n",
    "for x in range(100):\n",
    "    for y in range(1):\n",
    "        if(c[x][y] > 10):\n",
    "            print(x, y)        \n",
    "            print(c[x][y])"
   ]
  },
  {
   "cell_type": "code",
   "execution_count": 43,
   "metadata": {},
   "outputs": [
    {
     "data": {
      "text/plain": [
       "<matplotlib.image.AxesImage at 0x7f917ad39a90>"
      ]
     },
     "execution_count": 43,
     "metadata": {},
     "output_type": "execute_result"
    },
    {
     "data": {
      "image/png": "[encoded data removed]",
      "text/plain": [
       "<Figure size 640x480 with 1 Axes>"
      ]
     },
     "metadata": {},
     "output_type": "display_data"
    }
   ],
   "source": [
    "## majority voting for each class\n",
    "b = np.argmax(a, axis=0)\n",
    "\n",
    "c = np.zeros((centroids.shape[0],100))\n",
    "for x in range(100):    \n",
    "    c[b[x]][x] = 1\n",
    "\n",
    "plt.xlabel(\"Classes\")\n",
    "plt.ylabel(\"Cluster\\ncount\")\n",
    "plt.title(\"Majority belonging to a cluster for every label class number of clustering = \" + str(centroids.shape[0]))\n",
    "plt.imshow(c, cmap='Greys_r')"
   ]
  },
  {
   "cell_type": "code",
   "execution_count": 44,
   "metadata": {},
   "outputs": [
    {
     "name": "stdout",
     "output_type": "stream",
     "text": [
      "15193.0\n"
     ]
    }
   ],
   "source": [
    "# use the second matrix as a mask \n",
    "\n",
    "false_negative = np.sum(np.ma.array(a,mask=c))\n",
    "print(false_negative)"
   ]
  },
  {
   "cell_type": "code",
   "execution_count": 46,
   "metadata": {},
   "outputs": [
    {
     "data": {
      "text/plain": [
       "0.3039572663252241"
      ]
     },
     "execution_count": 46,
     "metadata": {},
     "output_type": "execute_result"
    }
   ],
   "source": [
    "false_negative/clusters.shape[0]"
   ]
  },
  {
   "cell_type": "code",
   "execution_count": 17,
   "metadata": {},
   "outputs": [
    {
     "name": "stdout",
     "output_type": "stream",
     "text": [
      "{0: 0, 1: 0, 53: 0, 54: 0, 57: 0, 62: 0, 70: 0, 82: 0, 83: 0, 92: 0, 4: 1, 27: 1, 29: 1, 32: 1, 44: 1, 50: 1, 51: 1, 63: 1, 64: 1, 74: 1, 75: 1, 77: 1, 78: 1, 80: 1, 2: 2, 5: 2, 11: 2, 20: 2, 25: 2, 35: 2, 36: 2, 39: 2, 46: 2, 84: 2, 86: 2, 87: 2, 94: 2, 98: 2, 3: 3, 15: 3, 19: 3, 21: 3, 31: 3, 34: 3, 38: 3, 42: 3, 43: 3, 65: 3, 66: 3, 88: 3, 97: 3, 6: 4, 7: 4, 14: 4, 18: 4, 24: 4, 26: 4, 45: 4, 79: 4, 30: 5, 55: 5, 67: 5, 72: 5, 73: 5, 91: 5, 93: 5, 95: 5, 9: 6, 10: 6, 16: 6, 22: 6, 23: 6, 28: 6, 40: 6, 60: 6, 61: 6, 69: 6, 71: 6, 99: 6, 12: 7, 17: 7, 37: 7, 49: 7, 68: 7, 76: 7, 90: 7, 8: 8, 13: 8, 41: 8, 48: 8, 58: 8, 81: 8, 85: 8, 89: 8, 33: 9, 47: 9, 52: 9, 56: 9, 59: 9, 96: 9}\n"
     ]
    }
   ],
   "source": [
    "# map each line to cluster: label to cluster belonging\n",
    "\n",
    "maps = {}\n",
    "\n",
    "for i, x in enumerate(c):\n",
    "    for j, y in enumerate(x):\n",
    "        if(y==1):\n",
    "            maps[j] = i\n",
    "    \n",
    "print(maps)"
   ]
  },
  {
   "cell_type": "code",
   "execution_count": 28,
   "metadata": {},
   "outputs": [
    {
     "data": {
      "text/plain": [
       "array([ 8.,  7.,  9.,  7., 19.,  8.,  6., 18.,  6., 12.])"
      ]
     },
     "execution_count": 28,
     "metadata": {},
     "output_type": "execute_result"
    }
   ],
   "source": [
    "np.sum(c, axis=1)"
   ]
  },
  {
   "cell_type": "code",
   "execution_count": null,
   "metadata": {},
   "outputs": [],
   "source": []
  }
 ],
 "metadata": {
  "kernelspec": {
   "display_name": "ai701",
   "language": "python",
   "name": "python3"
  },
  "language_info": {
   "codemirror_mode": {
    "name": "ipython",
    "version": 3
   },
   "file_extension": ".py",
   "mimetype": "text/x-python",
   "name": "python",
   "nbconvert_exporter": "python",
   "pygments_lexer": "ipython3",
   "version": "3.10.13"
  },
  "orig_nbformat": 4
 },
 "nbformat": 4,
 "nbformat_minor": 2
}
