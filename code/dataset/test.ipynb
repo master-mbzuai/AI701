{
 "cells": [
  {
   "cell_type": "code",
   "execution_count": 23,
   "metadata": {},
   "outputs": [],
   "source": [
    "import numpy as np"
   ]
  },
  {
   "cell_type": "code",
   "execution_count": 24,
   "metadata": {},
   "outputs": [
    {
     "name": "stdout",
     "output_type": "stream",
     "text": [
      "['apple', 'aquarium_fish', 'baby', 'bear', 'beaver', 'bed', 'bee', 'beetle', 'bicycle', 'bottle', 'bowl', 'boy', 'bridge', 'bus', 'butterfly', 'camel', 'can', 'castle', 'caterpillar', 'cattle', 'chair', 'chimpanzee', 'clock', 'cloud', 'cockroach', 'couch', 'crab', 'crocodile', 'cup', 'dinosaur', 'dolphin', 'elephant', 'flatfish', 'forest', 'fox', 'girl', 'hamster', 'house', 'kangaroo', 'keyboard', 'lamp', 'lawn_mower', 'leopard', 'lion', 'lizard', 'lobster', 'man', 'maple_tree', 'motorcycle', 'mountain', 'mouse', 'mushroom', 'oak_tree', 'orange', 'orchid', 'otter', 'palm_tree', 'pear', 'pickup_truck', 'pine_tree', 'plain', 'plate', 'poppy', 'porcupine', 'possum', 'rabbit', 'raccoon', 'ray', 'road', 'rocket', 'rose', 'sea', 'seal', 'shark', 'shrew', 'skunk', 'skyscraper', 'snail', 'snake', 'spider', 'squirrel', 'streetcar', 'sunflower', 'sweet_pepper', 'table', 'tank', 'telephone', 'television', 'tiger', 'tractor', 'train', 'trout', 'tulip', 'turtle', 'wardrobe', 'whale', 'willow_tree', 'wolf', 'woman', 'worm']\n",
      "[ 0  1  2  3  4  5  6  7  8  9 10 11 12 13 14 15 16 17 18 19 20 21 22 23\n",
      " 24 25 26 27 28 29 30 31 32 33 34 35 36 37 38 39 40 41 42 43 44 45 46 47\n",
      " 48 49 50 51 52 53 54 55 56 57 58 59 60 61 62 63 64 65 66 67 68 69 70 71\n",
      " 72 73 74 75 76 77 78 79 80 81 82 83 84 85 86 87 88 89 90 91 92 93 94 95\n",
      " 96 97 98 99]\n"
     ]
    }
   ],
   "source": [
    "fine_labels = ['apple', 'aquarium_fish', 'baby', 'bear', 'beaver', 'bed', 'bee', 'beetle', 'bicycle', 'bottle', 'bowl', 'boy', 'bridge', 'bus', 'butterfly', 'camel', 'can', 'castle', 'caterpillar', 'cattle', 'chair', 'chimpanzee', 'clock', 'cloud', 'cockroach', 'couch', 'crab', 'crocodile', 'cup', 'dinosaur', 'dolphin', 'elephant', 'flatfish', 'forest', 'fox', 'girl', 'hamster', 'house', 'kangaroo', 'keyboard', 'lamp', 'lawn_mower', 'leopard', 'lion', 'lizard', 'lobster', 'man', 'maple_tree', 'motorcycle', 'mountain', 'mouse', 'mushroom', 'oak_tree', 'orange', 'orchid', 'otter', 'palm_tree', 'pear', 'pickup_truck', 'pine_tree', 'plain', 'plate', 'poppy', 'porcupine', 'possum', 'rabbit', 'raccoon', 'ray', 'road', 'rocket', 'rose', 'sea', 'seal', 'shark', 'shrew', 'skunk', 'skyscraper', 'snail', 'snake', 'spider', 'squirrel', 'streetcar', 'sunflower', 'sweet_pepper', 'table', 'tank', 'telephone', 'television', 'tiger', 'tractor', 'train', 'trout', 'tulip', 'turtle', 'wardrobe', 'whale', 'willow_tree', 'wolf', 'woman', 'worm']\n",
    "fine_indexes = np.arange(100)\n",
    "\n",
    "class_hierarchy = {\n",
    "    \"aquatic mammals\": [\"beaver\", \"dolphin\", \"otter\", \"seal\", \"whale\"],\n",
    "    \"fish\": [\"aquarium_fish\", \"flatfish\", \"ray\", \"shark\", \"trout\"],\n",
    "    \"flowers\": [\"orchid\", \"poppy\", \"rose\", \"sunflower\", \"tulip\"],\n",
    "    \"food containers\": [\"bottle\", \"bowl\", \"can\", \"cup\", \"plate\"],\n",
    "    \"fruit and vegetables\": [\"apple\", \"mushroom\", \"orange\", \"pear\", \"sweet_pepper\"],\n",
    "    \"household electrical devices\": [\"clock\", \"keyboard\", \"lamp\", \"telephone\", \"television\"],\n",
    "    \"household furniture\": [\"bed\", \"chair\", \"couch\", \"table\", \"wardrobe\"],\n",
    "    \"insects\": [\"bee\", \"beetle\", \"butterfly\", \"caterpillar\", \"cockroach\"],\n",
    "    \"large carnivores\": [\"bear\", \"leopard\", \"lion\", \"tiger\", \"wolf\"],\n",
    "    \"large man-made outdoor things\": [\"bridge\", \"castle\", \"house\", \"road\", \"skyscraper\"],\n",
    "    \"large natural outdoor scenes\": [\"cloud\", \"forest\", \"mountain\", \"plain\", \"sea\"],\n",
    "    \"large omnivores and herbivores\": [\"camel\", \"cattle\", \"chimpanzee\", \"elephant\", \"kangaroo\"],\n",
    "    \"medium-sized mammals\": [\"fox\", \"porcupine\", \"possum\", \"raccoon\", \"skunk\"],\n",
    "    \"non-insect invertebrates\": [\"crab\", \"lobster\", \"snail\", \"spider\", \"worm\"],\n",
    "    \"people\": [\"baby\", \"boy\", \"girl\", \"man\", \"woman\"],\n",
    "    \"reptiles\": [\"crocodile\", \"dinosaur\", \"lizard\", \"snake\", \"turtle\"],\n",
    "    \"small mammals\": [\"hamster\", \"mouse\", \"rabbit\", \"shrew\", \"squirrel\"],\n",
    "    \"trees\": [\"maple_tree\", \"oak_tree\", \"palm_tree\", \"pine_tree\", \"willow_tree\"],\n",
    "    \"vehicles 1\": [\"bicycle\", \"bus\", \"motorcycle\", \"pickup_truck\", \"train\"],\n",
    "    \"vehicles 2\": [\"lawn_mower\", \"rocket\", \"streetcar\", \"tank\", \"tractor\"]\n",
    "}\n",
    "\n",
    "# Mapping the original classes to the new broader categories as specified\n",
    "new_class_hierarchy = {\n",
    "    \"aquatic\": [\"aquatic mammals\", \"fish\"],\n",
    "    \"plants\": [\"flowers\", \"trees\"],\n",
    "    \"food\": [\"fruit and vegetables\", \"food containers\"],\n",
    "    \"household\": [\"household electrical devices\", \"household furniture\"],\n",
    "    \"insects\": [\"insects\", \"non-insect invertebrates\"],\n",
    "    \"outdoor_scenes\": [\"large natural outdoor scenes\", \"large man-made outdoor things\"],\n",
    "    \"large_animals\": [\"large carnivores\", \"large omnivores and herbivores\"],\n",
    "    \"medium_animals\": [\"medium-sized mammals\", \"small mammals\"],\n",
    "    \"vehicles\": [\"vehicles 1\", \"vehicles 2\"],\n",
    "    \"other\": [\"people\", \"reptiles\"]\n",
    "}\n",
    "\n",
    "print(fine_labels)\n",
    "print(fine_indexes)"
   ]
  },
  {
   "cell_type": "code",
   "execution_count": 25,
   "metadata": {},
   "outputs": [
    {
     "name": "stdout",
     "output_type": "stream",
     "text": [
      "{'aquatic': ['aquarium_fish', 'beaver', 'dolphin', 'flatfish', 'otter', 'ray', 'seal', 'shark', 'trout', 'whale'], 'plants': ['maple_tree', 'oak_tree', 'orchid', 'palm_tree', 'pine_tree', 'poppy', 'rose', 'sunflower', 'tulip', 'willow_tree'], 'food': ['apple', 'bottle', 'bowl', 'can', 'cup', 'mushroom', 'orange', 'pear', 'plate', 'sweet_pepper'], 'household': ['bed', 'chair', 'clock', 'couch', 'keyboard', 'lamp', 'table', 'telephone', 'television', 'wardrobe'], 'insects': ['bee', 'beetle', 'butterfly', 'caterpillar', 'cockroach', 'crab', 'lobster', 'snail', 'spider', 'worm'], 'outdoor_scenes': ['bridge', 'castle', 'cloud', 'forest', 'house', 'mountain', 'plain', 'road', 'sea', 'skyscraper'], 'large_animals': ['bear', 'camel', 'cattle', 'chimpanzee', 'elephant', 'kangaroo', 'leopard', 'lion', 'tiger', 'wolf'], 'medium_animals': ['fox', 'hamster', 'mouse', 'porcupine', 'possum', 'rabbit', 'raccoon', 'shrew', 'skunk', 'squirrel'], 'vehicles': ['bicycle', 'bus', 'lawn_mower', 'motorcycle', 'pickup_truck', 'rocket', 'streetcar', 'tank', 'tractor', 'train'], 'other': ['baby', 'boy', 'crocodile', 'dinosaur', 'girl', 'lizard', 'man', 'snake', 'turtle', 'woman']}\n"
     ]
    }
   ],
   "source": [
    "classes_for_parent = {}\n",
    "for x in new_class_hierarchy.keys():\n",
    "    classes_for_parent[x] = sorted([j for y in new_class_hierarchy[x] for j in class_hierarchy[y]])\n",
    "\n",
    "print(classes_for_parent)"
   ]
  },
  {
   "cell_type": "code",
   "execution_count": 26,
   "metadata": {},
   "outputs": [
    {
     "name": "stdout",
     "output_type": "stream",
     "text": [
      "{'aquatic': [1, 4, 30, 32, 55, 67, 72, 73, 91, 95], 'plants': [47, 52, 54, 56, 59, 62, 70, 82, 92, 96], 'food': [0, 9, 10, 16, 28, 51, 53, 57, 61, 83], 'household': [5, 20, 22, 25, 39, 40, 84, 86, 87, 94], 'insects': [6, 7, 14, 18, 24, 26, 45, 77, 79, 99], 'outdoor_scenes': [12, 17, 23, 33, 37, 49, 60, 68, 71, 76], 'large_animals': [3, 15, 19, 21, 31, 38, 42, 43, 88, 97], 'medium_animals': [34, 36, 50, 63, 64, 65, 66, 74, 75, 80], 'vehicles': [8, 13, 41, 48, 58, 69, 81, 85, 89, 90], 'other': [2, 11, 27, 29, 35, 44, 46, 78, 93, 98]}\n"
     ]
    }
   ],
   "source": [
    "indexes_for_parent = {}\n",
    "\n",
    "for x in classes_for_parent.keys():\n",
    "    indexes_current_parent = []\n",
    "    for y in classes_for_parent[x]:        \n",
    "        index = fine_labels.index(y)\n",
    "        indexes_current_parent.append(index)\n",
    "    indexes_for_parent[x] = indexes_current_parent\n",
    "\n",
    "print(indexes_for_parent)"
   ]
  },
  {
   "cell_type": "code",
   "execution_count": 27,
   "metadata": {},
   "outputs": [
    {
     "name": "stdout",
     "output_type": "stream",
     "text": [
      "[1, 4, 30, 32, 55, 67, 72, 73, 91, 95]\n",
      "[47, 52, 54, 56, 59, 62, 70, 82, 92, 96]\n",
      "[0, 9, 10, 16, 28, 51, 53, 57, 61, 83]\n",
      "[5, 20, 22, 25, 39, 40, 84, 86, 87, 94]\n",
      "[6, 7, 14, 18, 24, 26, 45, 77, 79, 99]\n",
      "[12, 17, 23, 33, 37, 49, 60, 68, 71, 76]\n",
      "[3, 15, 19, 21, 31, 38, 42, 43, 88, 97]\n",
      "[34, 36, 50, 63, 64, 65, 66, 74, 75, 80]\n",
      "[8, 13, 41, 48, 58, 69, 81, 85, 89, 90]\n",
      "[2, 11, 27, 29, 35, 44, 46, 78, 93, 98]\n",
      "{1: 0, 4: 0, 30: 0, 32: 0, 55: 0, 67: 0, 72: 0, 73: 0, 91: 0, 95: 0, 47: 1, 52: 1, 54: 1, 56: 1, 59: 1, 62: 1, 70: 1, 82: 1, 92: 1, 96: 1, 0: 2, 9: 2, 10: 2, 16: 2, 28: 2, 51: 2, 53: 2, 57: 2, 61: 2, 83: 2, 5: 3, 20: 3, 22: 3, 25: 3, 39: 3, 40: 3, 84: 3, 86: 3, 87: 3, 94: 3, 6: 4, 7: 4, 14: 4, 18: 4, 24: 4, 26: 4, 45: 4, 77: 4, 79: 4, 99: 4, 12: 5, 17: 5, 23: 5, 33: 5, 37: 5, 49: 5, 60: 5, 68: 5, 71: 5, 76: 5, 3: 6, 15: 6, 19: 6, 21: 6, 31: 6, 38: 6, 42: 6, 43: 6, 88: 6, 97: 6, 34: 7, 36: 7, 50: 7, 63: 7, 64: 7, 65: 7, 66: 7, 74: 7, 75: 7, 80: 7, 8: 8, 13: 8, 41: 8, 48: 8, 58: 8, 69: 8, 81: 8, 85: 8, 89: 8, 90: 8, 2: 9, 11: 9, 27: 9, 29: 9, 35: 9, 44: 9, 46: 9, 78: 9, 93: 9, 98: 9}\n"
     ]
    }
   ],
   "source": [
    "cluster_mapping = {}\n",
    "\n",
    "for i, x in enumerate(indexes_for_parent.keys()):\n",
    "    print(indexes_for_parent[x])\n",
    "    for y in indexes_for_parent[x]:\n",
    "        cluster_mapping[y] = i\n",
    "\n",
    "print(cluster_mapping)"
   ]
  },
  {
   "cell_type": "code",
   "execution_count": 36,
   "metadata": {},
   "outputs": [
    {
     "name": "stdout",
     "output_type": "stream",
     "text": [
      "{1: 0, 4: 1, 30: 2, 32: 3, 55: 4, 67: 5, 72: 6, 73: 7, 91: 8, 95: 9, 47: 10, 52: 11, 54: 12, 56: 13, 59: 14, 62: 15, 70: 16, 82: 17, 92: 18, 96: 19, 0: 20, 9: 21, 10: 22, 16: 23, 28: 24, 51: 25, 53: 26, 57: 27, 61: 28, 83: 29, 5: 30, 20: 31, 22: 32, 25: 33, 39: 34, 40: 35, 84: 36, 86: 37, 87: 38, 94: 39, 6: 40, 7: 41, 14: 42, 18: 43, 24: 44, 26: 45, 45: 46, 77: 47, 79: 48, 99: 49, 12: 50, 17: 51, 23: 52, 33: 53, 37: 54, 49: 55, 60: 56, 68: 57, 71: 58, 76: 59, 3: 60, 15: 61, 19: 62, 21: 63, 31: 64, 38: 65, 42: 66, 43: 67, 88: 68, 97: 69, 34: 70, 36: 71, 50: 72, 63: 73, 64: 74, 65: 75, 66: 76, 74: 77, 75: 78, 80: 79, 8: 80, 13: 81, 41: 82, 48: 83, 58: 84, 69: 85, 81: 86, 85: 87, 89: 88, 90: 89, 2: 90, 11: 91, 27: 92, 29: 93, 35: 94, 44: 95, 46: 96, 78: 97, 93: 98, 98: 99}\n"
     ]
    }
   ],
   "source": [
    "complete_mapping = {}\n",
    "\n",
    "for i, x in enumerate(cluster_mapping):    \n",
    "    complete_mapping[x] = i\n",
    "\n",
    "print(complete_mapping)"
   ]
  },
  {
   "cell_type": "code",
   "execution_count": null,
   "metadata": {},
   "outputs": [],
   "source": []
  }
 ],
 "metadata": {
  "kernelspec": {
   "display_name": "ai701",
   "language": "python",
   "name": "python3"
  },
  "language_info": {
   "codemirror_mode": {
    "name": "ipython",
    "version": 3
   },
   "file_extension": ".py",
   "mimetype": "text/x-python",
   "name": "python",
   "nbconvert_exporter": "python",
   "pygments_lexer": "ipython3",
   "version": "3.8.13"
  },
  "orig_nbformat": 4
 },
 "nbformat": 4,
 "nbformat_minor": 2
}
