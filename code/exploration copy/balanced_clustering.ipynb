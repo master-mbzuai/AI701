{
 "cells": [
  {
   "cell_type": "code",
   "execution_count": 1,
   "metadata": {},
   "outputs": [
    {
     "name": "stdout",
     "output_type": "stream",
     "text": [
      "Collecting balanced_kmeans\n",
      "  Downloading balanced_kmeans-0.1.0.tar.gz (5.1 kB)\n",
      "  Preparing metadata (setup.py) ... \u001b[?25ldone\n",
      "\u001b[?25hBuilding wheels for collected packages: balanced_kmeans\n",
      "  Building wheel for balanced_kmeans (setup.py) ... \u001b[?25ldone\n",
      "\u001b[?25h  Created wheel for balanced_kmeans: filename=balanced_kmeans-0.1.0-py3-none-any.whl size=5160 sha256=b150437d78ffb6828d0f4b1ee8b7cf6bde6cfe7398c82aecd389e328048da519\n",
      "  Stored in directory: /Users/sebastiancavada/Library/Caches/pip/wheels/b4/48/65/a9f37007350003d058639336b0780d7ac1665d1f07eec2c0b4\n",
      "Successfully built balanced_kmeans\n",
      "Installing collected packages: balanced_kmeans\n",
      "Successfully installed balanced_kmeans-0.1.0\n"
     ]
    }
   ],
   "source": [
    "!pip install balanced_kmeans\n"
   ]
  },
  {
   "cell_type": "code",
   "execution_count": 2,
   "metadata": {},
   "outputs": [],
   "source": [
    "import pickle\n",
    "import torch"
   ]
  },
  {
   "cell_type": "code",
   "execution_count": 36,
   "metadata": {},
   "outputs": [],
   "source": [
    "with open('embeddings_all.pkl', 'rb') as file:\n",
    "    data = pickle.load(file)\n",
    "\n",
    "x = data[\"outputs\"]\n",
    "y = data[\"labels\"]"
   ]
  },
  {
   "cell_type": "code",
   "execution_count": 8,
   "metadata": {},
   "outputs": [
    {
     "ename": "RuntimeError",
     "evalue": "expand(torch.LongTensor{[344]}, size=[]): the number of sizes provided (0) must be greater or equal to the number of dimensions in the tensor (1)",
     "output_type": "error",
     "traceback": [
      "\u001b[0;31m---------------------------------------------------------------------------\u001b[0m",
      "\u001b[0;31mRuntimeError\u001b[0m                              Traceback (most recent call last)",
      "\u001b[1;32m/Users/sebastiancavada/Documents/scsv/semester-1/ai/ai-project-2023/code/exploration/balanced_clustering.ipynb Cell 4\u001b[0m line \u001b[0;36m8\n\u001b[1;32m      <a href='vscode-notebook-cell:/Users/sebastiancavada/Documents/scsv/semester-1/ai/ai-project-2023/code/exploration/balanced_clustering.ipynb#W1sZmlsZQ%3D%3D?line=4'>5</a>\u001b[0m device \u001b[39m=\u001b[39m \u001b[39m'\u001b[39m\u001b[39mmps\u001b[39m\u001b[39m'\u001b[39m\n\u001b[1;32m      <a href='vscode-notebook-cell:/Users/sebastiancavada/Documents/scsv/semester-1/ai/ai-project-2023/code/exploration/balanced_clustering.ipynb#W1sZmlsZQ%3D%3D?line=6'>7</a>\u001b[0m cluster_size \u001b[39m=\u001b[39m N \u001b[39m/\u001b[39m\u001b[39m/\u001b[39m num_clusters\n\u001b[0;32m----> <a href='vscode-notebook-cell:/Users/sebastiancavada/Documents/scsv/semester-1/ai/ai-project-2023/code/exploration/balanced_clustering.ipynb#W1sZmlsZQ%3D%3D?line=7'>8</a>\u001b[0m choices, centers \u001b[39m=\u001b[39m kmeans_equal(x, num_clusters\u001b[39m=\u001b[39;49mnum_clusters, cluster_size\u001b[39m=\u001b[39;49mcluster_size)\n",
      "File \u001b[0;32m~/anaconda3/envs/ai701/lib/python3.10/site-packages/balanced_kmeans/__init__.py:153\u001b[0m, in \u001b[0;36mkmeans_equal\u001b[0;34m(X, num_clusters, cluster_size, max_iters, initial_state, update_centers, progress, tol)\u001b[0m\n\u001b[1;32m    149\u001b[0m pairwise_distance_function \u001b[39m=\u001b[39m pairwise_distance\n\u001b[1;32m    151\u001b[0m \u001b[39mif\u001b[39;00m initial_state \u001b[39mis\u001b[39;00m \u001b[39mNone\u001b[39;00m:\n\u001b[1;32m    152\u001b[0m     \u001b[39m# randomly group vectors to clusters (forgy initialization)\u001b[39;00m\n\u001b[0;32m--> 153\u001b[0m     initial_state \u001b[39m=\u001b[39m initialize(X, num_clusters)\n\u001b[1;32m    155\u001b[0m iteration \u001b[39m=\u001b[39m \u001b[39m0\u001b[39m\n\u001b[1;32m    156\u001b[0m \u001b[39mif\u001b[39;00m progress:\n",
      "File \u001b[0;32m~/anaconda3/envs/ai701/lib/python3.10/site-packages/balanced_kmeans/__init__.py:18\u001b[0m, in \u001b[0;36minitialize\u001b[0;34m(X, num_clusters)\u001b[0m\n\u001b[1;32m     16\u001b[0m indices \u001b[39m=\u001b[39m torch\u001b[39m.\u001b[39mempty(X\u001b[39m.\u001b[39mshape[:\u001b[39m-\u001b[39m\u001b[39m1\u001b[39m], device\u001b[39m=\u001b[39mX\u001b[39m.\u001b[39mdevice, dtype\u001b[39m=\u001b[39mtorch\u001b[39m.\u001b[39mlong)\n\u001b[1;32m     17\u001b[0m \u001b[39mfor\u001b[39;00m i \u001b[39min\u001b[39;00m \u001b[39mrange\u001b[39m(bs):\n\u001b[0;32m---> 18\u001b[0m     indices[i] \u001b[39m=\u001b[39m torch\u001b[39m.\u001b[39mrandperm(num_samples, device\u001b[39m=\u001b[39mX\u001b[39m.\u001b[39mdevice)\n\u001b[1;32m     19\u001b[0m initial_state \u001b[39m=\u001b[39m torch\u001b[39m.\u001b[39mgather(X, \u001b[39m1\u001b[39m, indices\u001b[39m.\u001b[39munsqueeze(\u001b[39m-\u001b[39m\u001b[39m1\u001b[39m)\u001b[39m.\u001b[39mrepeat(\u001b[39m1\u001b[39m, \u001b[39m1\u001b[39m, X\u001b[39m.\u001b[39mshape[\u001b[39m-\u001b[39m\u001b[39m1\u001b[39m]))\u001b[39m.\u001b[39mreshape(bs, num_clusters, \u001b[39m-\u001b[39m\u001b[39m1\u001b[39m, X\u001b[39m.\u001b[39mshape[\u001b[39m-\u001b[39m\u001b[39m1\u001b[39m])\u001b[39m.\u001b[39mmean(dim\u001b[39m=\u001b[39m\u001b[39m-\u001b[39m\u001b[39m2\u001b[39m)\n\u001b[1;32m     20\u001b[0m \u001b[39mreturn\u001b[39;00m initial_state\n",
      "\u001b[0;31mRuntimeError\u001b[0m: expand(torch.LongTensor{[344]}, size=[]): the number of sizes provided (0) must be greater or equal to the number of dimensions in the tensor (1)"
     ]
    }
   ],
   "source": [
    "from balanced_kmeans import kmeans_equal\n",
    "N = 50000\n",
    "batch_size = 10\n",
    "num_clusters = 10\n",
    "device = 'mps'\n",
    "\n",
    "cluster_size = N // num_clusters\n",
    "choices, centers = kmeans_equal(x, num_clusters=num_clusters, cluster_size=cluster_size)"
   ]
  },
  {
   "cell_type": "code",
   "execution_count": 42,
   "metadata": {},
   "outputs": [],
   "source": [
    "x_1 = x[:49980,:]\n"
   ]
  },
  {
   "cell_type": "code",
   "execution_count": 43,
   "metadata": {},
   "outputs": [
    {
     "name": "stdout",
     "output_type": "stream",
     "text": [
      "torch.Size([49980, 344])\n"
     ]
    }
   ],
   "source": [
    "print(x_1.shape)"
   ]
  },
  {
   "cell_type": "code",
   "execution_count": 44,
   "metadata": {},
   "outputs": [
    {
     "name": "stdout",
     "output_type": "stream",
     "text": [
      "torch.Size([10, 50000, 100])\n",
      "torch.Size([10, 4998, 344])\n"
     ]
    }
   ],
   "source": [
    "X = torch.rand(batch_size, N, 100, device=device)\n",
    "print(X.shape)\n",
    "print(x_1.reshape(10, -1, 344).shape)"
   ]
  },
  {
   "cell_type": "code",
   "execution_count": 45,
   "metadata": {},
   "outputs": [],
   "source": [
    "from balanced_kmeans import kmeans_equal\n",
    "N = 10000\n",
    "batch_size = 10\n",
    "num_clusters = 10\n",
    "device = 'cpu'\n",
    "\n",
    "cluster_size = N // num_clusters\n",
    "X = torch.rand(batch_size, N, 100, device=device)\n",
    "choices, centers = kmeans_equal(X, num_clusters=num_clusters, cluster_size=cluster_size)"
   ]
  },
  {
   "cell_type": "code",
   "execution_count": 14,
   "metadata": {},
   "outputs": [
    {
     "name": "stdout",
     "output_type": "stream",
     "text": [
      "tensor([[99, 99, 99,  ..., 98, 98, 73],\n",
      "        [99, 99, 99,  ..., 98, 98, 87],\n",
      "        [99, 99, 99,  ..., 98, 98, 21],\n",
      "        ...,\n",
      "        [99, 99, 99,  ..., 98, 98,  9],\n",
      "        [99, 99, 99,  ..., 98, 98,  6],\n",
      "        [99, 99, 99,  ..., 98, 98, 29]])\n",
      "tensor([[[0.5388, 0.3999, 0.3966,  ..., 0.3697, 0.4846, 0.4787],\n",
      "         [0.5183, 0.4221, 0.4112,  ..., 0.4551, 0.4383, 0.4848],\n",
      "         [0.4334, 0.4948, 0.5028,  ..., 0.4181, 0.4217, 0.4429],\n",
      "         ...,\n",
      "         [0.4919, 0.4329, 0.4774,  ..., 0.5708, 0.5104, 0.4323],\n",
      "         [0.4886, 0.4481, 0.4751,  ..., 0.5372, 0.5101, 0.4265],\n",
      "         [0.4971, 0.4383, 0.4413,  ..., 0.5547, 0.4792, 0.4494]],\n",
      "\n",
      "        [[0.5495, 0.6067, 0.5261,  ..., 0.4575, 0.4808, 0.5867],\n",
      "         [0.5756, 0.5229, 0.5108,  ..., 0.5234, 0.4732, 0.5660],\n",
      "         [0.5975, 0.5097, 0.5527,  ..., 0.5350, 0.4894, 0.5397],\n",
      "         ...,\n",
      "         [0.5305, 0.5311, 0.5489,  ..., 0.5274, 0.4552, 0.4442],\n",
      "         [0.5399, 0.5071, 0.5582,  ..., 0.5095, 0.4823, 0.4420],\n",
      "         [0.5093, 0.5195, 0.5350,  ..., 0.5361, 0.4847, 0.4474]],\n",
      "\n",
      "        [[0.4762, 0.5607, 0.4693,  ..., 0.5464, 0.4770, 0.4155],\n",
      "         [0.3952, 0.5541, 0.4623,  ..., 0.4386, 0.4882, 0.4953],\n",
      "         [0.4879, 0.5634, 0.4990,  ..., 0.5444, 0.4360, 0.6451],\n",
      "         ...,\n",
      "         [0.4953, 0.4784, 0.5256,  ..., 0.4783, 0.4929, 0.4878],\n",
      "         [0.5133, 0.4911, 0.5072,  ..., 0.4683, 0.4765, 0.4909],\n",
      "         [0.5091, 0.4830, 0.4823,  ..., 0.4815, 0.4738, 0.5015]],\n",
      "\n",
      "        ...,\n",
      "\n",
      "        [[0.4702, 0.3870, 0.4796,  ..., 0.4165, 0.4268, 0.4460],\n",
      "         [0.5167, 0.4696, 0.4766,  ..., 0.3700, 0.4412, 0.4202],\n",
      "         [0.5803, 0.5242, 0.4508,  ..., 0.5460, 0.4851, 0.4897],\n",
      "         ...,\n",
      "         [0.4293, 0.4936, 0.4731,  ..., 0.4925, 0.4591, 0.4310],\n",
      "         [0.4477, 0.5017, 0.4956,  ..., 0.4928, 0.4737, 0.4433],\n",
      "         [0.4470, 0.5347, 0.4537,  ..., 0.5504, 0.5152, 0.5031]],\n",
      "\n",
      "        [[0.5314, 0.5246, 0.4311,  ..., 0.4719, 0.6133, 0.5737],\n",
      "         [0.5955, 0.4666, 0.4492,  ..., 0.5617, 0.4850, 0.6096],\n",
      "         [0.5315, 0.5622, 0.4767,  ..., 0.5236, 0.5095, 0.5270],\n",
      "         ...,\n",
      "         [0.4910, 0.4767, 0.5188,  ..., 0.4877, 0.5351, 0.5097],\n",
      "         [0.5022, 0.4788, 0.5072,  ..., 0.4859, 0.5104, 0.5030],\n",
      "         [0.4737, 0.4903, 0.5123,  ..., 0.5044, 0.5196, 0.5059]],\n",
      "\n",
      "        [[0.5086, 0.6712, 0.3254,  ..., 0.6148, 0.5638, 0.5079],\n",
      "         [0.4939, 0.5796, 0.4670,  ..., 0.4734, 0.4921, 0.4371],\n",
      "         [0.5630, 0.5835, 0.4142,  ..., 0.4746, 0.5219, 0.4909],\n",
      "         ...,\n",
      "         [0.4961, 0.5203, 0.5153,  ..., 0.4780, 0.4770, 0.5079],\n",
      "         [0.4944, 0.5032, 0.5042,  ..., 0.4710, 0.4615, 0.4872],\n",
      "         [0.5188, 0.4857, 0.4737,  ..., 0.4585, 0.4666, 0.5300]]])\n"
     ]
    }
   ],
   "source": [
    "print(choices)\n",
    "print(centers)"
   ]
  },
  {
   "cell_type": "code",
   "execution_count": 48,
   "metadata": {},
   "outputs": [
    {
     "ename": "IndexError",
     "evalue": "too many indices for tensor of dimension 1",
     "output_type": "error",
     "traceback": [
      "\u001b[0;31m---------------------------------------------------------------------------\u001b[0m",
      "\u001b[0;31mIndexError\u001b[0m                                Traceback (most recent call last)",
      "\u001b[1;32m/Users/sebastiancavada/Documents/scsv/semester-1/ai/ai-project-2023/code/exploration/balanced_clustering.ipynb Cell 10\u001b[0m line \u001b[0;36m9\n\u001b[1;32m      <a href='vscode-notebook-cell:/Users/sebastiancavada/Documents/scsv/semester-1/ai/ai-project-2023/code/exploration/balanced_clustering.ipynb#W5sZmlsZQ%3D%3D?line=5'>6</a>\u001b[0m x_1 \u001b[39m=\u001b[39m x_1\u001b[39m.\u001b[39mreshape(\u001b[39m10\u001b[39m, \u001b[39m-\u001b[39m\u001b[39m1\u001b[39m, \u001b[39m344\u001b[39m)\n\u001b[1;32m      <a href='vscode-notebook-cell:/Users/sebastiancavada/Documents/scsv/semester-1/ai/ai-project-2023/code/exploration/balanced_clustering.ipynb#W5sZmlsZQ%3D%3D?line=7'>8</a>\u001b[0m cluster_size \u001b[39m=\u001b[39m x_1\u001b[39m.\u001b[39mshape[\u001b[39m1\u001b[39m] \u001b[39m/\u001b[39m\u001b[39m/\u001b[39m num_clusters\n\u001b[0;32m----> <a href='vscode-notebook-cell:/Users/sebastiancavada/Documents/scsv/semester-1/ai/ai-project-2023/code/exploration/balanced_clustering.ipynb#W5sZmlsZQ%3D%3D?line=8'>9</a>\u001b[0m choices, centers \u001b[39m=\u001b[39m kmeans_equal(x_1, num_clusters\u001b[39m=\u001b[39;49m\u001b[39m1\u001b[39;49m, cluster_size\u001b[39m=\u001b[39;49mcluster_size)\n",
      "File \u001b[0;32m~/anaconda3/envs/ai701/lib/python3.10/site-packages/balanced_kmeans/__init__.py:165\u001b[0m, in \u001b[0;36mkmeans_equal\u001b[0;34m(X, num_clusters, cluster_size, max_iters, initial_state, update_centers, progress, tol)\u001b[0m\n\u001b[1;32m    163\u001b[0m \u001b[39mfor\u001b[39;00m index \u001b[39min\u001b[39;00m \u001b[39mrange\u001b[39m(num_clusters):\n\u001b[1;32m    164\u001b[0m     cluster_positions \u001b[39m=\u001b[39m torch\u001b[39m.\u001b[39margmax((choices \u001b[39m==\u001b[39m index)\u001b[39m.\u001b[39mto(torch\u001b[39m.\u001b[39mlong), dim\u001b[39m=\u001b[39m\u001b[39m-\u001b[39m\u001b[39m1\u001b[39m)\n\u001b[0;32m--> 165\u001b[0m     selected_ind \u001b[39m=\u001b[39m torch\u001b[39m.\u001b[39;49margsort(cluster_positions, dim\u001b[39m=\u001b[39;49m\u001b[39m-\u001b[39;49m\u001b[39m1\u001b[39;49m)[:, :cluster_size]\n\u001b[1;32m    167\u001b[0m     choices\u001b[39m.\u001b[39mscatter_(\u001b[39m1\u001b[39m, selected_ind\u001b[39m.\u001b[39munsqueeze(\u001b[39m-\u001b[39m\u001b[39m1\u001b[39m)\u001b[39m.\u001b[39mrepeat(\u001b[39m1\u001b[39m, \u001b[39m1\u001b[39m, num_clusters), value\u001b[39m=\u001b[39mindex)\n\u001b[1;32m    168\u001b[0m     \u001b[39m# update cluster center\u001b[39;00m\n",
      "\u001b[0;31mIndexError\u001b[0m: too many indices for tensor of dimension 1"
     ]
    }
   ],
   "source": [
    "from balanced_kmeans import kmeans_equal\n",
    "N = 50000\n",
    "num_clusters = 10\n",
    "device = 'mps'\n",
    "\n",
    "x_1 = x_1.reshape(10, -1, 344)\n",
    "\n",
    "cluster_size = x_1.shape[1] // num_clusters\n",
    "choices, centers = kmeans_equal(x_1, num_clusters=num_clusters, cluster_size=cluster_size)"
   ]
  },
  {
   "cell_type": "code",
   "execution_count": 34,
   "metadata": {},
   "outputs": [
    {
     "name": "stdout",
     "output_type": "stream",
     "text": [
      "torch.Size([1, 49984, 344])\n"
     ]
    }
   ],
   "source": [
    "\n",
    "x = x.reshape(1, -1, 344)\n",
    "\n",
    "print(x.shape)"
   ]
  },
  {
   "cell_type": "code",
   "execution_count": null,
   "metadata": {},
   "outputs": [],
   "source": []
  }
 ],
 "metadata": {
  "kernelspec": {
   "display_name": "ai701",
   "language": "python",
   "name": "python3"
  },
  "language_info": {
   "codemirror_mode": {
    "name": "ipython",
    "version": 3
   },
   "file_extension": ".py",
   "mimetype": "text/x-python",
   "name": "python",
   "nbconvert_exporter": "python",
   "pygments_lexer": "ipython3",
   "version": "3.10.0"
  }
 },
 "nbformat": 4,
 "nbformat_minor": 2
}
