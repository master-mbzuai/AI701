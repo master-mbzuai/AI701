{
 "cells": [
  {
   "cell_type": "code",
   "execution_count": 5,
   "metadata": {},
   "outputs": [],
   "source": [
    "import pickle\n",
    "import numpy as np"
   ]
  },
  {
   "cell_type": "code",
   "execution_count": 6,
   "metadata": {},
   "outputs": [
    {
     "name": "stdout",
     "output_type": "stream",
     "text": [
      "(49984,)\n"
     ]
    }
   ],
   "source": [
    "with open('embeddings_all.pkl', 'rb') as file:\n",
    "    data = pickle.load(file)\n",
    "\n",
    "x = data[\"outputs\"].cpu().numpy()\n",
    "y = data[\"labels\"].cpu().numpy()\n",
    "print(y.shape)"
   ]
  },
  {
   "cell_type": "code",
   "execution_count": 22,
   "metadata": {},
   "outputs": [],
   "source": [
    "# normalize embeddings\n",
    "x = (x - np.min(x)) / (np.max(x) - np.min(x))"
   ]
  },
  {
   "cell_type": "code",
   "execution_count": 7,
   "metadata": {},
   "outputs": [],
   "source": [
    "embeddings = np.array(x)"
   ]
  },
  {
   "cell_type": "code",
   "execution_count": 8,
   "metadata": {},
   "outputs": [],
   "source": [
    "# do PCA\n",
    "from sklearn.decomposition import PCA\n",
    "\n",
    "pca = PCA(n_components=100)\n",
    "pca.fit(embeddings)\n",
    "\n",
    "pca_transform = pca.transform(embeddings)"
   ]
  },
  {
   "cell_type": "code",
   "execution_count": 9,
   "metadata": {},
   "outputs": [
    {
     "name": "stdout",
     "output_type": "stream",
     "text": [
      "100\n"
     ]
    }
   ],
   "source": [
    "fine_labels = ['apple', 'aquarium_fish', 'baby', 'bear', 'beaver', 'bed', 'bee', 'beetle', 'bicycle', 'bottle', 'bowl', 'boy', 'bridge', 'bus', 'butterfly', 'camel', 'can', 'castle', 'caterpillar', 'cattle', 'chair', 'chimpanzee', 'clock', 'cloud', 'cockroach', 'couch', 'crab', 'crocodile', 'cup', 'dinosaur', 'dolphin', 'elephant', 'flatfish', 'forest', 'fox', 'girl', 'hamster', 'house', 'kangaroo', 'keyboard', 'lamp', 'lawn_mower', 'leopard', 'lion', 'lizard', 'lobster', 'man', 'maple_tree', 'motorcycle', 'mountain', 'mouse', 'mushroom', 'oak_tree', 'orange', 'orchid', 'otter', 'palm_tree', 'pear', 'pickup_truck', 'pine_tree', 'plain', 'plate', 'poppy', 'porcupine', 'possum', 'rabbit', 'raccoon', 'ray', 'road', 'rocket', 'rose', 'sea', 'seal', 'shark', 'shrew', 'skunk', 'skyscraper', 'snail', 'snake', 'spider', 'squirrel', 'streetcar', 'sunflower', 'sweet_pepper', 'table', 'tank', 'telephone', 'television', 'tiger', 'tractor', 'train', 'trout', 'tulip', 'turtle', 'wardrobe', 'whale', 'willow_tree', 'wolf', 'woman', 'worm']\n",
    "\n",
    "print(len(fine_labels))"
   ]
  },
  {
   "cell_type": "code",
   "execution_count": 10,
   "metadata": {},
   "outputs": [
    {
     "name": "stdout",
     "output_type": "stream",
     "text": [
      "100\n",
      "[0, 1, 2, 3, 4, 5, 6, 7, 8, 9, 10, 11, 12, 13, 14, 15, 16, 17, 18, 19, 20, 21, 22, 23, 24, 25, 26, 27, 28, 29, 30, 31, 32, 33, 34, 35, 36, 37, 38, 39, 40, 41, 42, 43, 44, 45, 46, 47, 48, 49, 50, 51, 52, 53, 54, 55, 56, 57, 58, 59, 60, 61, 62, 63, 64, 65, 66, 67, 68, 69, 70, 71, 72, 73, 74, 75, 76, 77, 78, 79, 80, 81, 82, 83, 84, 85, 86, 87, 88, 89, 90, 91, 92, 93, 94, 95, 96, 97, 98, 99]\n"
     ]
    }
   ],
   "source": [
    "# compute the centroid for each class\n",
    "centroids = []\n",
    "labels = []\n",
    "for i in range(100):\n",
    "    centroids.append(np.mean(pca_transform[y == i], axis=0))\n",
    "    labels.append(i)\n",
    "\n",
    "print(len(centroids))\n",
    "print(labels)"
   ]
  },
  {
   "cell_type": "code",
   "execution_count": 11,
   "metadata": {},
   "outputs": [
    {
     "name": "stdout",
     "output_type": "stream",
     "text": [
      "(100, 2)\n"
     ]
    },
    {
     "data": {
      "image/png": "[encoded data removed]",
      "text/plain": [
       "<Figure size 640x480 with 1 Axes>"
      ]
     },
     "metadata": {},
     "output_type": "display_data"
    }
   ],
   "source": [
    "## do PCA on the centroids\n",
    "\n",
    "pca_centroids = PCA(n_components=2)\n",
    "pca_centroids.fit(centroids)\n",
    "\n",
    "pca_centroids_transform = pca_centroids.transform(centroids)\n",
    "\n",
    "print(pca_centroids_transform.shape)\n",
    "\n",
    "# plot the centroids\n",
    "\n",
    "import matplotlib.pyplot as plt\n",
    "\n",
    "plt.scatter(pca_centroids_transform[:,0], pca_centroids_transform[:,1])\n",
    "plt.show()"
   ]
  },
  {
   "cell_type": "code",
   "execution_count": 12,
   "metadata": {},
   "outputs": [
    {
     "name": "stdout",
     "output_type": "stream",
     "text": [
      "sorted [ 0 57 83 53 10 92 61 22 77 70 40 55 65 51 50 72  4 80 32  3 97 84 66 38\n",
      " 34  7 16 94 71 64 45 28 23 63 79  9 26 88  2 37 62 74 91 67 75 58 25 42\n",
      " 43 96 82 56 36 18 29 73 47 99 69 15 54 11 33 24 17 44 78 89 35  1 60 87\n",
      " 19 93 95 46  5 30 81 31 14 41 98 59 90 52 39 20 21 13 12 27 85 49  8 86\n",
      "  6 68 76 48]\n",
      "[ 0 57 83 53 10 92 61 22 77 70]\n",
      "(90, 100)\n",
      "sorted [ 1  9 32 88 43 29 59 33 47 22 42 75 41 37 58 72 51 70 65 23 50 48 57  4\n",
      " 83 12 38 56 36 82  3  0 35 31  7 60  2 61 71 87 26 67 13 14 68 11 39 89\n",
      " 18 19  6 79  8 24 77 66 80 16 25 78  5 73 40 53 17 45 81 21 74 27 34 84\n",
      " 63 20 28 30 44 85 10 54 76 64 15 46 86 62 55 52 69 49]\n",
      "[ 2 11 35 98 46 32 65 36 50 25]\n",
      "(80, 100)\n",
      "sorted [ 2 43 58 56 49  1 63 21 50 74 51 29 17 52 23 33 35 25 59 34 24 40 11 26\n",
      " 27 78 76 20 73 36  5 72 62  0 57 46 10 15  4 77 61 14 70 19 65 66  8 31\n",
      " 41 28 37 44 39 64 30 71 69 67 12 18 55  9 68 75 79 22  7 16  6 48 32 13\n",
      " 53 45  3 38 60 47 54 42]\n",
      "[ 4 55 74 72 63  3 80 27 64 93]\n",
      "(70, 100)\n",
      "sorted [ 3 17 54  2  8 12 32 18 33 56 53 44 51 45 20 29 62 63 46 64 57  4 39  0\n",
      " 30 37 28 26 68 35 42 24 61 31 25 69 27 10 55 40 23 41 65  9 60 58 67 13\n",
      " 15 34  7 50  5 14 16 11 22 59 38 19 66 21 43  1 49  6 36 52 47 48]\n",
      "[ 7 24 79  6 14 18 44 26 45 82]\n",
      "(60, 100)\n",
      "sorted [ 4 19 53  8 44 39 48 46 40 41 17 34 56 21 28 32 22  5 47 42 24  1  6 14\n",
      " 15 35 58 54  9 16 20 57 37 52 30 50 26 10 12 18 43 51 49  2 29 59  3 38\n",
      " 11 13 33  7 45 25  0 23 55 27 36 31]\n",
      "[12 37 90 17 76 68 85 81 69 71]\n",
      "(50, 100)\n",
      "sorted [ 5  7 14 17 12 22 16 48 34 39 43 21 19 42 26 31 32  9 37  4 25  2 15 47\n",
      "  8 18 38 29 23 10 30  3 11 28 27 45 35 33 40 36 44  6 13  1 46 41  0 49\n",
      " 24 20]\n",
      "[15 19 31 38 29 43 34 97 66 84]\n",
      "(40, 100)\n",
      "sorted [ 6  1 36 13 32 35 12 31 39  9 28 30 15 37  2 29 33 14 10  0 19  5 21 27\n",
      " 23  3  8  7 26 16 11 34 24  4 17 25 22 20 38 18]\n",
      "[20  5 94 40 87 91 39 86 99 28]\n",
      "(30, 100)\n",
      "sorted [ 7 28 23 22  6 13  0 24 17 19  5 10  8 25  3 26 18 29  2 15  4 20 11  1\n",
      "  9 14 12 16 27 21]\n",
      "[30 95 73 67 23 49  1 75 56 59]\n",
      "(20, 100)\n",
      "sorted [ 8 11 19  5 14 15 10  7 17  2 13 12 18 16  6  1  3  9  4  0]\n",
      "[47 52 96 33 60 62 51 42 88 13]\n",
      "(10, 100)\n",
      "sorted [9 7 4 5 0 8 3 1 2 6]\n",
      "[89 58 41 48  8 78 21  9 16 54]\n",
      "(0, 100)\n"
     ]
    }
   ],
   "source": [
    "\n",
    "clusters = {}\n",
    "parents = {}\n",
    "curr_points = np.array(centroids.copy())\n",
    "curr_labels = labels.copy()\n",
    "\n",
    "for i in range(10):\n",
    "\n",
    "    # calculate distances from the first centroid\n",
    "    distances = np.linalg.norm(curr_points - curr_points[i], axis=1)\n",
    "\n",
    "    # sort the distances and get the indices\n",
    "    sorted_distances = np.argsort(distances)\n",
    "    print(\"sorted\", sorted_distances)\n",
    "\n",
    "    # add to the cluster the 10 closest points but not itself\n",
    "    clusters[i] = curr_points[sorted_distances.astype(int)[:10]]\n",
    "    #print(clusters[i])    \n",
    "    parents[i] = (np.array(curr_labels)[sorted_distances])[:10]\n",
    "    print(parents[i])\n",
    "\n",
    "    # delete the points from the list\n",
    "    curr_points = np.delete(curr_points, sorted_distances[:10], axis=0)\n",
    "    curr_labels = np.delete(curr_labels, sorted_distances[:10], axis=0)\n",
    "\n",
    "    # add the new point to the list\n",
    "    #curr_points = np.vstack((curr_points, new_point_mean))\n",
    "    print(curr_points.shape)\n",
    "\n"
   ]
  },
  {
   "cell_type": "code",
   "execution_count": 13,
   "metadata": {},
   "outputs": [
    {
     "name": "stdout",
     "output_type": "stream",
     "text": [
      "{0: array([ 0, 57, 83, 53, 10, 92, 61, 22, 77, 70]), 1: array([ 2, 11, 35, 98, 46, 32, 65, 36, 50, 25]), 2: array([ 4, 55, 74, 72, 63,  3, 80, 27, 64, 93]), 3: array([ 7, 24, 79,  6, 14, 18, 44, 26, 45, 82]), 4: array([12, 37, 90, 17, 76, 68, 85, 81, 69, 71]), 5: array([15, 19, 31, 38, 29, 43, 34, 97, 66, 84]), 6: array([20,  5, 94, 40, 87, 91, 39, 86, 99, 28]), 7: array([30, 95, 73, 67, 23, 49,  1, 75, 56, 59]), 8: array([47, 52, 96, 33, 60, 62, 51, 42, 88, 13]), 9: array([89, 58, 41, 48,  8, 78, 21,  9, 16, 54])}\n"
     ]
    }
   ],
   "source": [
    "print(parents)"
   ]
  },
  {
   "cell_type": "code",
   "execution_count": 14,
   "metadata": {},
   "outputs": [
    {
     "name": "stdout",
     "output_type": "stream",
     "text": [
      "{0: 0, 57: 0, 83: 0, 53: 0, 10: 0, 92: 0, 61: 0, 22: 0, 77: 0, 70: 0, 2: 1, 11: 1, 35: 1, 98: 1, 46: 1, 32: 1, 65: 1, 36: 1, 50: 1, 25: 1, 4: 2, 55: 2, 74: 2, 72: 2, 63: 2, 3: 2, 80: 2, 27: 2, 64: 2, 93: 2, 7: 3, 24: 3, 79: 3, 6: 3, 14: 3, 18: 3, 44: 3, 26: 3, 45: 3, 82: 3, 12: 4, 37: 4, 90: 4, 17: 4, 76: 4, 68: 4, 85: 4, 81: 4, 69: 4, 71: 4, 15: 5, 19: 5, 31: 5, 38: 5, 29: 5, 43: 5, 34: 5, 97: 5, 66: 5, 84: 5, 20: 6, 5: 6, 94: 6, 40: 6, 87: 6, 91: 6, 39: 6, 86: 6, 99: 6, 28: 6, 30: 7, 95: 7, 73: 7, 67: 7, 23: 7, 49: 7, 1: 7, 75: 7, 56: 7, 59: 7, 47: 8, 52: 8, 96: 8, 33: 8, 60: 8, 62: 8, 51: 8, 42: 8, 88: 8, 13: 8, 89: 9, 58: 9, 41: 9, 48: 9, 8: 9, 78: 9, 21: 9, 9: 9, 16: 9, 54: 9}\n"
     ]
    }
   ],
   "source": [
    "reverse = {}\n",
    "\n",
    "for key in parents.keys():\n",
    "    for i in range(len(parents[key])):\n",
    "        reverse[parents[key][i]] = key\n",
    "\n",
    "print(reverse)\n"
   ]
  },
  {
   "cell_type": "code",
   "execution_count": 15,
   "metadata": {},
   "outputs": [],
   "source": [
    "# for each embedding fint the closest centroid\n",
    "\n",
    "a = np.zeros((10,100))\n",
    "\n",
    "\n",
    "for i, x in enumerate(pca_transform):\n",
    "    distances = np.linalg.norm(centroids - x, axis=1)\n",
    "    first_index = np.argsort(distances)[0]      \n",
    "    a[reverse[first_index]][y[i]] += 1\n",
    "\n",
    "    "
   ]
  },
  {
   "cell_type": "code",
   "execution_count": 16,
   "metadata": {},
   "outputs": [
    {
     "name": "stdout",
     "output_type": "stream",
     "text": [
      "(49984,)\n",
      "99\n"
     ]
    }
   ],
   "source": [
    "print(y.shape)\n",
    "print(np.max(y))"
   ]
  },
  {
   "cell_type": "code",
   "execution_count": 17,
   "metadata": {},
   "outputs": [
    {
     "name": "stdout",
     "output_type": "stream",
     "text": [
      "(100, 2)\n"
     ]
    },
    {
     "data": {
      "image/png": "[encoded data removed]",
      "text/plain": [
       "<Figure size 640x480 with 1 Axes>"
      ]
     },
     "metadata": {},
     "output_type": "display_data"
    }
   ],
   "source": [
    "## do PCA on the centroids\n",
    "\n",
    "pca_centroids = PCA(n_components=2)\n",
    "pca_centroids.fit(centroids)\n",
    "\n",
    "pca_centroids_transform = pca_centroids.transform(centroids)\n",
    "\n",
    "print(pca_centroids_transform.shape)\n",
    "\n",
    "# plot the centroids\n",
    "\n",
    "import matplotlib.pyplot as plt\n",
    "\n",
    "# color each centroid with the color of the parent cluster\n",
    "\n",
    "colors = ['red', 'blue', 'green', 'yellow', 'orange', 'purple', 'pink', 'brown', 'black', 'grey']\n",
    "\n",
    "for i in range(100):\n",
    "    plt.scatter(pca_centroids_transform[i,0], pca_centroids_transform[i,1], color=colors[reverse[i]])\n",
    "\n",
    "plt.show()"
   ]
  },
  {
   "cell_type": "code",
   "execution_count": 18,
   "metadata": {},
   "outputs": [
    {
     "data": {
      "text/plain": [
       "<matplotlib.image.AxesImage at 0x291bbfc40>"
      ]
     },
     "execution_count": 18,
     "metadata": {},
     "output_type": "execute_result"
    },
    {
     "data": {
      "image/png": "[encoded data removed]",
      "text/plain": [
       "<Figure size 640x480 with 1 Axes>"
      ]
     },
     "metadata": {},
     "output_type": "display_data"
    }
   ],
   "source": [
    "\n",
    "import matplotlib.pyplot as plt\n",
    "\n",
    "plt.xlabel(\"Classes\")\n",
    "plt.ylabel(\"Cluster\\ncount\")\n",
    "#plt.title(\"Embedding count that belongs to a cluster for every label class number of clustering = \" + str(centroids.shape[0]))\n",
    "plt.imshow(a,cmap='Greys_r')"
   ]
  },
  {
   "cell_type": "code",
   "execution_count": 19,
   "metadata": {},
   "outputs": [
    {
     "data": {
      "text/plain": [
       "<matplotlib.image.AxesImage at 0x2835c0a30>"
      ]
     },
     "execution_count": 19,
     "metadata": {},
     "output_type": "execute_result"
    },
    {
     "data": {
      "image/png": "[encoded data removed]",
      "text/plain": [
       "<Figure size 640x480 with 1 Axes>"
      ]
     },
     "metadata": {},
     "output_type": "display_data"
    }
   ],
   "source": [
    "## majority voting for each class\n",
    "b = np.argmax(a, axis=0)\n",
    "\n",
    "c = np.zeros((10,100))\n",
    "for x in range(100):    \n",
    "    c[b[x]][x] = 1\n",
    "\n",
    "plt.xlabel(\"Classes\")\n",
    "plt.ylabel(\"Cluster\\ncount\")\n",
    "plt.title(\"Majority belonging to a cluster for every label class number of clustering =\")\n",
    "plt.imshow(c, cmap='Greys_r')"
   ]
  },
  {
   "cell_type": "code",
   "execution_count": 20,
   "metadata": {},
   "outputs": [
    {
     "data": {
      "text/plain": [
       "array([10., 10., 10., 10., 10., 10., 10., 10., 10., 10.])"
      ]
     },
     "execution_count": 20,
     "metadata": {},
     "output_type": "execute_result"
    }
   ],
   "source": [
    "np.sum(c, axis=1)"
   ]
  },
  {
   "cell_type": "code",
   "execution_count": 21,
   "metadata": {},
   "outputs": [
    {
     "name": "stdout",
     "output_type": "stream",
     "text": [
      "0.15000800256081948\n"
     ]
    }
   ],
   "source": [
    "false_negative = np.ma.array(a,mask=c)\n",
    "sum_fn = np.sum(false_negative)\n",
    "print(sum_fn/y.shape[0])"
   ]
  },
  {
   "cell_type": "code",
   "execution_count": 22,
   "metadata": {},
   "outputs": [
    {
     "name": "stdout",
     "output_type": "stream",
     "text": [
      "(10000,)\n"
     ]
    }
   ],
   "source": [
    "with open('embeddings_all_l0.9_test.pkl', 'rb') as file:\n",
    "    data = pickle.load(file)\n",
    "\n",
    "x = data[\"outputs\"].cpu().numpy()\n",
    "y = data[\"labels\"].cpu().numpy()\n",
    "print(y.shape)"
   ]
  },
  {
   "cell_type": "code",
   "execution_count": null,
   "metadata": {},
   "outputs": [],
   "source": []
  },
  {
   "cell_type": "code",
   "execution_count": null,
   "metadata": {},
   "outputs": [],
   "source": []
  }
 ],
 "metadata": {
  "kernelspec": {
   "display_name": "ai701",
   "language": "python",
   "name": "python3"
  },
  "language_info": {
   "codemirror_mode": {
    "name": "ipython",
    "version": 3
   },
   "file_extension": ".py",
   "mimetype": "text/x-python",
   "name": "python",
   "nbconvert_exporter": "python",
   "pygments_lexer": "ipython3",
   "version": "3.10.0"
  },
  "orig_nbformat": 4
 },
 "nbformat": 4,
 "nbformat_minor": 2
}
