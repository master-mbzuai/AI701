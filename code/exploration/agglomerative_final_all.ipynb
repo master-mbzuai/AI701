{
 "cells": [
  {
   "cell_type": "code",
   "execution_count": 21,
   "metadata": {},
   "outputs": [],
   "source": [
    "import pickle\n",
    "import numpy as np"
   ]
  },
  {
   "cell_type": "code",
   "execution_count": 37,
   "metadata": {},
   "outputs": [
    {
     "name": "stdout",
     "output_type": "stream",
     "text": [
      "(49984,)\n"
     ]
    }
   ],
   "source": [
    "with open('embeddings_all_l0.9.pkl', 'rb') as file:\n",
    "    data = pickle.load(file)\n",
    "\n",
    "x = data[\"outputs\"].cpu().numpy()\n",
    "y = data[\"labels\"].cpu().numpy()\n",
    "print(y.shape)"
   ]
  },
  {
   "cell_type": "code",
   "execution_count": 38,
   "metadata": {},
   "outputs": [],
   "source": [
    "# normalize embeddings\n",
    "x = (x - np.min(x)) / (np.max(x) - np.min(x))"
   ]
  },
  {
   "cell_type": "code",
   "execution_count": 39,
   "metadata": {},
   "outputs": [],
   "source": [
    "embeddings = np.array(x)"
   ]
  },
  {
   "cell_type": "code",
   "execution_count": 40,
   "metadata": {},
   "outputs": [],
   "source": [
    "# do PCA\n",
    "from sklearn.decomposition import PCA\n",
    "\n",
    "pca = PCA(n_components=100)\n",
    "pca.fit(embeddings)\n",
    "\n",
    "pca_transform = pca.transform(embeddings)"
   ]
  },
  {
   "cell_type": "code",
   "execution_count": 41,
   "metadata": {},
   "outputs": [
    {
     "name": "stdout",
     "output_type": "stream",
     "text": [
      "100\n"
     ]
    }
   ],
   "source": [
    "fine_labels = ['apple', 'aquarium_fish', 'baby', 'bear', 'beaver', 'bed', 'bee', 'beetle', 'bicycle', 'bottle', 'bowl', 'boy', 'bridge', 'bus', 'butterfly', 'camel', 'can', 'castle', 'caterpillar', 'cattle', 'chair', 'chimpanzee', 'clock', 'cloud', 'cockroach', 'couch', 'crab', 'crocodile', 'cup', 'dinosaur', 'dolphin', 'elephant', 'flatfish', 'forest', 'fox', 'girl', 'hamster', 'house', 'kangaroo', 'keyboard', 'lamp', 'lawn_mower', 'leopard', 'lion', 'lizard', 'lobster', 'man', 'maple_tree', 'motorcycle', 'mountain', 'mouse', 'mushroom', 'oak_tree', 'orange', 'orchid', 'otter', 'palm_tree', 'pear', 'pickup_truck', 'pine_tree', 'plain', 'plate', 'poppy', 'porcupine', 'possum', 'rabbit', 'raccoon', 'ray', 'road', 'rocket', 'rose', 'sea', 'seal', 'shark', 'shrew', 'skunk', 'skyscraper', 'snail', 'snake', 'spider', 'squirrel', 'streetcar', 'sunflower', 'sweet_pepper', 'table', 'tank', 'telephone', 'television', 'tiger', 'tractor', 'train', 'trout', 'tulip', 'turtle', 'wardrobe', 'whale', 'willow_tree', 'wolf', 'woman', 'worm']\n",
    "\n",
    "print(len(fine_labels))"
   ]
  },
  {
   "cell_type": "code",
   "execution_count": 42,
   "metadata": {},
   "outputs": [
    {
     "name": "stdout",
     "output_type": "stream",
     "text": [
      "100\n",
      "[0, 1, 2, 3, 4, 5, 6, 7, 8, 9, 10, 11, 12, 13, 14, 15, 16, 17, 18, 19, 20, 21, 22, 23, 24, 25, 26, 27, 28, 29, 30, 31, 32, 33, 34, 35, 36, 37, 38, 39, 40, 41, 42, 43, 44, 45, 46, 47, 48, 49, 50, 51, 52, 53, 54, 55, 56, 57, 58, 59, 60, 61, 62, 63, 64, 65, 66, 67, 68, 69, 70, 71, 72, 73, 74, 75, 76, 77, 78, 79, 80, 81, 82, 83, 84, 85, 86, 87, 88, 89, 90, 91, 92, 93, 94, 95, 96, 97, 98, 99]\n"
     ]
    }
   ],
   "source": [
    "# compute the centroid for each class\n",
    "centroids = []\n",
    "labels = []\n",
    "for i in range(100):\n",
    "    centroids.append(np.mean(embeddings[y == i], axis=0))\n",
    "    labels.append(i)\n",
    "\n",
    "print(len(centroids))\n",
    "print(labels)"
   ]
  },
  {
   "cell_type": "code",
   "execution_count": 43,
   "metadata": {},
   "outputs": [
    {
     "name": "stdout",
     "output_type": "stream",
     "text": [
      "sorted int64\n",
      "[ 0 57 83 53 10 92 61 40 55 22]\n",
      "(90, 344)\n",
      "sorted int64\n",
      "[ 2 11 35 98 46 32 65 36 25 50]\n",
      "(80, 344)\n",
      "sorted int64\n",
      "[ 4 72 74  3 63 27 80 64 77 93]\n",
      "(70, 344)\n",
      "sorted int64\n",
      "[ 7 24 79  6 14 18 44 26 45 82]\n",
      "(60, 344)\n",
      "sorted int64\n",
      "[12 37 90 76 17 68 85 69 81 71]\n",
      "(50, 344)\n",
      "sorted int64\n",
      "[15 19 31 29 43 38 34 97 84 42]\n",
      "(40, 344)\n",
      "sorted int64\n",
      "[20  5 94 91 87 41 95 28 75 99]\n",
      "(30, 344)\n",
      "sorted int64\n",
      "[30 73 67  1 23 49 56 39 66 21]\n",
      "(20, 344)\n",
      "sorted int64\n",
      "[52 47 59 96 33 60 70 51 13 58]\n",
      "(10, 344)\n",
      "sorted int64\n",
      "[89 48  8 88 78 62  9 54 16 86]\n",
      "(0, 344)\n"
     ]
    }
   ],
   "source": [
    "\n",
    "clusters = {}\n",
    "parents = {}\n",
    "curr_points = np.array(centroids.copy())\n",
    "curr_labels = labels.copy()\n",
    "\n",
    "for i in range(10):\n",
    "\n",
    "    # calculate distances from the first centroid\n",
    "    distances = np.linalg.norm(curr_points - curr_points[i], axis=1)\n",
    "\n",
    "    # sort the distances and get the indices\n",
    "    sorted_distances = np.argsort(distances)\n",
    "    print(\"sorted\", sorted_distances.dtype)\n",
    "\n",
    "    # add to the cluster the 10 closest points but not itself\n",
    "    clusters[i] = curr_points[sorted_distances.astype(int)[:10]]\n",
    "    #print(clusters[i])    \n",
    "    parents[i] = (np.array(curr_labels)[sorted_distances])[:10]\n",
    "    print(parents[i])\n",
    "\n",
    "    # delete the points from the list\n",
    "    curr_points = np.delete(curr_points, sorted_distances[:10], axis=0)\n",
    "    curr_labels = np.delete(curr_labels, sorted_distances[:10], axis=0)\n",
    "\n",
    "    # add the new point to the list\n",
    "    #curr_points = np.vstack((curr_points, new_point_mean))\n",
    "    print(curr_points.shape)\n",
    "\n"
   ]
  },
  {
   "cell_type": "code",
   "execution_count": 44,
   "metadata": {},
   "outputs": [
    {
     "name": "stdout",
     "output_type": "stream",
     "text": [
      "{0: array([ 0, 57, 83, 53, 10, 92, 61, 40, 55, 22]), 1: array([ 2, 11, 35, 98, 46, 32, 65, 36, 25, 50]), 2: array([ 4, 72, 74,  3, 63, 27, 80, 64, 77, 93]), 3: array([ 7, 24, 79,  6, 14, 18, 44, 26, 45, 82]), 4: array([12, 37, 90, 76, 17, 68, 85, 69, 81, 71]), 5: array([15, 19, 31, 29, 43, 38, 34, 97, 84, 42]), 6: array([20,  5, 94, 91, 87, 41, 95, 28, 75, 99]), 7: array([30, 73, 67,  1, 23, 49, 56, 39, 66, 21]), 8: array([52, 47, 59, 96, 33, 60, 70, 51, 13, 58]), 9: array([89, 48,  8, 88, 78, 62,  9, 54, 16, 86])}\n"
     ]
    }
   ],
   "source": [
    "print(parents)"
   ]
  },
  {
   "cell_type": "code",
   "execution_count": 45,
   "metadata": {},
   "outputs": [
    {
     "name": "stdout",
     "output_type": "stream",
     "text": [
      "{0: 0, 57: 0, 83: 0, 53: 0, 10: 0, 92: 0, 61: 0, 40: 0, 55: 0, 22: 0, 2: 1, 11: 1, 35: 1, 98: 1, 46: 1, 32: 1, 65: 1, 36: 1, 25: 1, 50: 1, 4: 2, 72: 2, 74: 2, 3: 2, 63: 2, 27: 2, 80: 2, 64: 2, 77: 2, 93: 2, 7: 3, 24: 3, 79: 3, 6: 3, 14: 3, 18: 3, 44: 3, 26: 3, 45: 3, 82: 3, 12: 4, 37: 4, 90: 4, 76: 4, 17: 4, 68: 4, 85: 4, 69: 4, 81: 4, 71: 4, 15: 5, 19: 5, 31: 5, 29: 5, 43: 5, 38: 5, 34: 5, 97: 5, 84: 5, 42: 5, 20: 6, 5: 6, 94: 6, 91: 6, 87: 6, 41: 6, 95: 6, 28: 6, 75: 6, 99: 6, 30: 7, 73: 7, 67: 7, 1: 7, 23: 7, 49: 7, 56: 7, 39: 7, 66: 7, 21: 7, 52: 8, 47: 8, 59: 8, 96: 8, 33: 8, 60: 8, 70: 8, 51: 8, 13: 8, 58: 8, 89: 9, 48: 9, 8: 9, 88: 9, 78: 9, 62: 9, 9: 9, 54: 9, 16: 9, 86: 9}\n"
     ]
    }
   ],
   "source": [
    "reverse = {}\n",
    "\n",
    "for key in parents.keys():\n",
    "    for i in range(len(parents[key])):\n",
    "        reverse[parents[key][i]] = key\n",
    "\n",
    "print(reverse)\n"
   ]
  },
  {
   "cell_type": "code",
   "execution_count": 46,
   "metadata": {},
   "outputs": [],
   "source": [
    "# for each embedding fint the closest centroid\n",
    "\n",
    "a = np.zeros((10,100))\n",
    "\n",
    "\n",
    "for i, x in enumerate(embeddings):\n",
    "    distances = np.linalg.norm(centroids - x, axis=1)\n",
    "    first_index = np.argsort(distances)[0]    \n",
    "    a[reverse[first_index]][y[i]] += 1\n",
    "\n",
    "    "
   ]
  },
  {
   "cell_type": "code",
   "execution_count": 47,
   "metadata": {},
   "outputs": [
    {
     "name": "stdout",
     "output_type": "stream",
     "text": [
      "(100, 2)\n"
     ]
    },
    {
     "data": {
      "image/png": "[encoded data removed]",
      "text/plain": [
       "<Figure size 640x480 with 1 Axes>"
      ]
     },
     "metadata": {},
     "output_type": "display_data"
    }
   ],
   "source": [
    "## do PCA on the centroids\n",
    "\n",
    "pca_centroids = PCA(n_components=2)\n",
    "pca_centroids.fit(centroids)\n",
    "\n",
    "pca_centroids_transform = pca_centroids.transform(centroids)\n",
    "\n",
    "print(pca_centroids_transform.shape)\n",
    "\n",
    "# plot the centroids\n",
    "\n",
    "import matplotlib.pyplot as plt\n",
    "\n",
    "# color each centroid with the color of the parent cluster\n",
    "\n",
    "colors = ['red', 'blue', 'green', 'yellow', 'orange', 'purple', 'pink', 'brown', 'black', 'grey']\n",
    "\n",
    "for i in range(100):\n",
    "    plt.scatter(pca_centroids_transform[i,0], pca_centroids_transform[i,1], color=colors[reverse[i]])\n",
    "\n",
    "plt.show()"
   ]
  },
  {
   "cell_type": "code",
   "execution_count": 48,
   "metadata": {},
   "outputs": [
    {
     "name": "stdout",
     "output_type": "stream",
     "text": [
      "(49984,)\n",
      "99\n"
     ]
    }
   ],
   "source": [
    "print(y.shape)\n",
    "print(np.max(y))"
   ]
  },
  {
   "cell_type": "code",
   "execution_count": 49,
   "metadata": {},
   "outputs": [
    {
     "data": {
      "text/plain": [
       "<matplotlib.image.AxesImage at 0x15ba4ffd0>"
      ]
     },
     "execution_count": 49,
     "metadata": {},
     "output_type": "execute_result"
    },
    {
     "data": {
      "image/png": "[encoded data removed]",
      "text/plain": [
       "<Figure size 640x480 with 1 Axes>"
      ]
     },
     "metadata": {},
     "output_type": "display_data"
    }
   ],
   "source": [
    "import matplotlib.pyplot as plt\n",
    "\n",
    "plt.xlabel(\"Classes\")\n",
    "plt.ylabel(\"Cluster\\ncount\")\n",
    "#plt.title(\"Embedding count that belongs to a cluster for every label class number of clustering = \" + str(centroids.shape[0]))\n",
    "plt.imshow(a,cmap='Greys_r')"
   ]
  },
  {
   "cell_type": "code",
   "execution_count": 50,
   "metadata": {},
   "outputs": [
    {
     "data": {
      "text/plain": [
       "<matplotlib.image.AxesImage at 0x15ba926b0>"
      ]
     },
     "execution_count": 50,
     "metadata": {},
     "output_type": "execute_result"
    },
    {
     "data": {
      "image/png": "[encoded data removed]",
      "text/plain": [
       "<Figure size 640x480 with 1 Axes>"
      ]
     },
     "metadata": {},
     "output_type": "display_data"
    }
   ],
   "source": [
    "## majority voting for each class\n",
    "b = np.argmax(a, axis=0)\n",
    "\n",
    "c = np.zeros((10,100))\n",
    "for x in range(100):    \n",
    "    c[b[x]][x] = 1\n",
    "\n",
    "plt.xlabel(\"Classes\")\n",
    "plt.ylabel(\"Cluster\\ncount\")\n",
    "plt.title(\"Majority belonging to a cluster for every label class number of clustering =\")\n",
    "plt.imshow(c, cmap='Greys_r')"
   ]
  },
  {
   "cell_type": "code",
   "execution_count": 51,
   "metadata": {},
   "outputs": [
    {
     "data": {
      "text/plain": [
       "array([10., 10., 10., 10., 10., 10., 10., 10., 10., 10.])"
      ]
     },
     "execution_count": 51,
     "metadata": {},
     "output_type": "execute_result"
    }
   ],
   "source": [
    "np.sum(c, axis=1)"
   ]
  },
  {
   "cell_type": "code",
   "execution_count": 52,
   "metadata": {},
   "outputs": [
    {
     "name": "stdout",
     "output_type": "stream",
     "text": [
      "0.13002160691421255\n"
     ]
    }
   ],
   "source": [
    "false_negative = np.ma.array(a,mask=c)\n",
    "sum_fn = np.sum(false_negative)\n",
    "print(sum_fn/y.shape[0])"
   ]
  },
  {
   "cell_type": "code",
   "execution_count": 67,
   "metadata": {},
   "outputs": [
    {
     "name": "stdout",
     "output_type": "stream",
     "text": [
      "(10000, 344)\n",
      "(10000,)\n",
      "[17 75 46  0 96 27 65 13 87 68  4 13  2 32 85 23 71 63 50 41 32 17 97 32\n",
      " 95 26 61 62 51  1]\n"
     ]
    }
   ],
   "source": [
    "with open('embeddings_all_l0.9_test.pkl', 'rb') as file:\n",
    "    data = pickle.load(file)\n",
    "\n",
    "x_test = data[\"outputs\"].cpu().numpy()\n",
    "y_test = data[\"labels\"].cpu().numpy()\n",
    "print(x_test.shape)\n",
    "print(y_test.shape)\n",
    "\n",
    "print(y_test[:30])"
   ]
  },
  {
   "cell_type": "code",
   "execution_count": 64,
   "metadata": {},
   "outputs": [],
   "source": [
    "# for each embedding fint the closest centroid\n",
    "embeddings_test = np.array((x_test - np.min(x_test)) / (np.max(x_test) - np.min(x_test)))"
   ]
  },
  {
   "cell_type": "code",
   "execution_count": 77,
   "metadata": {},
   "outputs": [],
   "source": [
    "# for each embedding fint the closest centroid\n",
    "\n",
    "at = np.zeros((10,100))\n",
    "\n",
    "for i, x in enumerate(embeddings_test):     \n",
    "    distances = np.linalg.norm(centroids - x, axis=1)\n",
    "    first_index = np.argsort(distances)[0]        \n",
    "    at[reverse[first_index]][y_test[i]] += 1"
   ]
  },
  {
   "cell_type": "code",
   "execution_count": 78,
   "metadata": {},
   "outputs": [
    {
     "name": "stdout",
     "output_type": "stream",
     "text": [
      "[17 75 46  0 96 27 65 13 87 68  4 13  2 32 85 23 71 63 50 41]\n"
     ]
    }
   ],
   "source": [
    "print(y_test[:20])"
   ]
  },
  {
   "cell_type": "code",
   "execution_count": 79,
   "metadata": {},
   "outputs": [
    {
     "data": {
      "text/plain": [
       "<matplotlib.image.AxesImage at 0x15da13a90>"
      ]
     },
     "execution_count": 79,
     "metadata": {},
     "output_type": "execute_result"
    },
    {
     "data": {
      "image/png": "[encoded data removed]",
      "text/plain": [
       "<Figure size 640x480 with 1 Axes>"
      ]
     },
     "metadata": {},
     "output_type": "display_data"
    }
   ],
   "source": [
    "\n",
    "import matplotlib.pyplot as plt\n",
    "\n",
    "plt.xlabel(\"Classes\")\n",
    "plt.ylabel(\"Cluster\\ncount\")\n",
    "#plt.title(\"Embedding count that belongs to a cluster for every label class number of clustering = \" + str(centroids.shape[0]))\n",
    "plt.imshow(at,cmap='Greys_r')"
   ]
  },
  {
   "cell_type": "code",
   "execution_count": 80,
   "metadata": {},
   "outputs": [
    {
     "data": {
      "text/plain": [
       "<matplotlib.image.AxesImage at 0x1480929e0>"
      ]
     },
     "execution_count": 80,
     "metadata": {},
     "output_type": "execute_result"
    },
    {
     "data": {
      "image/png": "[encoded data removed]",
      "text/plain": [
       "<Figure size 640x480 with 1 Axes>"
      ]
     },
     "metadata": {},
     "output_type": "display_data"
    }
   ],
   "source": [
    "## majority voting for each class\n",
    "b = np.argmax(a, axis=0)\n",
    "\n",
    "c = np.zeros((10,100))\n",
    "for x in range(100):    \n",
    "    c[b[x]][x] = 1\n",
    "\n",
    "plt.xlabel(\"Classes\")\n",
    "plt.ylabel(\"Cluster\\ncount\")\n",
    "plt.title(\"Majority belonging to a cluster for every label class number of clustering =\")\n",
    "plt.imshow(c, cmap='Greys_r')"
   ]
  },
  {
   "cell_type": "code",
   "execution_count": 81,
   "metadata": {},
   "outputs": [
    {
     "data": {
      "text/plain": [
       "array([ 9., 10., 11., 10., 10., 10., 10., 10., 10., 10.])"
      ]
     },
     "execution_count": 81,
     "metadata": {},
     "output_type": "execute_result"
    }
   ],
   "source": [
    "np.sum(c, axis=1)"
   ]
  },
  {
   "cell_type": "code",
   "execution_count": 82,
   "metadata": {},
   "outputs": [
    {
     "name": "stdout",
     "output_type": "stream",
     "text": [
      "0.5683418693982074\n"
     ]
    }
   ],
   "source": [
    "false_negative = np.ma.array(a,mask=c)\n",
    "sum_fn = np.sum(false_negative)\n",
    "print(sum_fn/y.shape[0])"
   ]
  },
  {
   "cell_type": "code",
   "execution_count": null,
   "metadata": {},
   "outputs": [],
   "source": []
  }
 ],
 "metadata": {
  "kernelspec": {
   "display_name": "ai701",
   "language": "python",
   "name": "python3"
  },
  "language_info": {
   "codemirror_mode": {
    "name": "ipython",
    "version": 3
   },
   "file_extension": ".py",
   "mimetype": "text/x-python",
   "name": "python",
   "nbconvert_exporter": "python",
   "pygments_lexer": "ipython3",
   "version": "3.10.0"
  },
  "orig_nbformat": 4
 },
 "nbformat": 4,
 "nbformat_minor": 2
}
