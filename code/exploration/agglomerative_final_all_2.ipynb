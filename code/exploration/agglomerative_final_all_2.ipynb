{
 "cells": [
  {
   "cell_type": "code",
   "execution_count": 1,
   "metadata": {},
   "outputs": [],
   "source": [
    "import pickle\n",
    "import numpy as np"
   ]
  },
  {
   "cell_type": "code",
   "execution_count": 2,
   "metadata": {},
   "outputs": [
    {
     "name": "stdout",
     "output_type": "stream",
     "text": [
      "(49984,)\n"
     ]
    }
   ],
   "source": [
    "with open('embeddings_all.pkl', 'rb') as file:\n",
    "    data = pickle.load(file)\n",
    "\n",
    "x = data[\"outputs\"].cpu().numpy()\n",
    "y = data[\"labels\"].cpu().numpy()\n",
    "print(y.shape)"
   ]
  },
  {
   "cell_type": "code",
   "execution_count": 3,
   "metadata": {},
   "outputs": [],
   "source": [
    "# normalize embeddings\n",
    "x = (x - np.min(x)) / (np.max(x) - np.min(x))"
   ]
  },
  {
   "cell_type": "code",
   "execution_count": 4,
   "metadata": {},
   "outputs": [],
   "source": [
    "embeddings = np.array(x)"
   ]
  },
  {
   "cell_type": "code",
   "execution_count": 5,
   "metadata": {},
   "outputs": [],
   "source": [
    "# do PCA\n",
    "from sklearn.decomposition import PCA\n",
    "\n",
    "pca = PCA(n_components=2)\n",
    "pca.fit(embeddings)\n",
    "\n",
    "pca_transform = pca.transform(embeddings)"
   ]
  },
  {
   "cell_type": "code",
   "execution_count": 6,
   "metadata": {},
   "outputs": [
    {
     "name": "stdout",
     "output_type": "stream",
     "text": [
      "100\n"
     ]
    }
   ],
   "source": [
    "fine_labels = ['apple', 'aquarium_fish', 'baby', 'bear', 'beaver', 'bed', 'bee', 'beetle', 'bicycle', 'bottle', 'bowl', 'boy', 'bridge', 'bus', 'butterfly', 'camel', 'can', 'castle', 'caterpillar', 'cattle', 'chair', 'chimpanzee', 'clock', 'cloud', 'cockroach', 'couch', 'crab', 'crocodile', 'cup', 'dinosaur', 'dolphin', 'elephant', 'flatfish', 'forest', 'fox', 'girl', 'hamster', 'house', 'kangaroo', 'keyboard', 'lamp', 'lawn_mower', 'leopard', 'lion', 'lizard', 'lobster', 'man', 'maple_tree', 'motorcycle', 'mountain', 'mouse', 'mushroom', 'oak_tree', 'orange', 'orchid', 'otter', 'palm_tree', 'pear', 'pickup_truck', 'pine_tree', 'plain', 'plate', 'poppy', 'porcupine', 'possum', 'rabbit', 'raccoon', 'ray', 'road', 'rocket', 'rose', 'sea', 'seal', 'shark', 'shrew', 'skunk', 'skyscraper', 'snail', 'snake', 'spider', 'squirrel', 'streetcar', 'sunflower', 'sweet_pepper', 'table', 'tank', 'telephone', 'television', 'tiger', 'tractor', 'train', 'trout', 'tulip', 'turtle', 'wardrobe', 'whale', 'willow_tree', 'wolf', 'woman', 'worm']\n",
    "\n",
    "print(len(fine_labels))"
   ]
  },
  {
   "cell_type": "code",
   "execution_count": 19,
   "metadata": {},
   "outputs": [
    {
     "name": "stdout",
     "output_type": "stream",
     "text": [
      "100\n",
      "[0, 1, 2, 3, 4, 5, 6, 7, 8, 9, 10, 11, 12, 13, 14, 15, 16, 17, 18, 19, 20, 21, 22, 23, 24, 25, 26, 27, 28, 29, 30, 31, 32, 33, 34, 35, 36, 37, 38, 39, 40, 41, 42, 43, 44, 45, 46, 47, 48, 49, 50, 51, 52, 53, 54, 55, 56, 57, 58, 59, 60, 61, 62, 63, 64, 65, 66, 67, 68, 69, 70, 71, 72, 73, 74, 75, 76, 77, 78, 79, 80, 81, 82, 83, 84, 85, 86, 87, 88, 89, 90, 91, 92, 93, 94, 95, 96, 97, 98, 99]\n"
     ]
    }
   ],
   "source": [
    "# compute the centroid for each class\n",
    "centroids = []\n",
    "labels = []\n",
    "for i in range(100):\n",
    "    centroids.append(np.mean(pca_transform[y == i], axis=0))\n",
    "    labels.append(i)\n",
    "\n",
    "print(len(centroids))\n",
    "print(labels)"
   ]
  },
  {
   "cell_type": "code",
   "execution_count": 14,
   "metadata": {},
   "outputs": [
    {
     "name": "stdout",
     "output_type": "stream",
     "text": [
      "sorted int64\n",
      "[ 0 29  5 61 16 22 94 25 43 34]\n",
      "(90, 2)\n",
      "sorted int64\n",
      "[ 2 51 54 84 83  8 88  6 62 48]\n",
      "(80, 2)\n",
      "sorted int64\n",
      "[ 4 27 99 93 91 63 80 55 65 64]\n",
      "(70, 2)\n",
      "sorted int64\n",
      "[ 9 40 82 97 28 21 87 86 46 39]\n",
      "(60, 2)\n",
      "sorted int64\n",
      "[11 35 98 41 53 70 92 57 10 24]\n",
      "(50, 2)\n",
      "sorted int64\n",
      "[14 26 45 78  7  1 79 36 20 44]\n",
      "(40, 2)\n",
      "sorted int64\n",
      "[19 58 15 13 47 85 81 31 17 37]\n",
      "(30, 2)\n",
      "sorted int64\n",
      "[38 75 32  3 66 42 33 18 72 56]\n",
      "(20, 2)\n",
      "sorted int64\n",
      "[67 74 73 30 50 77 95 23 69 71]\n",
      "(10, 2)\n",
      "sorted int64\n",
      "[96 59 52 90 60 12 49 68 76 89]\n",
      "(0, 2)\n"
     ]
    }
   ],
   "source": [
    "\n",
    "clusters = {}\n",
    "parents = {}\n",
    "curr_points = np.array(centroids.copy())\n",
    "curr_labels = labels.copy()\n",
    "\n",
    "for i in range(10):\n",
    "\n",
    "    # calculate distances from the first centroid\n",
    "    distances = np.linalg.norm(curr_points - curr_points[i], axis=1)\n",
    "\n",
    "    # sort the distances and get the indices\n",
    "    sorted_distances = np.argsort(distances)\n",
    "    print(\"sorted\", sorted_distances.dtype)\n",
    "\n",
    "    # add to the cluster the 10 closest points but not itself\n",
    "    clusters[i] = curr_points[sorted_distances.astype(int)[:10]]\n",
    "    #print(clusters[i])    \n",
    "    parents[i] = (np.array(curr_labels)[sorted_distances])[:10]\n",
    "    print(parents[i])\n",
    "\n",
    "    # delete the points from the list\n",
    "    curr_points = np.delete(curr_points, sorted_distances[:10], axis=0)\n",
    "    curr_labels = np.delete(curr_labels, sorted_distances[:10], axis=0)\n",
    "\n",
    "    # add the new point to the list\n",
    "    #curr_points = np.vstack((curr_points, new_point_mean))\n",
    "    print(curr_points.shape)\n",
    "\n"
   ]
  },
  {
   "cell_type": "code",
   "execution_count": 15,
   "metadata": {},
   "outputs": [
    {
     "name": "stdout",
     "output_type": "stream",
     "text": [
      "{0: array([ 0, 29,  5, 61, 16, 22, 94, 25, 43, 34]), 1: array([ 2, 51, 54, 84, 83,  8, 88,  6, 62, 48]), 2: array([ 4, 27, 99, 93, 91, 63, 80, 55, 65, 64]), 3: array([ 9, 40, 82, 97, 28, 21, 87, 86, 46, 39]), 4: array([11, 35, 98, 41, 53, 70, 92, 57, 10, 24]), 5: array([14, 26, 45, 78,  7,  1, 79, 36, 20, 44]), 6: array([19, 58, 15, 13, 47, 85, 81, 31, 17, 37]), 7: array([38, 75, 32,  3, 66, 42, 33, 18, 72, 56]), 8: array([67, 74, 73, 30, 50, 77, 95, 23, 69, 71]), 9: array([96, 59, 52, 90, 60, 12, 49, 68, 76, 89])}\n"
     ]
    }
   ],
   "source": [
    "print(parents)"
   ]
  },
  {
   "cell_type": "code",
   "execution_count": 16,
   "metadata": {},
   "outputs": [
    {
     "name": "stdout",
     "output_type": "stream",
     "text": [
      "{0: 0, 29: 0, 5: 0, 61: 0, 16: 0, 22: 0, 94: 0, 25: 0, 43: 0, 34: 0, 2: 1, 51: 1, 54: 1, 84: 1, 83: 1, 8: 1, 88: 1, 6: 1, 62: 1, 48: 1, 4: 2, 27: 2, 99: 2, 93: 2, 91: 2, 63: 2, 80: 2, 55: 2, 65: 2, 64: 2, 9: 3, 40: 3, 82: 3, 97: 3, 28: 3, 21: 3, 87: 3, 86: 3, 46: 3, 39: 3, 11: 4, 35: 4, 98: 4, 41: 4, 53: 4, 70: 4, 92: 4, 57: 4, 10: 4, 24: 4, 14: 5, 26: 5, 45: 5, 78: 5, 7: 5, 1: 5, 79: 5, 36: 5, 20: 5, 44: 5, 19: 6, 58: 6, 15: 6, 13: 6, 47: 6, 85: 6, 81: 6, 31: 6, 17: 6, 37: 6, 38: 7, 75: 7, 32: 7, 3: 7, 66: 7, 42: 7, 33: 7, 18: 7, 72: 7, 56: 7, 67: 8, 74: 8, 73: 8, 30: 8, 50: 8, 77: 8, 95: 8, 23: 8, 69: 8, 71: 8, 96: 9, 59: 9, 52: 9, 90: 9, 60: 9, 12: 9, 49: 9, 68: 9, 76: 9, 89: 9}\n"
     ]
    }
   ],
   "source": [
    "reverse = {}\n",
    "\n",
    "for key in parents.keys():\n",
    "    for i in range(len(parents[key])):\n",
    "        reverse[parents[key][i]] = key\n",
    "\n",
    "print(reverse)\n"
   ]
  },
  {
   "cell_type": "code",
   "execution_count": 20,
   "metadata": {},
   "outputs": [],
   "source": [
    "# for each embedding fint the closest centroid\n",
    "\n",
    "a = np.zeros((10,100))\n",
    "\n",
    "\n",
    "for i, x in enumerate(pca_transform):\n",
    "    distances = np.linalg.norm(centroids - x, axis=1)\n",
    "    first_index = np.argsort(distances)[0]    \n",
    "    a[reverse[first_index]][y[i]] += 1\n",
    "\n",
    "    "
   ]
  },
  {
   "cell_type": "code",
   "execution_count": 21,
   "metadata": {},
   "outputs": [
    {
     "name": "stdout",
     "output_type": "stream",
     "text": [
      "(100, 2)\n"
     ]
    },
    {
     "data": {
      "image/png": "[encoded data removed]",
      "text/plain": [
       "<Figure size 640x480 with 1 Axes>"
      ]
     },
     "metadata": {},
     "output_type": "display_data"
    }
   ],
   "source": [
    "## do PCA on the centroids\n",
    "\n",
    "pca_centroids = PCA(n_components=2)\n",
    "pca_centroids.fit(centroids)\n",
    "\n",
    "pca_centroids_transform = pca_centroids.transform(centroids)\n",
    "\n",
    "print(pca_centroids_transform.shape)\n",
    "\n",
    "# plot the centroids\n",
    "\n",
    "import matplotlib.pyplot as plt\n",
    "\n",
    "# color each centroid with the color of the parent cluster\n",
    "\n",
    "colors = ['red', 'blue', 'green', 'yellow', 'orange', 'purple', 'pink', 'brown', 'black', 'grey']\n",
    "\n",
    "for i in range(100):\n",
    "    plt.scatter(pca_centroids_transform[i,0], pca_centroids_transform[i,1], color=colors[reverse[i]])\n",
    "\n",
    "plt.show()"
   ]
  },
  {
   "cell_type": "code",
   "execution_count": 22,
   "metadata": {},
   "outputs": [
    {
     "name": "stdout",
     "output_type": "stream",
     "text": [
      "(49984,)\n",
      "99\n"
     ]
    }
   ],
   "source": [
    "print(y.shape)\n",
    "print(np.max(y))"
   ]
  },
  {
   "cell_type": "code",
   "execution_count": 23,
   "metadata": {},
   "outputs": [
    {
     "data": {
      "text/plain": [
       "<matplotlib.image.AxesImage at 0x29a32da50>"
      ]
     },
     "execution_count": 23,
     "metadata": {},
     "output_type": "execute_result"
    },
    {
     "data": {
      "image/png": "[encoded data removed]",
      "text/plain": [
       "<Figure size 640x480 with 1 Axes>"
      ]
     },
     "metadata": {},
     "output_type": "display_data"
    }
   ],
   "source": [
    "\n",
    "import matplotlib.pyplot as plt\n",
    "\n",
    "plt.xlabel(\"Classes\")\n",
    "plt.ylabel(\"Cluster\\ncount\")\n",
    "#plt.title(\"Embedding count that belongs to a cluster for every label class number of clustering = \" + str(centroids.shape[0]))\n",
    "plt.imshow(a,cmap='Greys_r')"
   ]
  },
  {
   "cell_type": "code",
   "execution_count": 24,
   "metadata": {},
   "outputs": [
    {
     "data": {
      "text/plain": [
       "<matplotlib.image.AxesImage at 0x29a5ab9a0>"
      ]
     },
     "execution_count": 24,
     "metadata": {},
     "output_type": "execute_result"
    },
    {
     "data": {
      "image/png": "[encoded data removed]",
      "text/plain": [
       "<Figure size 640x480 with 1 Axes>"
      ]
     },
     "metadata": {},
     "output_type": "display_data"
    }
   ],
   "source": [
    "## majority voting for each class\n",
    "b = np.argmax(a, axis=0)\n",
    "\n",
    "c = np.zeros((10,100))\n",
    "for x in range(100):    \n",
    "    c[b[x]][x] = 1\n",
    "\n",
    "plt.xlabel(\"Classes\")\n",
    "plt.ylabel(\"Cluster\\ncount\")\n",
    "plt.title(\"Majority belonging to a cluster for every label class number of clustering =\")\n",
    "plt.imshow(c, cmap='Greys_r')"
   ]
  },
  {
   "cell_type": "code",
   "execution_count": 25,
   "metadata": {},
   "outputs": [
    {
     "data": {
      "text/plain": [
       "array([ 0.,  0.,  0.,  3.,  8., 31.,  3., 11., 22., 22.])"
      ]
     },
     "execution_count": 25,
     "metadata": {},
     "output_type": "execute_result"
    }
   ],
   "source": [
    "np.sum(c, axis=1)"
   ]
  },
  {
   "cell_type": "code",
   "execution_count": 26,
   "metadata": {},
   "outputs": [
    {
     "name": "stdout",
     "output_type": "stream",
     "text": [
      "0.62738076184379\n"
     ]
    }
   ],
   "source": [
    "false_negative = np.ma.array(a,mask=c)\n",
    "sum_fn = np.sum(false_negative)\n",
    "print(sum_fn/y.shape[0])"
   ]
  },
  {
   "cell_type": "code",
   "execution_count": null,
   "metadata": {},
   "outputs": [],
   "source": []
  },
  {
   "cell_type": "code",
   "execution_count": null,
   "metadata": {},
   "outputs": [],
   "source": []
  }
 ],
 "metadata": {
  "kernelspec": {
   "display_name": "ai701",
   "language": "python",
   "name": "python3"
  },
  "language_info": {
   "codemirror_mode": {
    "name": "ipython",
    "version": 3
   },
   "file_extension": ".py",
   "mimetype": "text/x-python",
   "name": "python",
   "nbconvert_exporter": "python",
   "pygments_lexer": "ipython3",
   "version": "3.10.0"
  },
  "orig_nbformat": 4
 },
 "nbformat": 4,
 "nbformat_minor": 2
}
