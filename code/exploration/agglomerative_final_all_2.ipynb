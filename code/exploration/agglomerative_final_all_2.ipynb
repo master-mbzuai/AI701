{
 "cells": [
  {
   "cell_type": "code",
   "execution_count": 1,
   "metadata": {},
   "outputs": [],
   "source": [
    "import pickle\n",
    "import numpy as np"
   ]
  },
  {
   "cell_type": "code",
   "execution_count": 2,
   "metadata": {},
   "outputs": [
    {
     "name": "stdout",
     "output_type": "stream",
     "text": [
      "(49984,)\n"
     ]
    }
   ],
   "source": [
    "with open('embeddings_all.pkl', 'rb') as file:\n",
    "    data = pickle.load(file)\n",
    "\n",
    "x = data[\"outputs\"].cpu().numpy()\n",
    "y = data[\"labels\"].cpu().numpy()\n",
    "print(y.shape)"
   ]
  },
  {
   "cell_type": "code",
   "execution_count": 3,
   "metadata": {},
   "outputs": [],
   "source": [
    "# normalize embeddings\n",
    "x = (x - np.min(x)) / (np.max(x) - np.min(x))"
   ]
  },
  {
   "cell_type": "code",
   "execution_count": 4,
   "metadata": {},
   "outputs": [],
   "source": [
    "embeddings = np.array(x)"
   ]
  },
  {
   "cell_type": "code",
   "execution_count": 6,
   "metadata": {},
   "outputs": [],
   "source": [
    "import numpy as np\n",
    "from sklearn.metrics.pairwise import euclidean_distances\n",
    "\n",
    "def cluster_classes(embeddings, labels, n_clusters=10, classes_per_cluster=10):\n",
    "    # Initialize clusters\n",
    "    clusters = {i: [] for i in range(n_clusters)}\n",
    "    unassigned_labels = set(labels)\n",
    "\n",
    "    # Calculate and store all pairwise distances\n",
    "    distances = euclidean_distances(embeddings, embeddings)\n",
    "\n",
    "    # Precompute the minimum distance to each unassigned label from each cluster\n",
    "    min_distances = {label: np.inf for label in unassigned_labels}\n",
    "\n",
    "    for cluster_id in range(n_clusters):\n",
    "        for _ in range(classes_per_cluster):\n",
    "            if cluster_id == 0:\n",
    "                # For the first cluster, choose classes randomly\n",
    "                chosen_label = np.random.choice(list(unassigned_labels))\n",
    "            else:\n",
    "                # For subsequent clusters, choose based on minimum cumulative distance\n",
    "                chosen_label = min(unassigned_labels, key=lambda label: min_distances[label])\n",
    "\n",
    "            # Assign chosen label to current cluster and remove from unassigned labels\n",
    "            clusters[cluster_id].append(chosen_label)\n",
    "            unassigned_labels.remove(chosen_label)\n",
    "\n",
    "            # Update minimum distances for the remaining unassigned labels\n",
    "            for label in unassigned_labels:\n",
    "                min_distances[label] = min(min_distances[label], distances[chosen_label, label])\n",
    "\n",
    "    return clusters\n",
    "# Example usage\n",
    "# embeddings = np.array([...])  # Replace with your embeddings array\n",
    "# labels = np.array([...])      # Replace with your labels array\n",
    "# result = cluster_classes(embeddings, labels)\n",
    "# print(result)"
   ]
  },
  {
   "cell_type": "code",
   "execution_count": 7,
   "metadata": {},
   "outputs": [],
   "source": [
    "result = cluster_classes(embeddings, y)"
   ]
  },
  {
   "cell_type": "code",
   "execution_count": null,
   "metadata": {},
   "outputs": [],
   "source": []
  }
 ],
 "metadata": {
  "kernelspec": {
   "display_name": "ai701",
   "language": "python",
   "name": "python3"
  },
  "language_info": {
   "codemirror_mode": {
    "name": "ipython",
    "version": 3
   },
   "file_extension": ".py",
   "mimetype": "text/x-python",
   "name": "python",
   "nbconvert_exporter": "python",
   "pygments_lexer": "ipython3",
   "version": "3.10.0"
  },
  "orig_nbformat": 4
 },
 "nbformat": 4,
 "nbformat_minor": 2
}
