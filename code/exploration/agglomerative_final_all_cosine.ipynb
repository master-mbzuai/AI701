{
 "cells": [
  {
   "cell_type": "code",
   "execution_count": 87,
   "metadata": {},
   "outputs": [],
   "source": [
    "import pickle\n",
    "import numpy as np"
   ]
  },
  {
   "cell_type": "code",
   "execution_count": 88,
   "metadata": {},
   "outputs": [
    {
     "name": "stdout",
     "output_type": "stream",
     "text": [
      "(49984,)\n"
     ]
    }
   ],
   "source": [
    "with open('embeddings_all_l0.9.pkl', 'rb') as file:\n",
    "    data = pickle.load(file)\n",
    "\n",
    "x = data[\"outputs\"].cpu().numpy()\n",
    "y = data[\"labels\"].cpu().numpy()\n",
    "print(y.shape)"
   ]
  },
  {
   "cell_type": "code",
   "execution_count": 89,
   "metadata": {},
   "outputs": [],
   "source": [
    "# normalize embeddings\n",
    "x = (x - np.min(x)) / (np.max(x) - np.min(x))"
   ]
  },
  {
   "cell_type": "code",
   "execution_count": 90,
   "metadata": {},
   "outputs": [],
   "source": [
    "embeddings = np.array(x)"
   ]
  },
  {
   "cell_type": "code",
   "execution_count": 91,
   "metadata": {},
   "outputs": [],
   "source": [
    "def cosine_similarity(v1, v2):\n",
    "    \"\"\"Calculate the cosine similarity between two vectors.\"\"\"\n",
    "    return np.dot(v1, v2) / (np.linalg.norm(v1) * np.linalg.norm(v2))\n",
    "\n",
    "def compute_centroid(vectors):\n",
    "    \"\"\"Compute the centroid of a set of vectors using cosine similarity.\"\"\"\n",
    "    # Sum all vectors\n",
    "    sum_vector = np.sum(vectors, axis=0)\n",
    "    \n",
    "    # Normalize the sum vector to unit length\n",
    "    centroid = sum_vector / np.linalg.norm(sum_vector)    \n",
    "\n",
    "    return centroid\n",
    "\n",
    "# Example usage\n",
    "# vectors = np.array([...])  # Replace with your array of vectors\n",
    "# centroid = compute_centroid(vectors)\n",
    "# print(\"Centroid:\", centroid)\n"
   ]
  },
  {
   "cell_type": "code",
   "execution_count": 92,
   "metadata": {},
   "outputs": [],
   "source": [
    "# compute the centroid for each class\n",
    "centroids = []\n",
    "labels = []\n",
    "for i in range(100):\n",
    "    centroids.append(compute_centroid(embeddings[y == i]))\n",
    "    labels.append(i)\n",
    "\n",
    "# print(len(centroids))\n",
    "# print(centroids)"
   ]
  },
  {
   "cell_type": "code",
   "execution_count": 93,
   "metadata": {},
   "outputs": [
    {
     "name": "stdout",
     "output_type": "stream",
     "text": [
      "sorted int64\n",
      "[52 48 68 90 76 13 81 49  6 85]\n",
      "(90, 344)\n",
      "sorted int64\n",
      "[17 60 23 71  0 61 31 59 15 16]\n",
      "(80, 344)\n",
      "sorted int64\n",
      "[53 99  5 20 45 26 83 78 58 47]\n",
      "(70, 344)\n",
      "sorted int64\n",
      "[54 69  9 41 28 70 94 92 86 98]\n",
      "(60, 344)\n",
      "sorted int64\n",
      "[95 30 12 73 35 46 11 39 96 19]\n",
      "(50, 344)\n",
      "sorted int64\n",
      "[62 21 56 18 87 24 51 67 74 82]\n",
      "(40, 344)\n",
      "sorted int64\n",
      "[33 27 38 89 44 43 80 37  8 42]\n",
      "(30, 344)\n",
      "sorted int64\n",
      "[36  1 63  4 75  2 34 57 50  3]\n",
      "(20, 344)\n",
      "sorted int64\n",
      "[84 22 10 40 88 14 25  7 79 91]\n",
      "(10, 344)\n",
      "sorted int64\n",
      "[77 93 32 29 72 55 65 64 66 97]\n",
      "(0, 344)\n"
     ]
    }
   ],
   "source": [
    "\n",
    "clusters = {}\n",
    "parents = {}\n",
    "curr_points = np.array(centroids.copy())\n",
    "curr_labels = labels.copy()\n",
    "\n",
    "for i in range(10):\n",
    "\n",
    "    # calculate cosine distance\n",
    "    distances = []\n",
    "\n",
    "    for j in range(len(curr_points)):\n",
    "        distances.append(cosine_similarity(curr_points[i], curr_points[j]))    \n",
    "\n",
    "    # sort the distances and get the indices\n",
    "    sorted_distances = np.argsort(distances)\n",
    "    print(\"sorted\", sorted_distances.dtype)\n",
    "\n",
    "    # add to the cluster the 10 closest points but not itself\n",
    "    clusters[i] = curr_points[sorted_distances.astype(int)[:10]]\n",
    "    #print(clusters[i])    \n",
    "    parents[i] = (np.array(curr_labels)[sorted_distances])[:10]\n",
    "    print(parents[i])\n",
    "\n",
    "    # delete the points from the list\n",
    "    curr_points = np.delete(curr_points, sorted_distances[:10], axis=0)\n",
    "    curr_labels = np.delete(curr_labels, sorted_distances[:10], axis=0)\n",
    "\n",
    "    # add the new point to the list\n",
    "    #curr_points = np.vstack((curr_points, new_point_mean))\n",
    "    print(curr_points.shape)\n",
    "\n"
   ]
  },
  {
   "cell_type": "code",
   "execution_count": 94,
   "metadata": {},
   "outputs": [
    {
     "name": "stdout",
     "output_type": "stream",
     "text": [
      "{0: array([52, 48, 68, 90, 76, 13, 81, 49,  6, 85]), 1: array([17, 60, 23, 71,  0, 61, 31, 59, 15, 16]), 2: array([53, 99,  5, 20, 45, 26, 83, 78, 58, 47]), 3: array([54, 69,  9, 41, 28, 70, 94, 92, 86, 98]), 4: array([95, 30, 12, 73, 35, 46, 11, 39, 96, 19]), 5: array([62, 21, 56, 18, 87, 24, 51, 67, 74, 82]), 6: array([33, 27, 38, 89, 44, 43, 80, 37,  8, 42]), 7: array([36,  1, 63,  4, 75,  2, 34, 57, 50,  3]), 8: array([84, 22, 10, 40, 88, 14, 25,  7, 79, 91]), 9: array([77, 93, 32, 29, 72, 55, 65, 64, 66, 97])}\n"
     ]
    }
   ],
   "source": [
    "print(parents)"
   ]
  },
  {
   "cell_type": "code",
   "execution_count": 95,
   "metadata": {},
   "outputs": [
    {
     "name": "stdout",
     "output_type": "stream",
     "text": [
      "{52: 0, 48: 0, 68: 0, 90: 0, 76: 0, 13: 0, 81: 0, 49: 0, 6: 0, 85: 0, 17: 1, 60: 1, 23: 1, 71: 1, 0: 1, 61: 1, 31: 1, 59: 1, 15: 1, 16: 1, 53: 2, 99: 2, 5: 2, 20: 2, 45: 2, 26: 2, 83: 2, 78: 2, 58: 2, 47: 2, 54: 3, 69: 3, 9: 3, 41: 3, 28: 3, 70: 3, 94: 3, 92: 3, 86: 3, 98: 3, 95: 4, 30: 4, 12: 4, 73: 4, 35: 4, 46: 4, 11: 4, 39: 4, 96: 4, 19: 4, 62: 5, 21: 5, 56: 5, 18: 5, 87: 5, 24: 5, 51: 5, 67: 5, 74: 5, 82: 5, 33: 6, 27: 6, 38: 6, 89: 6, 44: 6, 43: 6, 80: 6, 37: 6, 8: 6, 42: 6, 36: 7, 1: 7, 63: 7, 4: 7, 75: 7, 2: 7, 34: 7, 57: 7, 50: 7, 3: 7, 84: 8, 22: 8, 10: 8, 40: 8, 88: 8, 14: 8, 25: 8, 7: 8, 79: 8, 91: 8, 77: 9, 93: 9, 32: 9, 29: 9, 72: 9, 55: 9, 65: 9, 64: 9, 66: 9, 97: 9}\n"
     ]
    }
   ],
   "source": [
    "reverse = {}\n",
    "\n",
    "for key in parents.keys():\n",
    "    for i in range(len(parents[key])):\n",
    "        reverse[parents[key][i]] = key\n",
    "\n",
    "print(reverse)\n"
   ]
  },
  {
   "cell_type": "code",
   "execution_count": 96,
   "metadata": {},
   "outputs": [],
   "source": [
    "# for each embedding fint the closest centroid\n",
    "\n",
    "a = np.zeros((10,100))\n",
    "\n",
    "\n",
    "for i, x in enumerate(embeddings):\n",
    "    distances = []\n",
    "    for j in centroids:\n",
    "        distances.append(cosine_similarity(x, j))\n",
    "    first_index = np.argsort(distances)[0]    \n",
    "    a[reverse[first_index]][y[i]] += 1\n",
    "\n",
    "    "
   ]
  },
  {
   "cell_type": "code",
   "execution_count": 97,
   "metadata": {},
   "outputs": [
    {
     "name": "stdout",
     "output_type": "stream",
     "text": [
      "(49984,)\n",
      "99\n"
     ]
    }
   ],
   "source": [
    "print(y.shape)\n",
    "print(np.max(y))"
   ]
  },
  {
   "cell_type": "code",
   "execution_count": 98,
   "metadata": {},
   "outputs": [
    {
     "data": {
      "text/plain": [
       "<matplotlib.image.AxesImage at 0x16036e1a0>"
      ]
     },
     "execution_count": 98,
     "metadata": {},
     "output_type": "execute_result"
    },
    {
     "data": {
      "image/png": "[encoded data removed]",
      "text/plain": [
       "<Figure size 640x480 with 1 Axes>"
      ]
     },
     "metadata": {},
     "output_type": "display_data"
    }
   ],
   "source": [
    "import matplotlib.pyplot as plt\n",
    "\n",
    "plt.xlabel(\"Classes\")\n",
    "plt.ylabel(\"Cluster\\ncount\")\n",
    "#plt.title(\"Embedding count that belongs to a cluster for every label class number of clustering = \" + str(centroids.shape[0]))\n",
    "plt.imshow(a,cmap='Greys_r')"
   ]
  },
  {
   "cell_type": "code",
   "execution_count": 99,
   "metadata": {},
   "outputs": [
    {
     "data": {
      "text/plain": [
       "<matplotlib.image.AxesImage at 0x160740b80>"
      ]
     },
     "execution_count": 99,
     "metadata": {},
     "output_type": "execute_result"
    },
    {
     "data": {
      "image/png": "[encoded data removed]",
      "text/plain": [
       "<Figure size 640x480 with 1 Axes>"
      ]
     },
     "metadata": {},
     "output_type": "display_data"
    }
   ],
   "source": [
    "## majority voting for each class\n",
    "b = np.argmax(a, axis=0)\n",
    "\n",
    "c = np.zeros((10,100))\n",
    "for x in range(100):    \n",
    "    c[b[x]][x] = 1\n",
    "\n",
    "plt.xlabel(\"Classes\")\n",
    "plt.ylabel(\"Cluster\\ncount\")\n",
    "plt.title(\"Majority belonging to a cluster for every label class number of clustering =\")\n",
    "plt.imshow(c, cmap='Greys_r')"
   ]
  },
  {
   "cell_type": "code",
   "execution_count": 100,
   "metadata": {},
   "outputs": [
    {
     "data": {
      "text/plain": [
       "array([47., 21., 26.,  6.,  0.,  0.,  0.,  0.,  0.,  0.])"
      ]
     },
     "execution_count": 100,
     "metadata": {},
     "output_type": "execute_result"
    }
   ],
   "source": [
    "np.sum(c, axis=1)"
   ]
  },
  {
   "cell_type": "code",
   "execution_count": 101,
   "metadata": {},
   "outputs": [
    {
     "name": "stdout",
     "output_type": "stream",
     "text": [
      "0.6707146286811779\n"
     ]
    }
   ],
   "source": [
    "false_negative = np.ma.array(a,mask=c)\n",
    "sum_fn = np.sum(false_negative)\n",
    "print(sum_fn/y.shape[0])"
   ]
  },
  {
   "cell_type": "code",
   "execution_count": 53,
   "metadata": {},
   "outputs": [
    {
     "name": "stdout",
     "output_type": "stream",
     "text": [
      "(10000, 344)\n",
      "(10000,)\n",
      "[17 75 46  0 96 27 65 13 87 68  4 13  2 32 85 23 71 63 50 41 32 17 97 32\n",
      " 95 26 61 62 51  1]\n"
     ]
    }
   ],
   "source": [
    "with open('embeddings_all_l0.9_test.pkl', 'rb') as file:\n",
    "    data = pickle.load(file)\n",
    "\n",
    "x_test = data[\"outputs\"].cpu().numpy()\n",
    "y_test = data[\"labels\"].cpu().numpy()\n",
    "print(x_test.shape)\n",
    "print(y_test.shape)\n",
    "\n",
    "print(y_test[:30])"
   ]
  },
  {
   "cell_type": "code",
   "execution_count": 54,
   "metadata": {},
   "outputs": [],
   "source": [
    "# for each embedding fint the closest centroid\n",
    "embeddings_test = np.array((x_test - np.min(x_test)) / (np.max(x_test) - np.min(x_test)))"
   ]
  },
  {
   "cell_type": "code",
   "execution_count": 55,
   "metadata": {},
   "outputs": [],
   "source": [
    "# for each embedding fint the closest centroid\n",
    "\n",
    "at = np.zeros((10,100))\n",
    "\n",
    "for i, x in enumerate(embeddings_test):     \n",
    "    distances = np.linalg.norm(centroids - x, axis=1)\n",
    "    first_index = np.argsort(distances)[0]        \n",
    "    at[reverse[first_index]][y_test[i]] += 1"
   ]
  },
  {
   "cell_type": "code",
   "execution_count": 56,
   "metadata": {},
   "outputs": [
    {
     "name": "stdout",
     "output_type": "stream",
     "text": [
      "[17 75 46  0 96 27 65 13 87 68  4 13  2 32 85 23 71 63 50 41]\n"
     ]
    }
   ],
   "source": [
    "print(y_test[:20])"
   ]
  },
  {
   "cell_type": "code",
   "execution_count": 57,
   "metadata": {},
   "outputs": [
    {
     "data": {
      "text/plain": [
       "<matplotlib.image.AxesImage at 0x2b3382980>"
      ]
     },
     "execution_count": 57,
     "metadata": {},
     "output_type": "execute_result"
    },
    {
     "data": {
      "image/png": "[encoded data removed]",
      "text/plain": [
       "<Figure size 640x480 with 1 Axes>"
      ]
     },
     "metadata": {},
     "output_type": "display_data"
    }
   ],
   "source": [
    "\n",
    "import matplotlib.pyplot as plt\n",
    "\n",
    "plt.xlabel(\"Classes\")\n",
    "plt.ylabel(\"Cluster\\ncount\")\n",
    "#plt.title(\"Embedding count that belongs to a cluster for every label class number of clustering = \" + str(centroids.shape[0]))\n",
    "plt.imshow(at,cmap='Greys_r')"
   ]
  },
  {
   "cell_type": "code",
   "execution_count": 58,
   "metadata": {},
   "outputs": [
    {
     "data": {
      "text/plain": [
       "<matplotlib.image.AxesImage at 0x2b33d1d50>"
      ]
     },
     "execution_count": 58,
     "metadata": {},
     "output_type": "execute_result"
    },
    {
     "data": {
      "image/png": "[encoded data removed]",
      "text/plain": [
       "<Figure size 640x480 with 1 Axes>"
      ]
     },
     "metadata": {},
     "output_type": "display_data"
    }
   ],
   "source": [
    "## majority voting for each class\n",
    "bt = np.argmax(at, axis=0)\n",
    "\n",
    "ct = np.zeros((10,100))\n",
    "for x in range(100):    \n",
    "    ct[bt[x]][x] = 1\n",
    "\n",
    "plt.xlabel(\"Classes\")\n",
    "plt.ylabel(\"Cluster\\ncount\")\n",
    "plt.title(\"Majority belonging to a cluster for every label class number of clustering =\")\n",
    "plt.imshow(ct, cmap='Greys_r')"
   ]
  },
  {
   "cell_type": "code",
   "execution_count": 59,
   "metadata": {},
   "outputs": [
    {
     "data": {
      "text/plain": [
       "array([10., 10., 10., 10., 10., 10., 10., 10., 10., 10.])"
      ]
     },
     "execution_count": 59,
     "metadata": {},
     "output_type": "execute_result"
    }
   ],
   "source": [
    "np.sum(ct, axis=1)"
   ]
  },
  {
   "cell_type": "code",
   "execution_count": 60,
   "metadata": {},
   "outputs": [
    {
     "name": "stdout",
     "output_type": "stream",
     "text": [
      "0.276\n"
     ]
    }
   ],
   "source": [
    "false_negative = np.ma.array(at,mask=ct)\n",
    "sum_fn = np.sum(false_negative)\n",
    "print(sum_fn/y_test.shape[0])"
   ]
  },
  {
   "cell_type": "code",
   "execution_count": null,
   "metadata": {},
   "outputs": [],
   "source": []
  },
  {
   "cell_type": "code",
   "execution_count": null,
   "metadata": {},
   "outputs": [],
   "source": []
  }
 ],
 "metadata": {
  "kernelspec": {
   "display_name": "ai701",
   "language": "python",
   "name": "python3"
  },
  "language_info": {
   "codemirror_mode": {
    "name": "ipython",
    "version": 3
   },
   "file_extension": ".py",
   "mimetype": "text/x-python",
   "name": "python",
   "nbconvert_exporter": "python",
   "pygments_lexer": "ipython3",
   "version": "3.10.0"
  },
  "orig_nbformat": 4
 },
 "nbformat": 4,
 "nbformat_minor": 2
}
