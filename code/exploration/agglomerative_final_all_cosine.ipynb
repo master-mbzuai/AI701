{
 "cells": [
  {
   "cell_type": "code",
   "execution_count": 1,
   "metadata": {},
   "outputs": [],
   "source": [
    "import pickle\n",
    "import numpy as np"
   ]
  },
  {
   "cell_type": "code",
   "execution_count": 2,
   "metadata": {},
   "outputs": [
    {
     "name": "stdout",
     "output_type": "stream",
     "text": [
      "(49984,)\n"
     ]
    }
   ],
   "source": [
    "with open('embeddings_all_l0.9.pkl', 'rb') as file:\n",
    "    data = pickle.load(file)\n",
    "\n",
    "x = data[\"outputs\"].cpu().numpy()\n",
    "y = data[\"labels\"].cpu().numpy()\n",
    "print(y.shape)"
   ]
  },
  {
   "cell_type": "code",
   "execution_count": 3,
   "metadata": {},
   "outputs": [],
   "source": [
    "# normalize embeddings\n",
    "x = (x - np.min(x)) / (np.max(x) - np.min(x))"
   ]
  },
  {
   "cell_type": "code",
   "execution_count": 6,
   "metadata": {},
   "outputs": [],
   "source": [
    "embeddings = np.array(x)"
   ]
  },
  {
   "cell_type": "code",
   "execution_count": 8,
   "metadata": {},
   "outputs": [
    {
     "name": "stdout",
     "output_type": "stream",
     "text": [
      "100\n",
      "[0, 1, 2, 3, 4, 5, 6, 7, 8, 9, 10, 11, 12, 13, 14, 15, 16, 17, 18, 19, 20, 21, 22, 23, 24, 25, 26, 27, 28, 29, 30, 31, 32, 33, 34, 35, 36, 37, 38, 39, 40, 41, 42, 43, 44, 45, 46, 47, 48, 49, 50, 51, 52, 53, 54, 55, 56, 57, 58, 59, 60, 61, 62, 63, 64, 65, 66, 67, 68, 69, 70, 71, 72, 73, 74, 75, 76, 77, 78, 79, 80, 81, 82, 83, 84, 85, 86, 87, 88, 89, 90, 91, 92, 93, 94, 95, 96, 97, 98, 99]\n"
     ]
    }
   ],
   "source": [
    "# compute the centroid for each class\n",
    "centroids = []\n",
    "labels = []\n",
    "for i in range(100):\n",
    "    centroids.append(np.mean(embeddings[y == i], axis=0))\n",
    "    labels.append(i)\n",
    "\n",
    "print(len(centroids))\n",
    "print(labels)"
   ]
  },
  {
   "cell_type": "code",
   "execution_count": 9,
   "metadata": {},
   "outputs": [
    {
     "name": "stdout",
     "output_type": "stream",
     "text": [
      "sorted int64\n",
      "[79 47  8 46 24 70 52 54 20 41]\n",
      "(90, 344)\n",
      "sorted int64\n",
      "[69 11 59 68  7 60 35 33 96 17]\n",
      "(80, 344)\n",
      "sorted int64\n",
      "[82 37 99 18 40 19  6 89 53 12]\n",
      "(70, 344)\n",
      "sorted int64\n",
      "[ 2 98 92 14  5 57 81  9 86 25]\n",
      "(60, 344)\n",
      "sorted int64\n",
      "[15 29 23 49 90 62 44 56 71 84]\n",
      "(50, 344)\n",
      "sorted int64\n",
      "[16 22  0 45 39 28 77 91 43 87]\n",
      "(40, 344)\n",
      "sorted int64\n",
      "[76 31 58 38 34 42 65 36 13 85]\n",
      "(30, 344)\n",
      "sorted int64\n",
      "[26 48 61 83 78 94 88 75 64  1]\n",
      "(20, 344)\n",
      "sorted int64\n",
      "[30 97 73 32 50 66 95 93 27  3]\n",
      "(10, 344)\n",
      "sorted int64\n",
      "[51 10 21 74 55 72 67  4 63 80]\n",
      "(0, 344)\n"
     ]
    }
   ],
   "source": [
    "\n",
    "clusters = {}\n",
    "parents = {}\n",
    "curr_points = np.array(centroids.copy())\n",
    "curr_labels = labels.copy()\n",
    "\n",
    "for i in range(10):\n",
    "\n",
    "    # calculate cosine distance\n",
    "\n",
    "    distances = np.dot(curr_points, curr_points[i])    \n",
    "\n",
    "    # sort the distances and get the indices\n",
    "    sorted_distances = np.argsort(distances)\n",
    "    print(\"sorted\", sorted_distances.dtype)\n",
    "\n",
    "    # add to the cluster the 10 closest points but not itself\n",
    "    clusters[i] = curr_points[sorted_distances.astype(int)[:10]]\n",
    "    #print(clusters[i])    \n",
    "    parents[i] = (np.array(curr_labels)[sorted_distances])[:10]\n",
    "    print(parents[i])\n",
    "\n",
    "    # delete the points from the list\n",
    "    curr_points = np.delete(curr_points, sorted_distances[:10], axis=0)\n",
    "    curr_labels = np.delete(curr_labels, sorted_distances[:10], axis=0)\n",
    "\n",
    "    # add the new point to the list\n",
    "    #curr_points = np.vstack((curr_points, new_point_mean))\n",
    "    print(curr_points.shape)\n",
    "\n"
   ]
  },
  {
   "cell_type": "code",
   "execution_count": 10,
   "metadata": {},
   "outputs": [
    {
     "name": "stdout",
     "output_type": "stream",
     "text": [
      "{0: array([79, 47,  8, 46, 24, 70, 52, 54, 20, 41]), 1: array([69, 11, 59, 68,  7, 60, 35, 33, 96, 17]), 2: array([82, 37, 99, 18, 40, 19,  6, 89, 53, 12]), 3: array([ 2, 98, 92, 14,  5, 57, 81,  9, 86, 25]), 4: array([15, 29, 23, 49, 90, 62, 44, 56, 71, 84]), 5: array([16, 22,  0, 45, 39, 28, 77, 91, 43, 87]), 6: array([76, 31, 58, 38, 34, 42, 65, 36, 13, 85]), 7: array([26, 48, 61, 83, 78, 94, 88, 75, 64,  1]), 8: array([30, 97, 73, 32, 50, 66, 95, 93, 27,  3]), 9: array([51, 10, 21, 74, 55, 72, 67,  4, 63, 80])}\n"
     ]
    }
   ],
   "source": [
    "print(parents)"
   ]
  },
  {
   "cell_type": "code",
   "execution_count": 11,
   "metadata": {},
   "outputs": [
    {
     "name": "stdout",
     "output_type": "stream",
     "text": [
      "{79: 0, 47: 0, 8: 0, 46: 0, 24: 0, 70: 0, 52: 0, 54: 0, 20: 0, 41: 0, 69: 1, 11: 1, 59: 1, 68: 1, 7: 1, 60: 1, 35: 1, 33: 1, 96: 1, 17: 1, 82: 2, 37: 2, 99: 2, 18: 2, 40: 2, 19: 2, 6: 2, 89: 2, 53: 2, 12: 2, 2: 3, 98: 3, 92: 3, 14: 3, 5: 3, 57: 3, 81: 3, 9: 3, 86: 3, 25: 3, 15: 4, 29: 4, 23: 4, 49: 4, 90: 4, 62: 4, 44: 4, 56: 4, 71: 4, 84: 4, 16: 5, 22: 5, 0: 5, 45: 5, 39: 5, 28: 5, 77: 5, 91: 5, 43: 5, 87: 5, 76: 6, 31: 6, 58: 6, 38: 6, 34: 6, 42: 6, 65: 6, 36: 6, 13: 6, 85: 6, 26: 7, 48: 7, 61: 7, 83: 7, 78: 7, 94: 7, 88: 7, 75: 7, 64: 7, 1: 7, 30: 8, 97: 8, 73: 8, 32: 8, 50: 8, 66: 8, 95: 8, 93: 8, 27: 8, 3: 8, 51: 9, 10: 9, 21: 9, 74: 9, 55: 9, 72: 9, 67: 9, 4: 9, 63: 9, 80: 9}\n"
     ]
    }
   ],
   "source": [
    "reverse = {}\n",
    "\n",
    "for key in parents.keys():\n",
    "    for i in range(len(parents[key])):\n",
    "        reverse[parents[key][i]] = key\n",
    "\n",
    "print(reverse)\n"
   ]
  },
  {
   "cell_type": "code",
   "execution_count": 12,
   "metadata": {},
   "outputs": [],
   "source": [
    "# for each embedding fint the closest centroid\n",
    "\n",
    "a = np.zeros((10,100))\n",
    "\n",
    "\n",
    "for i, x in enumerate(embeddings):\n",
    "    distances = np.dot(centroids, x)    \n",
    "    #distances = np.linalg.norm(centroids - x, axis=1)\n",
    "    first_index = np.argsort(distances)[0]    \n",
    "    a[reverse[first_index]][y[i]] += 1\n",
    "\n",
    "    "
   ]
  },
  {
   "cell_type": "code",
   "execution_count": 13,
   "metadata": {},
   "outputs": [
    {
     "name": "stdout",
     "output_type": "stream",
     "text": [
      "(100, 2)\n"
     ]
    },
    {
     "data": {
      "image/png": "[encoded data removed]",
      "text/plain": [
       "<Figure size 640x480 with 1 Axes>"
      ]
     },
     "metadata": {},
     "output_type": "display_data"
    }
   ],
   "source": [
    "## do PCA on the centroids\n",
    "\n",
    "pca_centroids = PCA(n_components=2)\n",
    "pca_centroids.fit(centroids)\n",
    "\n",
    "pca_centroids_transform = pca_centroids.transform(centroids)\n",
    "\n",
    "print(pca_centroids_transform.shape)\n",
    "\n",
    "# plot the centroids\n",
    "\n",
    "import matplotlib.pyplot as plt\n",
    "\n",
    "# color each centroid with the color of the parent cluster\n",
    "\n",
    "colors = ['red', 'blue', 'green', 'yellow', 'orange', 'purple', 'pink', 'brown', 'black', 'grey']\n",
    "\n",
    "for i in range(100):\n",
    "    plt.scatter(pca_centroids_transform[i,0], pca_centroids_transform[i,1], color=colors[reverse[i]])\n",
    "\n",
    "plt.show()"
   ]
  },
  {
   "cell_type": "code",
   "execution_count": 14,
   "metadata": {},
   "outputs": [
    {
     "name": "stdout",
     "output_type": "stream",
     "text": [
      "(49984,)\n",
      "99\n"
     ]
    }
   ],
   "source": [
    "print(y.shape)\n",
    "print(np.max(y))"
   ]
  },
  {
   "cell_type": "code",
   "execution_count": 15,
   "metadata": {},
   "outputs": [
    {
     "data": {
      "text/plain": [
       "<matplotlib.image.AxesImage at 0x17f2a2ce0>"
      ]
     },
     "execution_count": 15,
     "metadata": {},
     "output_type": "execute_result"
    },
    {
     "data": {
      "image/png": "[encoded data removed]",
      "text/plain": [
       "<Figure size 640x480 with 1 Axes>"
      ]
     },
     "metadata": {},
     "output_type": "display_data"
    }
   ],
   "source": [
    "import matplotlib.pyplot as plt\n",
    "\n",
    "plt.xlabel(\"Classes\")\n",
    "plt.ylabel(\"Cluster\\ncount\")\n",
    "#plt.title(\"Embedding count that belongs to a cluster for every label class number of clustering = \" + str(centroids.shape[0]))\n",
    "plt.imshow(a,cmap='Greys_r')"
   ]
  },
  {
   "cell_type": "code",
   "execution_count": 16,
   "metadata": {},
   "outputs": [
    {
     "data": {
      "text/plain": [
       "<matplotlib.image.AxesImage at 0x2b2f1b940>"
      ]
     },
     "execution_count": 16,
     "metadata": {},
     "output_type": "execute_result"
    },
    {
     "data": {
      "image/png": "[encoded data removed]",
      "text/plain": [
       "<Figure size 640x480 with 1 Axes>"
      ]
     },
     "metadata": {},
     "output_type": "display_data"
    }
   ],
   "source": [
    "## majority voting for each class\n",
    "b = np.argmax(a, axis=0)\n",
    "\n",
    "c = np.zeros((10,100))\n",
    "for x in range(100):    \n",
    "    c[b[x]][x] = 1\n",
    "\n",
    "plt.xlabel(\"Classes\")\n",
    "plt.ylabel(\"Cluster\\ncount\")\n",
    "plt.title(\"Majority belonging to a cluster for every label class number of clustering =\")\n",
    "plt.imshow(c, cmap='Greys_r')"
   ]
  },
  {
   "cell_type": "code",
   "execution_count": 17,
   "metadata": {},
   "outputs": [
    {
     "data": {
      "text/plain": [
       "array([10., 10., 10., 10., 10., 10., 10., 10., 10., 10.])"
      ]
     },
     "execution_count": 17,
     "metadata": {},
     "output_type": "execute_result"
    }
   ],
   "source": [
    "np.sum(c, axis=1)"
   ]
  },
  {
   "cell_type": "code",
   "execution_count": 18,
   "metadata": {},
   "outputs": [
    {
     "name": "stdout",
     "output_type": "stream",
     "text": [
      "0.16969430217669654\n"
     ]
    }
   ],
   "source": [
    "false_negative = np.ma.array(a,mask=c)\n",
    "sum_fn = np.sum(false_negative)\n",
    "print(sum_fn/y.shape[0])"
   ]
  },
  {
   "cell_type": "code",
   "execution_count": 19,
   "metadata": {},
   "outputs": [
    {
     "name": "stdout",
     "output_type": "stream",
     "text": [
      "(10000, 344)\n",
      "(10000,)\n",
      "[17 75 46  0 96 27 65 13 87 68  4 13  2 32 85 23 71 63 50 41 32 17 97 32\n",
      " 95 26 61 62 51  1]\n"
     ]
    }
   ],
   "source": [
    "with open('embeddings_all_l0.9_test.pkl', 'rb') as file:\n",
    "    data = pickle.load(file)\n",
    "\n",
    "x_test = data[\"outputs\"].cpu().numpy()\n",
    "y_test = data[\"labels\"].cpu().numpy()\n",
    "print(x_test.shape)\n",
    "print(y_test.shape)\n",
    "\n",
    "print(y_test[:30])"
   ]
  },
  {
   "cell_type": "code",
   "execution_count": 37,
   "metadata": {},
   "outputs": [],
   "source": [
    "# for each embedding fint the closest centroid\n",
    "embeddings_test = np.array((x_test - np.min(x_test)) / (np.max(x_test) - np.min(x_test)))"
   ]
  },
  {
   "cell_type": "code",
   "execution_count": 38,
   "metadata": {},
   "outputs": [],
   "source": [
    "# for each embedding fint the closest centroid\n",
    "\n",
    "at = np.zeros((10,100))\n",
    "\n",
    "for i, x in enumerate(embeddings_test):     \n",
    "    distances = np.linalg.norm(centroids - x, axis=1)\n",
    "    first_index = np.argsort(distances)[0]        \n",
    "    at[reverse[first_index]][y_test[i]] += 1"
   ]
  },
  {
   "cell_type": "code",
   "execution_count": 39,
   "metadata": {},
   "outputs": [
    {
     "name": "stdout",
     "output_type": "stream",
     "text": [
      "[17 75 46  0 96 27 65 13 87 68  4 13  2 32 85 23 71 63 50 41]\n"
     ]
    }
   ],
   "source": [
    "print(y_test[:20])"
   ]
  },
  {
   "cell_type": "code",
   "execution_count": 40,
   "metadata": {},
   "outputs": [
    {
     "data": {
      "text/plain": [
       "<matplotlib.image.AxesImage at 0x2b2d6e050>"
      ]
     },
     "execution_count": 40,
     "metadata": {},
     "output_type": "execute_result"
    },
    {
     "data": {
      "image/png": "[encoded data removed]",
      "text/plain": [
       "<Figure size 640x480 with 1 Axes>"
      ]
     },
     "metadata": {},
     "output_type": "display_data"
    }
   ],
   "source": [
    "\n",
    "import matplotlib.pyplot as plt\n",
    "\n",
    "plt.xlabel(\"Classes\")\n",
    "plt.ylabel(\"Cluster\\ncount\")\n",
    "#plt.title(\"Embedding count that belongs to a cluster for every label class number of clustering = \" + str(centroids.shape[0]))\n",
    "plt.imshow(at,cmap='Greys_r')"
   ]
  },
  {
   "cell_type": "code",
   "execution_count": 41,
   "metadata": {},
   "outputs": [
    {
     "data": {
      "text/plain": [
       "<matplotlib.image.AxesImage at 0x2b2d6d840>"
      ]
     },
     "execution_count": 41,
     "metadata": {},
     "output_type": "execute_result"
    },
    {
     "data": {
      "image/png": "[encoded data removed]",
      "text/plain": [
       "<Figure size 640x480 with 1 Axes>"
      ]
     },
     "metadata": {},
     "output_type": "display_data"
    }
   ],
   "source": [
    "## majority voting for each class\n",
    "bt = np.argmax(at, axis=0)\n",
    "\n",
    "ct = np.zeros((10,100))\n",
    "for x in range(100):    \n",
    "    ct[bt[x]][x] = 1\n",
    "\n",
    "plt.xlabel(\"Classes\")\n",
    "plt.ylabel(\"Cluster\\ncount\")\n",
    "plt.title(\"Majority belonging to a cluster for every label class number of clustering =\")\n",
    "plt.imshow(ct, cmap='Greys_r')"
   ]
  },
  {
   "cell_type": "code",
   "execution_count": 42,
   "metadata": {},
   "outputs": [
    {
     "data": {
      "text/plain": [
       "array([10., 10., 10., 10., 10., 10., 10., 10., 10., 10.])"
      ]
     },
     "execution_count": 42,
     "metadata": {},
     "output_type": "execute_result"
    }
   ],
   "source": [
    "np.sum(ct, axis=1)"
   ]
  },
  {
   "cell_type": "code",
   "execution_count": 44,
   "metadata": {},
   "outputs": [
    {
     "name": "stdout",
     "output_type": "stream",
     "text": [
      "0.276\n"
     ]
    }
   ],
   "source": [
    "false_negative = np.ma.array(at,mask=ct)\n",
    "sum_fn = np.sum(false_negative)\n",
    "print(sum_fn/y_test.shape[0])"
   ]
  },
  {
   "cell_type": "code",
   "execution_count": null,
   "metadata": {},
   "outputs": [],
   "source": []
  }
 ],
 "metadata": {
  "kernelspec": {
   "display_name": "ai701",
   "language": "python",
   "name": "python3"
  },
  "language_info": {
   "codemirror_mode": {
    "name": "ipython",
    "version": 3
   },
   "file_extension": ".py",
   "mimetype": "text/x-python",
   "name": "python",
   "nbconvert_exporter": "python",
   "pygments_lexer": "ipython3",
   "version": "3.10.0"
  },
  "orig_nbformat": 4
 },
 "nbformat": 4,
 "nbformat_minor": 2
}
