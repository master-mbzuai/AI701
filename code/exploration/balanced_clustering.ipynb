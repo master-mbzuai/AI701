{
 "cells": [
  {
   "cell_type": "code",
   "execution_count": 1,
   "metadata": {},
   "outputs": [
    {
     "name": "stdout",
     "output_type": "stream",
     "text": [
      "Collecting balanced_kmeans\n",
      "  Downloading balanced_kmeans-0.1.0.tar.gz (5.1 kB)\n",
      "  Preparing metadata (setup.py) ... \u001b[?25ldone\n",
      "\u001b[?25hBuilding wheels for collected packages: balanced_kmeans\n",
      "  Building wheel for balanced_kmeans (setup.py) ... \u001b[?25ldone\n",
      "\u001b[?25h  Created wheel for balanced_kmeans: filename=balanced_kmeans-0.1.0-py3-none-any.whl size=5160 sha256=b150437d78ffb6828d0f4b1ee8b7cf6bde6cfe7398c82aecd389e328048da519\n",
      "  Stored in directory: /Users/sebastiancavada/Library/Caches/pip/wheels/b4/48/65/a9f37007350003d058639336b0780d7ac1665d1f07eec2c0b4\n",
      "Successfully built balanced_kmeans\n",
      "Installing collected packages: balanced_kmeans\n",
      "Successfully installed balanced_kmeans-0.1.0\n"
     ]
    }
   ],
   "source": [
    "!pip install balanced_kmeans\n"
   ]
  },
  {
   "cell_type": "code",
   "execution_count": 2,
   "metadata": {},
   "outputs": [],
   "source": [
    "import pickle\n",
    "import torch"
   ]
  },
  {
   "cell_type": "code",
   "execution_count": 36,
   "metadata": {},
   "outputs": [],
   "source": [
    "with open('embeddings_all.pkl', 'rb') as file:\n",
    "    data = pickle.load(file)\n",
    "\n",
    "x = data[\"outputs\"]\n",
    "y = data[\"labels\"]"
   ]
  },
  {
   "cell_type": "code",
   "execution_count": 8,
   "metadata": {},
   "outputs": [
    {
     "ename": "RuntimeError",
     "evalue": "expand(torch.LongTensor{[344]}, size=[]): the number of sizes provided (0) must be greater or equal to the number of dimensions in the tensor (1)",
     "output_type": "error",
     "traceback": [
      "\u001b[0;31m---------------------------------------------------------------------------\u001b[0m",
      "\u001b[0;31mRuntimeError\u001b[0m                              Traceback (most recent call last)",
      "\u001b[1;32m/Users/sebastiancavada/Documents/scsv/semester-1/ai/ai-project-2023/code/exploration/balanced_clustering.ipynb Cell 4\u001b[0m line \u001b[0;36m8\n\u001b[1;32m      <a href='vscode-notebook-cell:/Users/sebastiancavada/Documents/scsv/semester-1/ai/ai-project-2023/code/exploration/balanced_clustering.ipynb#W1sZmlsZQ%3D%3D?line=4'>5</a>\u001b[0m device \u001b[39m=\u001b[39m \u001b[39m'\u001b[39m\u001b[39mmps\u001b[39m\u001b[39m'\u001b[39m\n\u001b[1;32m      <a href='vscode-notebook-cell:/Users/sebastiancavada/Documents/scsv/semester-1/ai/ai-project-2023/code/exploration/balanced_clustering.ipynb#W1sZmlsZQ%3D%3D?line=6'>7</a>\u001b[0m cluster_size \u001b[39m=\u001b[39m N \u001b[39m/\u001b[39m\u001b[39m/\u001b[39m num_clusters\n\u001b[0;32m----> <a href='vscode-notebook-cell:/Users/sebastiancavada/Documents/scsv/semester-1/ai/ai-project-2023/code/exploration/balanced_clustering.ipynb#W1sZmlsZQ%3D%3D?line=7'>8</a>\u001b[0m choices, centers \u001b[39m=\u001b[39m kmeans_equal(x, num_clusters\u001b[39m=\u001b[39;49mnum_clusters, cluster_size\u001b[39m=\u001b[39;49mcluster_size)\n",
      "File \u001b[0;32m~/anaconda3/envs/ai701/lib/python3.10/site-packages/balanced_kmeans/__init__.py:153\u001b[0m, in \u001b[0;36mkmeans_equal\u001b[0;34m(X, num_clusters, cluster_size, max_iters, initial_state, update_centers, progress, tol)\u001b[0m\n\u001b[1;32m    149\u001b[0m pairwise_distance_function \u001b[39m=\u001b[39m pairwise_distance\n\u001b[1;32m    151\u001b[0m \u001b[39mif\u001b[39;00m initial_state \u001b[39mis\u001b[39;00m \u001b[39mNone\u001b[39;00m:\n\u001b[1;32m    152\u001b[0m     \u001b[39m# randomly group vectors to clusters (forgy initialization)\u001b[39;00m\n\u001b[0;32m--> 153\u001b[0m     initial_state \u001b[39m=\u001b[39m initialize(X, num_clusters)\n\u001b[1;32m    155\u001b[0m iteration \u001b[39m=\u001b[39m \u001b[39m0\u001b[39m\n\u001b[1;32m    156\u001b[0m \u001b[39mif\u001b[39;00m progress:\n",
      "File \u001b[0;32m~/anaconda3/envs/ai701/lib/python3.10/site-packages/balanced_kmeans/__init__.py:18\u001b[0m, in \u001b[0;36minitialize\u001b[0;34m(X, num_clusters)\u001b[0m\n\u001b[1;32m     16\u001b[0m indices \u001b[39m=\u001b[39m torch\u001b[39m.\u001b[39mempty(X\u001b[39m.\u001b[39mshape[:\u001b[39m-\u001b[39m\u001b[39m1\u001b[39m], device\u001b[39m=\u001b[39mX\u001b[39m.\u001b[39mdevice, dtype\u001b[39m=\u001b[39mtorch\u001b[39m.\u001b[39mlong)\n\u001b[1;32m     17\u001b[0m \u001b[39mfor\u001b[39;00m i \u001b[39min\u001b[39;00m \u001b[39mrange\u001b[39m(bs):\n\u001b[0;32m---> 18\u001b[0m     indices[i] \u001b[39m=\u001b[39m torch\u001b[39m.\u001b[39mrandperm(num_samples, device\u001b[39m=\u001b[39mX\u001b[39m.\u001b[39mdevice)\n\u001b[1;32m     19\u001b[0m initial_state \u001b[39m=\u001b[39m torch\u001b[39m.\u001b[39mgather(X, \u001b[39m1\u001b[39m, indices\u001b[39m.\u001b[39munsqueeze(\u001b[39m-\u001b[39m\u001b[39m1\u001b[39m)\u001b[39m.\u001b[39mrepeat(\u001b[39m1\u001b[39m, \u001b[39m1\u001b[39m, X\u001b[39m.\u001b[39mshape[\u001b[39m-\u001b[39m\u001b[39m1\u001b[39m]))\u001b[39m.\u001b[39mreshape(bs, num_clusters, \u001b[39m-\u001b[39m\u001b[39m1\u001b[39m, X\u001b[39m.\u001b[39mshape[\u001b[39m-\u001b[39m\u001b[39m1\u001b[39m])\u001b[39m.\u001b[39mmean(dim\u001b[39m=\u001b[39m\u001b[39m-\u001b[39m\u001b[39m2\u001b[39m)\n\u001b[1;32m     20\u001b[0m \u001b[39mreturn\u001b[39;00m initial_state\n",
      "\u001b[0;31mRuntimeError\u001b[0m: expand(torch.LongTensor{[344]}, size=[]): the number of sizes provided (0) must be greater or equal to the number of dimensions in the tensor (1)"
     ]
    }
   ],
   "source": [
    "from balanced_kmeans import kmeans_equal\n",
    "N = 50000\n",
    "batch_size = 10\n",
    "num_clusters = 10\n",
    "device = 'mps'\n",
    "\n",
    "cluster_size = N // num_clusters\n",
    "choices, centers = kmeans_equal(x, num_clusters=num_clusters, cluster_size=cluster_size)"
   ]
  },
  {
   "cell_type": "code",
   "execution_count": 51,
   "metadata": {},
   "outputs": [],
   "source": [
    "x_1 = x[:49900,:]\n"
   ]
  },
  {
   "cell_type": "code",
   "execution_count": 52,
   "metadata": {},
   "outputs": [
    {
     "name": "stdout",
     "output_type": "stream",
     "text": [
      "torch.Size([49900, 344])\n"
     ]
    }
   ],
   "source": [
    "print(x_1.shape)"
   ]
  },
  {
   "cell_type": "code",
   "execution_count": 60,
   "metadata": {},
   "outputs": [
    {
     "name": "stdout",
     "output_type": "stream",
     "text": [
      "torch.Size([10, 50000, 100])\n",
      "torch.Size([1, 49900, 344])\n"
     ]
    }
   ],
   "source": [
    "X = torch.rand(batch_size, N, 100, device=device)\n",
    "print(X.shape)\n",
    "print(x_1.reshape(1, -1, 344).shape)"
   ]
  },
  {
   "cell_type": "code",
   "execution_count": 61,
   "metadata": {},
   "outputs": [
    {
     "name": "stdout",
     "output_type": "stream",
     "text": [
      "torch.Size([10, 4990, 344])\n"
     ]
    }
   ],
   "source": [
    "from balanced_kmeans import kmeans_equal\n",
    "N = 50000\n",
    "num_clusters = 10\n",
    "device = 'mps'\n",
    "\n",
    "x_1 = x_1.reshape(10, -1, 344)\n",
    "print(x_1.shape)\n",
    "\n",
    "cluster_size = x_1.shape[1] // num_clusters\n",
    "choices, centers = kmeans_equal(x_1, num_clusters=num_clusters, cluster_size=cluster_size)"
   ]
  },
  {
   "cell_type": "code",
   "execution_count": 63,
   "metadata": {},
   "outputs": [
    {
     "name": "stdout",
     "output_type": "stream",
     "text": [
      "torch.Size([10, 4990])\n",
      "tensor([[9, 9, 9,  ..., 9, 8, 9],\n",
      "        [9, 9, 9,  ..., 8, 9, 8],\n",
      "        [9, 9, 9,  ..., 9, 8, 7],\n",
      "        ...,\n",
      "        [9, 9, 9,  ..., 8, 8, 9],\n",
      "        [9, 9, 9,  ..., 9, 9, 5],\n",
      "        [9, 9, 9,  ..., 8, 8, 9]])\n",
      "(tensor([0, 1, 2, 3, 4, 5, 6, 7, 8, 9]), tensor([  247,   222,   572,   736,  1751,  2381,  3197,  4737,  9462, 26595]))\n",
      "torch.Size([10, 10, 344])\n"
     ]
    }
   ],
   "source": [
    "print(choices.shape)\n",
    "print(choices)\n",
    "print(choices.unique(return_counts=True))\n",
    "print(centers.shape)"
   ]
  },
  {
   "cell_type": "code",
   "execution_count": 34,
   "metadata": {},
   "outputs": [
    {
     "name": "stdout",
     "output_type": "stream",
     "text": [
      "torch.Size([1, 49984, 344])\n"
     ]
    }
   ],
   "source": [
    "\n",
    "x = x.reshape(1, -1, 344)\n",
    "\n",
    "print(x.shape)"
   ]
  },
  {
   "cell_type": "code",
   "execution_count": 54,
   "metadata": {},
   "outputs": [
    {
     "ename": "KeyboardInterrupt",
     "evalue": "",
     "output_type": "error",
     "traceback": [
      "\u001b[0;31m---------------------------------------------------------------------------\u001b[0m",
      "\u001b[0;31mKeyboardInterrupt\u001b[0m                         Traceback (most recent call last)",
      "\u001b[1;32m/Users/sebastiancavada/Documents/scsv/semester-1/ai/ai-project-2023/code/exploration/balanced_clustering.ipynb Cell 8\u001b[0m line \u001b[0;36m9\n\u001b[1;32m      <a href='vscode-notebook-cell:/Users/sebastiancavada/Documents/scsv/semester-1/ai/ai-project-2023/code/exploration/balanced_clustering.ipynb#W4sZmlsZQ%3D%3D?line=6'>7</a>\u001b[0m cluster_size \u001b[39m=\u001b[39m N \u001b[39m/\u001b[39m\u001b[39m/\u001b[39m num_clusters\n\u001b[1;32m      <a href='vscode-notebook-cell:/Users/sebastiancavada/Documents/scsv/semester-1/ai/ai-project-2023/code/exploration/balanced_clustering.ipynb#W4sZmlsZQ%3D%3D?line=7'>8</a>\u001b[0m X \u001b[39m=\u001b[39m torch\u001b[39m.\u001b[39mrand(batch_size, N, \u001b[39m100\u001b[39m, device\u001b[39m=\u001b[39mdevice)\n\u001b[0;32m----> <a href='vscode-notebook-cell:/Users/sebastiancavada/Documents/scsv/semester-1/ai/ai-project-2023/code/exploration/balanced_clustering.ipynb#W4sZmlsZQ%3D%3D?line=8'>9</a>\u001b[0m choices, centers \u001b[39m=\u001b[39m kmeans_equal(X, num_clusters\u001b[39m=\u001b[39;49mnum_clusters, cluster_size\u001b[39m=\u001b[39;49mcluster_size)\n",
      "File \u001b[0;32m~/anaconda3/envs/ai701/lib/python3.10/site-packages/balanced_kmeans/__init__.py:160\u001b[0m, in \u001b[0;36mkmeans_equal\u001b[0;34m(X, num_clusters, cluster_size, max_iters, initial_state, update_centers, progress, tol)\u001b[0m\n\u001b[1;32m    157\u001b[0m     tqdm_meter \u001b[39m=\u001b[39m tqdm(desc\u001b[39m=\u001b[39m\u001b[39m'\u001b[39m\u001b[39m[running kmeans on equal size clusters]\u001b[39m\u001b[39m'\u001b[39m)\n\u001b[1;32m    159\u001b[0m \u001b[39mwhile\u001b[39;00m \u001b[39mTrue\u001b[39;00m:\n\u001b[0;32m--> 160\u001b[0m     dis \u001b[39m=\u001b[39m pairwise_distance_function(X, initial_state)\n\u001b[1;32m    161\u001b[0m     choices \u001b[39m=\u001b[39m torch\u001b[39m.\u001b[39margsort(dis, dim\u001b[39m=\u001b[39m\u001b[39m-\u001b[39m\u001b[39m1\u001b[39m)\n\u001b[1;32m    162\u001b[0m     initial_state_pre \u001b[39m=\u001b[39m initial_state\u001b[39m.\u001b[39mclone()\n",
      "File \u001b[0;32m~/anaconda3/envs/ai701/lib/python3.10/site-packages/balanced_kmeans/__init__.py:274\u001b[0m, in \u001b[0;36mpairwise_distance\u001b[0;34m(data1, data2)\u001b[0m\n\u001b[1;32m    272\u001b[0m \u001b[39m# 1*N*M\u001b[39;00m\n\u001b[1;32m    273\u001b[0m B \u001b[39m=\u001b[39m data2\u001b[39m.\u001b[39munsqueeze(dim\u001b[39m=\u001b[39m\u001b[39m1\u001b[39m)\n\u001b[0;32m--> 274\u001b[0m dis \u001b[39m=\u001b[39m (A \u001b[39m-\u001b[39;49m B) \u001b[39m*\u001b[39;49m\u001b[39m*\u001b[39;49m \u001b[39m2.0\u001b[39;49m\n\u001b[1;32m    275\u001b[0m \u001b[39m# return N*N matrix for pairwise distance\u001b[39;00m\n\u001b[1;32m    276\u001b[0m dis \u001b[39m=\u001b[39m dis\u001b[39m.\u001b[39msum(dim\u001b[39m=\u001b[39m\u001b[39m-\u001b[39m\u001b[39m1\u001b[39m)\u001b[39m.\u001b[39msqueeze()\n",
      "File \u001b[0;32m~/anaconda3/envs/ai701/lib/python3.10/site-packages/torch/_tensor.py:40\u001b[0m, in \u001b[0;36m_handle_torch_function_and_wrap_type_error_to_not_implemented.<locals>.wrapped\u001b[0;34m(*args, **kwargs)\u001b[0m\n\u001b[1;32m     38\u001b[0m     \u001b[39mif\u001b[39;00m has_torch_function(args):\n\u001b[1;32m     39\u001b[0m         \u001b[39mreturn\u001b[39;00m handle_torch_function(wrapped, args, \u001b[39m*\u001b[39margs, \u001b[39m*\u001b[39m\u001b[39m*\u001b[39mkwargs)\n\u001b[0;32m---> 40\u001b[0m     \u001b[39mreturn\u001b[39;00m f(\u001b[39m*\u001b[39;49margs, \u001b[39m*\u001b[39;49m\u001b[39m*\u001b[39;49mkwargs)\n\u001b[1;32m     41\u001b[0m \u001b[39mexcept\u001b[39;00m \u001b[39mTypeError\u001b[39;00m:\n\u001b[1;32m     42\u001b[0m     \u001b[39mreturn\u001b[39;00m \u001b[39mNotImplemented\u001b[39m\n",
      "\u001b[0;31mKeyboardInterrupt\u001b[0m: "
     ]
    }
   ],
   "source": [
    "from balanced_kmeans import kmeans_equal\n",
    "N = 10000\n",
    "batch_size = 10\n",
    "num_clusters = 10\n",
    "device = 'cpu'\n",
    "\n",
    "cluster_size = N // num_clusters\n",
    "X = torch.rand(batch_size, N, 100, device=device)\n",
    "choices, centers = kmeans_equal(X, num_clusters=num_clusters, cluster_size=cluster_size)"
   ]
  },
  {
   "cell_type": "code",
   "execution_count": null,
   "metadata": {},
   "outputs": [],
   "source": []
  }
 ],
 "metadata": {
  "kernelspec": {
   "display_name": "ai701",
   "language": "python",
   "name": "python3"
  },
  "language_info": {
   "codemirror_mode": {
    "name": "ipython",
    "version": 3
   },
   "file_extension": ".py",
   "mimetype": "text/x-python",
   "name": "python",
   "nbconvert_exporter": "python",
   "pygments_lexer": "ipython3",
   "version": "3.10.0"
  }
 },
 "nbformat": 4,
 "nbformat_minor": 2
}
