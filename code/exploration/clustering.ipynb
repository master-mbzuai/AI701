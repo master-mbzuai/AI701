{
 "cells": [
  {
   "cell_type": "code",
   "execution_count": 1,
   "metadata": {},
   "outputs": [],
   "source": [
    "from micromind import Metric\n",
    "from micromind.utils.parse import parse_arguments\n",
    "\n",
    "import torch\n",
    "import torch.nn as nn\n",
    "import torchvision\n",
    "import torchvision.transforms as transforms\n",
    "\n",
    "import os\n",
    "import random\n",
    "import importlib\n",
    "import numpy as np\n",
    "\n",
    "from tqdm import tqdm\n",
    "\n",
    "batch_size = 64"
   ]
  },
  {
   "cell_type": "code",
   "execution_count": 2,
   "metadata": {},
   "outputs": [
    {
     "name": "stdout",
     "output_type": "stream",
     "text": [
      "Running on the GPU\n"
     ]
    }
   ],
   "source": [
    "from micromind import MicroMind\n",
    "from micromind.networks import PhiNet\n",
    "\n",
    "import torch\n",
    "import torch.nn as nn\n",
    "\n",
    "model_path = \"../pretrained/finetuned/epoch_165_val_loss_0.9951.ckpt\"\n",
    "\n",
    "if torch.cuda.is_available():\n",
    "    device = torch.device(\"cuda:0\")\n",
    "    print(\"Running on the GPU\")\n",
    "elif torch.backends.mps.is_available: \n",
    "    device = torch.device(\"mps\")\n",
    "    print(\"Running on the MPS\")\n",
    "else:\n",
    "    device = torch.device(\"cpu\")\n",
    "    print(\"Running on the CPU\")\n",
    "\n",
    "class ImageClassification(MicroMind):\n",
    "\n",
    "    # test 1 with n as input vector size and m classes custom d\n",
    "    # n has to be calculated from the output of the neural network of the feature extractor\n",
    "    def __init__(self, *args, **kwargs):\n",
    "        super().__init__(*args, **kwargs)\n",
    "\n",
    "        self.input = 344\n",
    "        self.output = 100\n",
    "\n",
    "        self.modules[\"feature_extractor\"] = PhiNet(\n",
    "            input_shape=(3, 224, 224),\n",
    "            alpha=0.9,\n",
    "            num_layers=7,\n",
    "            beta=0.5,\n",
    "            t_zero=4.0,\n",
    "            include_top=False,\n",
    "            num_classes=1000,\n",
    "            compatibility=False,\n",
    "            divisor=8,\n",
    "            downsampling_layers=[4,5,7]\n",
    "        )\n",
    "\n",
    "        # Taking away the classifier from pretrained model\n",
    "        pretrained_dict = torch.load(model_path, map_location=device)\n",
    "        model_dict = {}\n",
    "        for k, v in pretrained_dict.items():\n",
    "            if \"classifier\" not in k:\n",
    "                model_dict[k] = v\n",
    "\n",
    "        #loading the new model\n",
    "        self.modules[\"feature_extractor\"].load_state_dict(pretrained_dict[\"feature_extractor\"])        \n",
    "        for _, param in self.modules[\"feature_extractor\"].named_parameters():    \n",
    "            param.requires_grad = False\n",
    "\n",
    "        self.modules[\"classifier\"] = nn.Sequential(                \n",
    "            nn.AdaptiveAvgPool2d((1, 1)),\n",
    "            nn.Flatten()            \n",
    "        )    \n",
    "\n",
    "    def forward(self, batch):        \n",
    "        x = self.modules[\"feature_extractor\"](batch)    \n",
    "        x = self.modules[\"classifier\"](x)    \n",
    "        return x\n",
    "\n",
    "    def compute_loss(self, pred, batch):\n",
    "        return nn.CrossEntropyLoss()(pred, batch[1])                   \n",
    "        "
   ]
  },
  {
   "cell_type": "code",
   "execution_count": 3,
   "metadata": {},
   "outputs": [
    {
     "name": "stdout",
     "output_type": "stream",
     "text": [
      "Files already downloaded and verified\n"
     ]
    }
   ],
   "source": [
    "train_transform = transforms.Compose(\n",
    "        [\n",
    "         transforms.ToTensor(), \n",
    "         transforms.Normalize((0.5070751592371323, 0.48654887331495095, 0.4409178433670343), (0.26733428587941854, 0.25643846292120615, 0.2761504713263903)), \n",
    "         transforms.Resize((160, 160), antialias=True), \n",
    "         transforms.RandomHorizontalFlip(0.5),\n",
    "         transforms.RandomRotation(10)\n",
    "        ] \n",
    "    )\n",
    "\n",
    "trainset = torchvision.datasets.CIFAR100(\n",
    "    root=\"../data/cifar-100\", train=True, download=True, transform=train_transform\n",
    ")\n",
    "\n",
    "train_loader = torch.utils.data.DataLoader(\n",
    "    trainset, \n",
    "    batch_size=batch_size, \n",
    "    shuffle=True, \n",
    "    num_workers=2,    \n",
    ")"
   ]
  },
  {
   "cell_type": "code",
   "execution_count": 6,
   "metadata": {},
   "outputs": [
    {
     "name": "stdout",
     "output_type": "stream",
     "text": [
      "Files already downloaded and verified\n"
     ]
    }
   ],
   "source": [
    "test_transform = transforms.Compose(\n",
    "        [\n",
    "         transforms.ToTensor(), \n",
    "         transforms.Normalize((0.5070751592371323, 0.48654887331495095, 0.4409178433670343), (0.26733428587941854, 0.25643846292120615, 0.2761504713263903)), \n",
    "         transforms.Resize((160, 160), antialias=True), \n",
    "        ] \n",
    "    )\n",
    "\n",
    "trainset = torchvision.datasets.CIFAR100(\n",
    "    root=\"../data/cifar-100\", train=False, download=True, transform=train_transform\n",
    ")\n",
    "\n",
    "test_loader = torch.utils.data.DataLoader(\n",
    "    trainset, \n",
    "    batch_size=batch_size, \n",
    "    shuffle=True, \n",
    "    num_workers=2,    \n",
    ")"
   ]
  },
  {
   "cell_type": "code",
   "execution_count": 7,
   "metadata": {},
   "outputs": [],
   "source": [
    "model = ImageClassification()"
   ]
  },
  {
   "cell_type": "code",
   "execution_count": 8,
   "metadata": {},
   "outputs": [
    {
     "name": "stdout",
     "output_type": "stream",
     "text": [
      "Tensor x: tensor([])\n",
      "Tensor y: tensor([])\n",
      "join tensors:\n",
      "tensor([], size=(2, 0))\n"
     ]
    }
   ],
   "source": [
    "# creating tensors \n",
    "x = torch.tensor([]) \n",
    "y = torch.tensor([]) \n",
    "  \n",
    "# printing above created tensors \n",
    "print(\"Tensor x:\", x) \n",
    "print(\"Tensor y:\", y) \n",
    "  \n",
    "# join above tensor using \"torch.stack()\" \n",
    "print(\"join tensors:\") \n",
    "t = torch.stack((x,y)) \n",
    "print(t)"
   ]
  },
  {
   "cell_type": "code",
   "execution_count": 52,
   "metadata": {},
   "outputs": [],
   "source": [
    "model.modules.to('cuda:0')\n",
    "it = iter(train_loader)\n",
    "\n",
    "batch = next(it)\n",
    "batch = [x.to('cuda:0') for x in batch]\n",
    "\n",
    "x = model(batch[0])\n",
    "y = batch[1]\n",
    "\n",
    "for j in range(780):    \n",
    "    batch = next(it)\n",
    "    batch = [x.to('cuda:0') for x in batch]\n",
    "\n",
    "    output = model(batch[0]).to('cuda:0')\n",
    "    labels = batch[1].to('cuda:0')\n",
    "\n",
    "    x = torch.cat((x, output))\n",
    "    y = torch.cat((y, labels))    \n"
   ]
  },
  {
   "cell_type": "code",
   "execution_count": 12,
   "metadata": {},
   "outputs": [
    {
     "data": {
      "text/plain": [
       "156"
      ]
     },
     "execution_count": 12,
     "metadata": {},
     "output_type": "execute_result"
    }
   ],
   "source": [
    "len(trainset)//64"
   ]
  },
  {
   "cell_type": "code",
   "execution_count": 13,
   "metadata": {},
   "outputs": [],
   "source": [
    "model.modules.to('cuda:0')\n",
    "it = iter(test_loader)\n",
    "\n",
    "batch = next(it)\n",
    "batch = [x.to('cuda:0') for x in batch]\n",
    "\n",
    "x = model(batch[0])\n",
    "y = batch[1]\n",
    "\n",
    "for j in range(156):    \n",
    "    batch = next(it)\n",
    "    batch = [x.to('cuda:0') for x in batch]\n",
    "\n",
    "    output = model(batch[0]).to('cuda:0')\n",
    "    labels = batch[1].to('cuda:0')\n",
    "\n",
    "    x = torch.cat((x, output))\n",
    "    y = torch.cat((y, labels))  "
   ]
  },
  {
   "cell_type": "code",
   "execution_count": 15,
   "metadata": {},
   "outputs": [],
   "source": [
    "import pickle\n",
    "\n",
    "# with open('embeddings_all_l0.9.pkl', 'wb') as file:\n",
    "#     pickle.dump({\"outputs\":x.to('cpu'), \"labels\":y.to('cpu')}, file)    "
   ]
  },
  {
   "cell_type": "code",
   "execution_count": 16,
   "metadata": {},
   "outputs": [],
   "source": [
    "# with open('embeddings_all_l0.9_test.pkl', 'wb') as file:\n",
    "#     pickle.dump({\"outputs\":x.to('cpu'), \"labels\":y.to('cpu')}, file)    "
   ]
  },
  {
   "cell_type": "code",
   "execution_count": 17,
   "metadata": {},
   "outputs": [],
   "source": [
    "with open('embeddings_all.pkl', 'rb') as file:\n",
    "    data = pickle.load(file)\n",
    "\n",
    "x = data[\"outputs\"]\n",
    "y = data[\"labels\"]"
   ]
  },
  {
   "cell_type": "code",
   "execution_count": 18,
   "metadata": {},
   "outputs": [
    {
     "name": "stdout",
     "output_type": "stream",
     "text": [
      "torch.Size([49984, 344])\n",
      "torch.Size([49984])\n"
     ]
    }
   ],
   "source": [
    "print(x.shape)\n",
    "print(y.shape)"
   ]
  },
  {
   "cell_type": "code",
   "execution_count": 19,
   "metadata": {},
   "outputs": [],
   "source": [
    "embeddings = np.array(x)"
   ]
  },
  {
   "cell_type": "code",
   "execution_count": 47,
   "metadata": {},
   "outputs": [
    {
     "name": "stdout",
     "output_type": "stream",
     "text": [
      "(49984,)\n",
      "(10, 344)\n"
     ]
    }
   ],
   "source": [
    "import numpy as np\n",
    "from sklearn.metrics.pairwise import cosine_similarity\n",
    "\n",
    "def kmeans_cosine(data, k, max_iter=100):\n",
    "    # Normalize data\n",
    "    data_normalized = data / np.linalg.norm(data, axis=1, keepdims=True)\n",
    "    \n",
    "    # Initialize centroids\n",
    "    centroids = data_normalized[np.random.choice(data.shape[0], k, replace=False)]\n",
    "    \n",
    "    for _ in range(max_iter):\n",
    "        # Compute cosine similarity and assign clusters\n",
    "        similarity = cosine_similarity(data_normalized, centroids)\n",
    "        clusters = np.argmax(similarity, axis=1)\n",
    "        \n",
    "        # Update centroids\n",
    "        new_centroids = np.array([data_normalized[clusters == i].mean(axis=0) for i in range(k)])\n",
    "        \n",
    "        # Normalize new centroids\n",
    "        new_centroids = new_centroids / np.linalg.norm(new_centroids, axis=1, keepdims=True)\n",
    "        \n",
    "        # Check for convergence\n",
    "        if np.allclose(centroids, new_centroids):\n",
    "            break\n",
    "        centroids = new_centroids\n",
    "\n",
    "    return clusters, centroids\n",
    "\n",
    "clusters, centroids = kmeans_cosine(embeddings, 10, max_iter=50)\n",
    "\n",
    "print(clusters.shape)\n",
    "print(centroids.shape)"
   ]
  },
  {
   "cell_type": "code",
   "execution_count": 35,
   "metadata": {},
   "outputs": [
    {
     "data": {
      "text/plain": [
       "tensor([17,  3, 88,  ..., 82, 27, 66])"
      ]
     },
     "execution_count": 35,
     "metadata": {},
     "output_type": "execute_result"
    }
   ],
   "source": [
    "# mapping tra le 100 classi qui e le altre 100 classi di la\n",
    "y"
   ]
  },
  {
   "cell_type": "markdown",
   "metadata": {},
   "source": [
    "# Some checks"
   ]
  },
  {
   "cell_type": "code",
   "execution_count": 20,
   "metadata": {},
   "outputs": [
    {
     "data": {
      "text/plain": [
       "(array([500., 499., 500., 499., 500., 499., 500., 500., 499., 500., 499.,\n",
       "        499., 500., 499., 500., 500., 500., 500., 500., 500., 500., 500.,\n",
       "        500., 500., 500., 500., 500., 500., 499., 500., 500., 499., 500.,\n",
       "        500., 500., 500., 500., 500., 500., 500., 500., 500., 500., 500.,\n",
       "        500., 500., 500., 500., 500., 500., 500., 500., 500., 500., 500.,\n",
       "        500., 500., 499., 500., 500., 500., 499., 500., 500., 500., 500.,\n",
       "        500., 500., 500., 500., 500., 499., 500., 500., 499., 500., 499.,\n",
       "        500., 500., 500., 500., 500., 500., 500., 500., 500., 500., 500.,\n",
       "        500., 499., 500., 500., 500., 500., 500., 499., 500., 500., 500.,\n",
       "        500.]),\n",
       " array([ 0.  ,  0.99,  1.98,  2.97,  3.96,  4.95,  5.94,  6.93,  7.92,\n",
       "         8.91,  9.9 , 10.89, 11.88, 12.87, 13.86, 14.85, 15.84, 16.83,\n",
       "        17.82, 18.81, 19.8 , 20.79, 21.78, 22.77, 23.76, 24.75, 25.74,\n",
       "        26.73, 27.72, 28.71, 29.7 , 30.69, 31.68, 32.67, 33.66, 34.65,\n",
       "        35.64, 36.63, 37.62, 38.61, 39.6 , 40.59, 41.58, 42.57, 43.56,\n",
       "        44.55, 45.54, 46.53, 47.52, 48.51, 49.5 , 50.49, 51.48, 52.47,\n",
       "        53.46, 54.45, 55.44, 56.43, 57.42, 58.41, 59.4 , 60.39, 61.38,\n",
       "        62.37, 63.36, 64.35, 65.34, 66.33, 67.32, 68.31, 69.3 , 70.29,\n",
       "        71.28, 72.27, 73.26, 74.25, 75.24, 76.23, 77.22, 78.21, 79.2 ,\n",
       "        80.19, 81.18, 82.17, 83.16, 84.15, 85.14, 86.13, 87.12, 88.11,\n",
       "        89.1 , 90.09, 91.08, 92.07, 93.06, 94.05, 95.04, 96.03, 97.02,\n",
       "        98.01, 99.  ]),\n",
       " <BarContainer object of 100 artists>)"
      ]
     },
     "execution_count": 20,
     "metadata": {},
     "output_type": "execute_result"
    },
    {
     "data": {
      "image/png": "[encoded data removed]",
      "text/plain": [
       "<Figure size 640x480 with 1 Axes>"
      ]
     },
     "metadata": {},
     "output_type": "display_data"
    }
   ],
   "source": [
    "import matplotlib.pyplot as plt\n",
    "plt.hist(y, bins=100)"
   ]
  },
  {
   "cell_type": "code",
   "execution_count": 37,
   "metadata": {},
   "outputs": [
    {
     "data": {
      "text/plain": [
       "100"
      ]
     },
     "execution_count": 37,
     "metadata": {},
     "output_type": "execute_result"
    }
   ],
   "source": [
    "len(torch.unique(y))"
   ]
  },
  {
   "cell_type": "code",
   "execution_count": 38,
   "metadata": {},
   "outputs": [
    {
     "data": {
      "text/plain": [
       "tensor([ 0,  1,  2,  3,  4,  5,  6,  7,  8,  9, 10, 11, 12, 13, 14, 15, 16, 17,\n",
       "        18, 19, 20, 21, 22, 23, 24, 25, 26, 27, 28, 29, 30, 31, 32, 33, 34, 35,\n",
       "        36, 37, 38, 39, 40, 41, 42, 43, 44, 45, 46, 47, 48, 49, 50, 51, 52, 53,\n",
       "        54, 55, 56, 57, 58, 59, 60, 61, 62, 63, 64, 65, 66, 67, 68, 69, 70, 71,\n",
       "        72, 73, 74, 75, 76, 77, 78, 79, 80, 81, 82, 83, 84, 85, 86, 87, 88, 89,\n",
       "        90, 91, 92, 93, 94, 95, 96, 97, 98, 99])"
      ]
     },
     "execution_count": 38,
     "metadata": {},
     "output_type": "execute_result"
    }
   ],
   "source": [
    "torch.unique(y)"
   ]
  },
  {
   "cell_type": "code",
   "execution_count": 42,
   "metadata": {},
   "outputs": [
    {
     "data": {
      "text/plain": [
       "<matplotlib.image.AxesImage at 0x7f924416cd60>"
      ]
     },
     "execution_count": 42,
     "metadata": {},
     "output_type": "execute_result"
    },
    {
     "data": {
      "image/png": "[encoded data removed]",
      "text/plain": [
       "<Figure size 640x480 with 1 Axes>"
      ]
     },
     "metadata": {},
     "output_type": "display_data"
    }
   ],
   "source": [
    "#fpr every label in 1 to 100 we want to see how many go to \n",
    "\n",
    "# matrix 10 x 100 -> for every row we see where how many labels from x target go to that cluster\n",
    "\n",
    "a = np.zeros((centroids.shape[0],100))\n",
    "\n",
    "#print(a)\n",
    "\n",
    "for i, cluster in enumerate(clusters):\n",
    "    a[cluster][y[i]] += 1\n",
    "\n",
    "plt.xlabel(\"Classes\")\n",
    "plt.ylabel(\"Cluster\\ncount\")\n",
    "plt.title(\"Embedding count that belongs to a cluster for every label class number of clustering = \" + str(centroids.shape[0]))\n",
    "plt.imshow(a,cmap='Greys_r')\n",
    "\n"
   ]
  },
  {
   "cell_type": "code",
   "execution_count": 43,
   "metadata": {},
   "outputs": [
    {
     "data": {
      "text/plain": [
       "<matplotlib.image.AxesImage at 0x7f917ad39a90>"
      ]
     },
     "execution_count": 43,
     "metadata": {},
     "output_type": "execute_result"
    },
    {
     "data": {
      "image/png": "[encoded data removed]",
      "text/plain": [
       "<Figure size 640x480 with 1 Axes>"
      ]
     },
     "metadata": {},
     "output_type": "display_data"
    }
   ],
   "source": [
    "## majority voting for each class\n",
    "b = np.argmax(a, axis=0)\n",
    "\n",
    "c = np.zeros((centroids.shape[0],100))\n",
    "for x in range(100):    \n",
    "    c[b[x]][x] = 1\n",
    "\n",
    "plt.xlabel(\"Classes\")\n",
    "plt.ylabel(\"Cluster\\ncount\")\n",
    "plt.title(\"Majority belonging to a cluster for every label class number of clustering = \" + str(centroids.shape[0]))\n",
    "plt.imshow(c, cmap='Greys_r')"
   ]
  },
  {
   "cell_type": "code",
   "execution_count": 44,
   "metadata": {},
   "outputs": [
    {
     "name": "stdout",
     "output_type": "stream",
     "text": [
      "15193.0\n"
     ]
    }
   ],
   "source": [
    "# use the second matrix as a mask \n",
    "\n",
    "false_negative = np.sum(np.ma.array(a,mask=c))\n",
    "print(false_negative)"
   ]
  },
  {
   "cell_type": "code",
   "execution_count": 46,
   "metadata": {},
   "outputs": [
    {
     "data": {
      "text/plain": [
       "0.3039572663252241"
      ]
     },
     "execution_count": 46,
     "metadata": {},
     "output_type": "execute_result"
    }
   ],
   "source": [
    "false_negative/clusters.shape[0]"
   ]
  },
  {
   "cell_type": "code",
   "execution_count": 17,
   "metadata": {},
   "outputs": [
    {
     "name": "stdout",
     "output_type": "stream",
     "text": [
      "{0: 0, 1: 0, 53: 0, 54: 0, 57: 0, 62: 0, 70: 0, 82: 0, 83: 0, 92: 0, 4: 1, 27: 1, 29: 1, 32: 1, 44: 1, 50: 1, 51: 1, 63: 1, 64: 1, 74: 1, 75: 1, 77: 1, 78: 1, 80: 1, 2: 2, 5: 2, 11: 2, 20: 2, 25: 2, 35: 2, 36: 2, 39: 2, 46: 2, 84: 2, 86: 2, 87: 2, 94: 2, 98: 2, 3: 3, 15: 3, 19: 3, 21: 3, 31: 3, 34: 3, 38: 3, 42: 3, 43: 3, 65: 3, 66: 3, 88: 3, 97: 3, 6: 4, 7: 4, 14: 4, 18: 4, 24: 4, 26: 4, 45: 4, 79: 4, 30: 5, 55: 5, 67: 5, 72: 5, 73: 5, 91: 5, 93: 5, 95: 5, 9: 6, 10: 6, 16: 6, 22: 6, 23: 6, 28: 6, 40: 6, 60: 6, 61: 6, 69: 6, 71: 6, 99: 6, 12: 7, 17: 7, 37: 7, 49: 7, 68: 7, 76: 7, 90: 7, 8: 8, 13: 8, 41: 8, 48: 8, 58: 8, 81: 8, 85: 8, 89: 8, 33: 9, 47: 9, 52: 9, 56: 9, 59: 9, 96: 9}\n"
     ]
    }
   ],
   "source": [
    "# map each line to cluster: label to cluster belonging\n",
    "\n",
    "maps = {}\n",
    "\n",
    "for i, x in enumerate(c):\n",
    "    for j, y in enumerate(x):\n",
    "        if(y==1):\n",
    "            maps[j] = i\n",
    "    \n",
    "print(maps)"
   ]
  },
  {
   "cell_type": "code",
   "execution_count": 28,
   "metadata": {},
   "outputs": [
    {
     "data": {
      "text/plain": [
       "array([ 8.,  7.,  9.,  7., 19.,  8.,  6., 18.,  6., 12.])"
      ]
     },
     "execution_count": 28,
     "metadata": {},
     "output_type": "execute_result"
    }
   ],
   "source": [
    "np.sum(c, axis=1)"
   ]
  },
  {
   "cell_type": "code",
   "execution_count": null,
   "metadata": {},
   "outputs": [],
   "source": []
  }
 ],
 "metadata": {
  "kernelspec": {
   "display_name": "ai701",
   "language": "python",
   "name": "python3"
  },
  "language_info": {
   "codemirror_mode": {
    "name": "ipython",
    "version": 3
   },
   "file_extension": ".py",
   "mimetype": "text/x-python",
   "name": "python",
   "nbconvert_exporter": "python",
   "pygments_lexer": "ipython3",
   "version": "3.10.0"
  },
  "orig_nbformat": 4
 },
 "nbformat": 4,
 "nbformat_minor": 2
}
