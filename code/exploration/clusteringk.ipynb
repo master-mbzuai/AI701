{
 "cells": [
  {
   "cell_type": "code",
   "execution_count": 14,
   "metadata": {},
   "outputs": [],
   "source": [
    "from micromind import Metric\n",
    "from micromind.utils.parse import parse_arguments\n",
    "\n",
    "import torch\n",
    "import torch.nn as nn\n",
    "import torchvision\n",
    "import torchvision.transforms as transforms\n",
    "\n",
    "import os\n",
    "import random\n",
    "import importlib\n",
    "import numpy as np\n",
    "\n",
    "from tqdm import tqdm\n",
    "\n",
    "import matplotlib.pyplot as plt\n",
    "\n",
    "batch_size = 64"
   ]
  },
  {
   "cell_type": "code",
   "execution_count": 2,
   "metadata": {},
   "outputs": [
    {
     "name": "stdout",
     "output_type": "stream",
     "text": [
      "Running on the GPU\n"
     ]
    }
   ],
   "source": [
    "from micromind import MicroMind\n",
    "from micromind.networks import PhiNet\n",
    "\n",
    "import torch\n",
    "import torch.nn as nn\n",
    "\n",
    "model_path = \"../pretrained/finetuned/baseline.ckpt\"\n",
    "\n",
    "if torch.cuda.is_available():\n",
    "    device = torch.device(\"cuda:0\")\n",
    "    print(\"Running on the GPU\")\n",
    "elif torch.backends.mps.is_available: \n",
    "    device = torch.device(\"mps\")\n",
    "    print(\"Running on the MPS\")\n",
    "else:\n",
    "    device = torch.device(\"cpu\")\n",
    "    print(\"Running on the CPU\")\n",
    "\n",
    "class ImageClassification(MicroMind):\n",
    "\n",
    "    # test 1 with n as input vector size and m classes custom d\n",
    "    # n has to be calculated from the output of the neural network of the feature extractor\n",
    "    def __init__(self, *args, **kwargs):\n",
    "        super().__init__(*args, **kwargs)\n",
    "\n",
    "        self.input = 344\n",
    "        self.output = 100\n",
    "\n",
    "        self.modules[\"feature_extractor\"] = PhiNet(\n",
    "            input_shape=(3, 224, 224),\n",
    "            alpha=0.9,\n",
    "            num_layers=7,\n",
    "            beta=0.5,\n",
    "            t_zero=4.0,\n",
    "            include_top=False,\n",
    "            num_classes=1000,\n",
    "            compatibility=False,\n",
    "            divisor=8,\n",
    "            downsampling_layers=[4,5,7]\n",
    "        )\n",
    "\n",
    "        # Taking away the classifier from pretrained model\n",
    "        pretrained_dict = torch.load(model_path, map_location=device)\n",
    "        model_dict = {}\n",
    "        for k, v in pretrained_dict.items():\n",
    "            if \"classifier\" not in k:\n",
    "                model_dict[k] = v\n",
    "\n",
    "        #loading the new model\n",
    "        self.modules[\"feature_extractor\"].load_state_dict(pretrained_dict[\"feature_extractor\"])        \n",
    "        for _, param in self.modules[\"feature_extractor\"].named_parameters():    \n",
    "            param.requires_grad = False\n",
    "\n",
    "        self.modules[\"classifier\"] = nn.Sequential(                \n",
    "            nn.AdaptiveAvgPool2d((1, 1)),\n",
    "            nn.Flatten()            \n",
    "        )    \n",
    "\n",
    "    def forward(self, batch):        \n",
    "        x = self.modules[\"feature_extractor\"](batch)    \n",
    "        x = self.modules[\"classifier\"](x)    \n",
    "        return x\n",
    "\n",
    "    def compute_loss(self, pred, batch):\n",
    "        return nn.CrossEntropyLoss()(pred, batch[1])                   \n",
    "        "
   ]
  },
  {
   "cell_type": "code",
   "execution_count": 3,
   "metadata": {},
   "outputs": [
    {
     "name": "stdout",
     "output_type": "stream",
     "text": [
      "Files already downloaded and verified\n"
     ]
    }
   ],
   "source": [
    "train_transform = transforms.Compose(\n",
    "        [\n",
    "         transforms.ToTensor(), \n",
    "         transforms.Normalize((0.5070751592371323, 0.48654887331495095, 0.4409178433670343), (0.26733428587941854, 0.25643846292120615, 0.2761504713263903)), \n",
    "         transforms.Resize((160, 160), antialias=True), \n",
    "         transforms.RandomHorizontalFlip(0.5),\n",
    "         transforms.RandomRotation(10)\n",
    "        ] \n",
    "    )\n",
    "\n",
    "trainset = torchvision.datasets.CIFAR100(\n",
    "    root=\"../data/cifar-100\", train=True, download=True, transform=train_transform\n",
    ")\n",
    "\n",
    "train_loader = torch.utils.data.DataLoader(\n",
    "    trainset, \n",
    "    batch_size=batch_size, \n",
    "    shuffle=True, \n",
    "    num_workers=2,    \n",
    ")"
   ]
  },
  {
   "cell_type": "code",
   "execution_count": 4,
   "metadata": {},
   "outputs": [],
   "source": [
    "model = ImageClassification()"
   ]
  },
  {
   "cell_type": "code",
   "execution_count": 5,
   "metadata": {},
   "outputs": [
    {
     "name": "stdout",
     "output_type": "stream",
     "text": [
      "Tensor x: tensor([])\n",
      "Tensor y: tensor([])\n",
      "join tensors:\n",
      "tensor([], size=(2, 0))\n"
     ]
    }
   ],
   "source": [
    "# creating tensors \n",
    "x = torch.tensor([]) \n",
    "y = torch.tensor([]) \n",
    "  \n",
    "# printing above created tensors \n",
    "print(\"Tensor x:\", x) \n",
    "print(\"Tensor y:\", y) \n",
    "  \n",
    "# join above tensor using \"torch.stack()\" \n",
    "print(\"join tensors:\") \n",
    "t = torch.stack((x,y)) \n",
    "print(t)"
   ]
  },
  {
   "cell_type": "code",
   "execution_count": 6,
   "metadata": {},
   "outputs": [],
   "source": [
    "it = iter(train_loader)\n",
    "\n",
    "batch = next(it)\n",
    "\n",
    "x = model(batch[0])\n",
    "y = batch[1]\n",
    "\n",
    "for j in range(500):    \n",
    "    batch = next(it)\n",
    "\n",
    "    output = model(batch[0])\n",
    "    labels = batch[1]    \n",
    "\n",
    "    x = torch.cat((x, output))\n",
    "    y = torch.cat((y, labels))    \n"
   ]
  },
  {
   "cell_type": "code",
   "execution_count": 5,
   "metadata": {},
   "outputs": [],
   "source": [
    "import pickle\n",
    "\n",
    "# with open('embeddings_.pkl', 'wb') as file:\n",
    "#     pickle.dump({\"outputs\":x, \"labels\":y}, file)    "
   ]
  },
  {
   "cell_type": "code",
   "execution_count": 7,
   "metadata": {},
   "outputs": [],
   "source": [
    "with open('embeddings.pkl', 'rb') as file:\n",
    "    data = pickle.load(file)\n",
    "\n",
    "x = data[\"outputs\"]\n",
    "y = data[\"labels\"]"
   ]
  },
  {
   "cell_type": "code",
   "execution_count": 8,
   "metadata": {},
   "outputs": [
    {
     "name": "stdout",
     "output_type": "stream",
     "text": [
      "torch.Size([32064, 344])\n",
      "torch.Size([32064])\n"
     ]
    }
   ],
   "source": [
    "print(x.shape)\n",
    "print(y.shape)"
   ]
  },
  {
   "cell_type": "code",
   "execution_count": 9,
   "metadata": {},
   "outputs": [],
   "source": [
    "embeddings = np.array(x)"
   ]
  },
  {
   "cell_type": "code",
   "execution_count": 10,
   "metadata": {},
   "outputs": [
    {
     "name": "stdout",
     "output_type": "stream",
     "text": [
      "(32064,)\n",
      "(10, 344)\n"
     ]
    }
   ],
   "source": [
    "import numpy as np\n",
    "from sklearn.metrics.pairwise import cosine_similarity\n",
    "\n",
    "def kmeans_cosine(data, k, max_iter=100):\n",
    "    # Normalize data\n",
    "    data_normalized = data / np.linalg.norm(data, axis=1, keepdims=True)\n",
    "    \n",
    "    # Initialize centroids\n",
    "    centroids = data_normalized[np.random.choice(data.shape[0], k, replace=False)]\n",
    "    \n",
    "    for _ in range(max_iter):\n",
    "        # Compute cosine similarity and assign clusters\n",
    "        similarity = cosine_similarity(data_normalized, centroids)\n",
    "        clusters = np.argmax(similarity, axis=1)\n",
    "        \n",
    "        # Update centroids\n",
    "        new_centroids = np.array([data_normalized[clusters == i].mean(axis=0) for i in range(k)])\n",
    "        \n",
    "        # Normalize new centroids\n",
    "        new_centroids = new_centroids / np.linalg.norm(new_centroids, axis=1, keepdims=True)\n",
    "        \n",
    "        # Check for convergence\n",
    "        if np.allclose(centroids, new_centroids):\n",
    "            break\n",
    "        centroids = new_centroids\n",
    "\n",
    "    return clusters, centroids\n",
    "\n",
    "clusters, centroids = kmeans_cosine(embeddings, 10, max_iter=20)\n",
    "\n",
    "print(clusters.shape)\n",
    "print(centroids.shape)"
   ]
  },
  {
   "cell_type": "code",
   "execution_count": 22,
   "metadata": {},
   "outputs": [
    {
     "name": "stdout",
     "output_type": "stream",
     "text": [
      "calculating for k =  1 897.8033\n",
      "calculating for k =  3 888.2069\n",
      "calculating for k =  5 884.89526\n",
      "calculating for k =  7 883.102\n",
      "calculating for k =  9 881.287\n",
      "calculating for k =  11 880.0827\n",
      "calculating for k =  13 878.789\n",
      "calculating for k =  15 877.87244\n",
      "calculating for k =  17 877.4281\n",
      "calculating for k =  19 876.62805\n",
      "calculating for k =  21 876.18835\n",
      "calculating for k =  23 875.60333\n",
      "calculating for k =  25 875.3646\n",
      "calculating for k =  27 874.7873\n",
      "calculating for k =  29 874.38214\n",
      "calculating for k =  31 874.02606\n",
      "calculating for k =  33 873.7928\n",
      "calculating for k =  35 873.5949\n",
      "calculating for k =  37 873.2377\n",
      "calculating for k =  39 873.0712\n",
      "calculating for k =  41 872.82733\n",
      "calculating for k =  43 872.6588\n",
      "calculating for k =  45 872.4482\n",
      "calculating for k =  47 872.11523\n",
      "calculating for k =  49 871.9239\n",
      "[897.8033, 888.2069, 884.89526, 883.102, 881.287, 880.0827, 878.789, 877.87244, 877.4281, 876.62805, 876.18835, 875.60333, 875.3646, 874.7873, 874.38214, 874.02606, 873.7928, 873.5949, 873.2377, 873.0712, 872.82733, 872.6588, 872.4482, 872.11523, 871.9239]\n"
     ]
    }
   ],
   "source": [
    "scores = []\n",
    "\n",
    "for x in range(1,50,2):\n",
    "    clusters, centroids = kmeans_cosine(embeddings, x, max_iter=20)\n",
    "    # Step 1: Replace each data point with its corresponding centroid\n",
    "    centroid_array = centroids[clusters]\n",
    "\n",
    "    # Step 2: Calculate squared distances in a vectorized way\n",
    "    squared_distances = np.sum((embeddings - centroid_array) ** 2, axis=1)\n",
    "\n",
    "    # Step 3: Compute the MSE\n",
    "    mse = np.mean(squared_distances)\n",
    "\n",
    "    scores.append(mse)\n",
    "\n",
    "    print(\"calculating for k = \", x, mse)\n",
    "\n",
    "print(scores)"
   ]
  },
  {
   "cell_type": "code",
   "execution_count": 21,
   "metadata": {},
   "outputs": [
    {
     "data": {
      "text/plain": [
       "[<matplotlib.lines.Line2D at 0x2c71e1f00>]"
      ]
     },
     "execution_count": 21,
     "metadata": {},
     "output_type": "execute_result"
    },
    {
     "data": {
      "image/png": "[encoded data removed]",
      "text/plain": [
       "<Figure size 640x480 with 1 Axes>"
      ]
     },
     "metadata": {},
     "output_type": "display_data"
    }
   ],
   "source": [
    "plt.plot(range(3,50,2), scores)"
   ]
  },
  {
   "cell_type": "code",
   "execution_count": 22,
   "metadata": {},
   "outputs": [
    {
     "data": {
      "text/plain": [
       "tensor([69, 83,  2,  ..., 15, 72, 75])"
      ]
     },
     "execution_count": 22,
     "metadata": {},
     "output_type": "execute_result"
    }
   ],
   "source": [
    "# mapping tra le 100 classi qui e le altre 100 classi di la\n",
    "y"
   ]
  },
  {
   "cell_type": "markdown",
   "metadata": {},
   "source": [
    "# Some checks"
   ]
  },
  {
   "cell_type": "code",
   "execution_count": 7,
   "metadata": {},
   "outputs": [
    {
     "data": {
      "text/plain": [
       "(array([323., 339., 326., 317., 326., 321., 329., 334., 315., 324., 314.,\n",
       "        319., 316., 327., 312., 315., 325., 331., 325., 314., 321., 327.,\n",
       "        339., 321., 328., 330., 302., 317., 329., 318., 312., 300., 306.,\n",
       "        344., 323., 321., 330., 318., 313., 338., 321., 317., 330., 312.,\n",
       "        325., 308., 305., 296., 313., 318., 311., 314., 334., 320., 315.,\n",
       "        337., 307., 326., 326., 338., 315., 325., 322., 314., 310., 317.,\n",
       "        340., 307., 316., 320., 331., 309., 313., 312., 333., 338., 323.,\n",
       "        297., 322., 303., 330., 314., 322., 314., 330., 317., 334., 316.,\n",
       "        330., 309., 320., 328., 324., 317., 334., 317., 328., 298., 320.,\n",
       "        333.]),\n",
       " array([ 0.  ,  0.99,  1.98,  2.97,  3.96,  4.95,  5.94,  6.93,  7.92,\n",
       "         8.91,  9.9 , 10.89, 11.88, 12.87, 13.86, 14.85, 15.84, 16.83,\n",
       "        17.82, 18.81, 19.8 , 20.79, 21.78, 22.77, 23.76, 24.75, 25.74,\n",
       "        26.73, 27.72, 28.71, 29.7 , 30.69, 31.68, 32.67, 33.66, 34.65,\n",
       "        35.64, 36.63, 37.62, 38.61, 39.6 , 40.59, 41.58, 42.57, 43.56,\n",
       "        44.55, 45.54, 46.53, 47.52, 48.51, 49.5 , 50.49, 51.48, 52.47,\n",
       "        53.46, 54.45, 55.44, 56.43, 57.42, 58.41, 59.4 , 60.39, 61.38,\n",
       "        62.37, 63.36, 64.35, 65.34, 66.33, 67.32, 68.31, 69.3 , 70.29,\n",
       "        71.28, 72.27, 73.26, 74.25, 75.24, 76.23, 77.22, 78.21, 79.2 ,\n",
       "        80.19, 81.18, 82.17, 83.16, 84.15, 85.14, 86.13, 87.12, 88.11,\n",
       "        89.1 , 90.09, 91.08, 92.07, 93.06, 94.05, 95.04, 96.03, 97.02,\n",
       "        98.01, 99.  ]),\n",
       " <BarContainer object of 100 artists>)"
      ]
     },
     "execution_count": 7,
     "metadata": {},
     "output_type": "execute_result"
    },
    {
     "data": {
      "image/png": "[encoded data removed]",
      "text/plain": [
       "<Figure size 640x480 with 1 Axes>"
      ]
     },
     "metadata": {},
     "output_type": "display_data"
    }
   ],
   "source": [
    "plt.hist(y, bins=100)"
   ]
  },
  {
   "cell_type": "code",
   "execution_count": 8,
   "metadata": {},
   "outputs": [
    {
     "data": {
      "text/plain": [
       "100"
      ]
     },
     "execution_count": 8,
     "metadata": {},
     "output_type": "execute_result"
    }
   ],
   "source": [
    "len(torch.unique(y))"
   ]
  },
  {
   "cell_type": "code",
   "execution_count": 9,
   "metadata": {},
   "outputs": [
    {
     "data": {
      "text/plain": [
       "tensor([ 0,  1,  2,  3,  4,  5,  6,  7,  8,  9, 10, 11, 12, 13, 14, 15, 16, 17,\n",
       "        18, 19, 20, 21, 22, 23, 24, 25, 26, 27, 28, 29, 30, 31, 32, 33, 34, 35,\n",
       "        36, 37, 38, 39, 40, 41, 42, 43, 44, 45, 46, 47, 48, 49, 50, 51, 52, 53,\n",
       "        54, 55, 56, 57, 58, 59, 60, 61, 62, 63, 64, 65, 66, 67, 68, 69, 70, 71,\n",
       "        72, 73, 74, 75, 76, 77, 78, 79, 80, 81, 82, 83, 84, 85, 86, 87, 88, 89,\n",
       "        90, 91, 92, 93, 94, 95, 96, 97, 98, 99])"
      ]
     },
     "execution_count": 9,
     "metadata": {},
     "output_type": "execute_result"
    }
   ],
   "source": [
    "torch.unique(y)"
   ]
  },
  {
   "cell_type": "code",
   "execution_count": 26,
   "metadata": {},
   "outputs": [
    {
     "data": {
      "text/plain": [
       "<matplotlib.image.AxesImage at 0x7f6644fce400>"
      ]
     },
     "execution_count": 26,
     "metadata": {},
     "output_type": "execute_result"
    },
    {
     "data": {
      "image/png": "[encoded data removed]",
      "text/plain": [
       "<Figure size 640x480 with 1 Axes>"
      ]
     },
     "metadata": {},
     "output_type": "display_data"
    }
   ],
   "source": [
    "#fpr every label in 1 to 100 we want to see how many go to \n",
    "\n",
    "# matrix 10 x 100 -> for every row we see where how many labels from x target go to that cluster\n",
    "\n",
    "a = np.zeros((centroids.shape[0],100))\n",
    "\n",
    "#print(a)\n",
    "\n",
    "for i, cluster in enumerate(clusters):\n",
    "    a[cluster][y[i]] += 1\n",
    "\n",
    "plt.xlabel(\"Classes\")\n",
    "plt.ylabel(\"Cluster\\ncount\")\n",
    "plt.title(\"Embedding count that belongs to a cluster for every label class number of clustering = \" + str(centroids.shape[0]))\n",
    "plt.imshow(a,cmap='Greys_r')\n",
    "\n"
   ]
  },
  {
   "cell_type": "code",
   "execution_count": 27,
   "metadata": {},
   "outputs": [
    {
     "data": {
      "text/plain": [
       "<matplotlib.image.AxesImage at 0x7f6644fbf550>"
      ]
     },
     "execution_count": 27,
     "metadata": {},
     "output_type": "execute_result"
    },
    {
     "data": {
      "image/png": "[encoded data removed]",
      "text/plain": [
       "<Figure size 640x480 with 1 Axes>"
      ]
     },
     "metadata": {},
     "output_type": "display_data"
    }
   ],
   "source": [
    "## majority voting for each class\n",
    "b = np.argmax(a, axis=0)\n",
    "\n",
    "c = np.zeros((centroids.shape[0],100))\n",
    "for x in range(100):    \n",
    "    c[b[x]][x] = 1\n",
    "\n",
    "plt.xlabel(\"Classes\")\n",
    "plt.ylabel(\"Cluster\\ncount\")\n",
    "plt.title(\"Majority belonging to a cluster for every label class number of clustering = \" + str(centroids.shape[0]))\n",
    "plt.imshow(c, cmap='Greys_r')"
   ]
  },
  {
   "cell_type": "code",
   "execution_count": 28,
   "metadata": {},
   "outputs": [
    {
     "data": {
      "text/plain": [
       "array([ 8.,  7.,  9.,  7., 19.,  8.,  6., 18.,  6., 12.])"
      ]
     },
     "execution_count": 28,
     "metadata": {},
     "output_type": "execute_result"
    }
   ],
   "source": [
    "np.sum(c, axis=1)"
   ]
  },
  {
   "cell_type": "code",
   "execution_count": null,
   "metadata": {},
   "outputs": [],
   "source": []
  }
 ],
 "metadata": {
  "kernelspec": {
   "display_name": "ai701",
   "language": "python",
   "name": "python3"
  },
  "language_info": {
   "codemirror_mode": {
    "name": "ipython",
    "version": 3
   },
   "file_extension": ".py",
   "mimetype": "text/x-python",
   "name": "python",
   "nbconvert_exporter": "python",
   "pygments_lexer": "ipython3",
   "version": "3.10.0"
  },
  "orig_nbformat": 4
 },
 "nbformat": 4,
 "nbformat_minor": 2
}
