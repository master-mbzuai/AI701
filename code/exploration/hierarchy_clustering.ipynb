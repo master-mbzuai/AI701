{
 "cells": [
  {
   "cell_type": "code",
   "execution_count": 2,
   "metadata": {},
   "outputs": [],
   "source": [
    "import pickle\n",
    "import numpy as np"
   ]
  },
  {
   "cell_type": "code",
   "execution_count": 3,
   "metadata": {},
   "outputs": [],
   "source": [
    "with open('embeddings_all.pkl', 'rb') as file:\n",
    "    data = pickle.load(file)\n",
    "\n",
    "x = data[\"outputs\"].cpu().numpy()\n",
    "y = data[\"labels\"].cpu().numpy()"
   ]
  },
  {
   "cell_type": "code",
   "execution_count": 4,
   "metadata": {},
   "outputs": [],
   "source": [
    "# normalize embeddings\n",
    "x = (x - np.min(x)) / (np.max(x) - np.min(x))"
   ]
  },
  {
   "cell_type": "code",
   "execution_count": 5,
   "metadata": {},
   "outputs": [],
   "source": [
    "embeddings = np.array(x)"
   ]
  },
  {
   "cell_type": "code",
   "execution_count": 6,
   "metadata": {},
   "outputs": [
    {
     "ename": "RecursionError",
     "evalue": "maximum recursion depth exceeded in comparison",
     "output_type": "error",
     "traceback": [
      "\u001b[0;31m---------------------------------------------------------------------------\u001b[0m",
      "\u001b[0;31mRecursionError\u001b[0m                            Traceback (most recent call last)",
      "\u001b[1;32m/Users/sebastiancavada/Documents/scsv/semester-1/ai/ai-project-2023/code/exploration/hierarchy_clustering.ipynb Cell 5\u001b[0m line \u001b[0;36m1\n\u001b[1;32m      <a href='vscode-notebook-cell:/Users/sebastiancavada/Documents/scsv/semester-1/ai/ai-project-2023/code/exploration/hierarchy_clustering.ipynb#W4sZmlsZQ%3D%3D?line=7'>8</a>\u001b[0m labelList \u001b[39m=\u001b[39m y\n\u001b[1;32m     <a href='vscode-notebook-cell:/Users/sebastiancavada/Documents/scsv/semester-1/ai/ai-project-2023/code/exploration/hierarchy_clustering.ipynb#W4sZmlsZQ%3D%3D?line=9'>10</a>\u001b[0m plt\u001b[39m.\u001b[39mfigure(figsize\u001b[39m=\u001b[39m(\u001b[39m10\u001b[39m, \u001b[39m7\u001b[39m))\n\u001b[0;32m---> <a href='vscode-notebook-cell:/Users/sebastiancavada/Documents/scsv/semester-1/ai/ai-project-2023/code/exploration/hierarchy_clustering.ipynb#W4sZmlsZQ%3D%3D?line=11'>12</a>\u001b[0m dendrogram(linked,\n\u001b[1;32m     <a href='vscode-notebook-cell:/Users/sebastiancavada/Documents/scsv/semester-1/ai/ai-project-2023/code/exploration/hierarchy_clustering.ipynb#W4sZmlsZQ%3D%3D?line=12'>13</a>\u001b[0m             orientation\u001b[39m=\u001b[39;49m\u001b[39m'\u001b[39;49m\u001b[39mtop\u001b[39;49m\u001b[39m'\u001b[39;49m,\n\u001b[1;32m     <a href='vscode-notebook-cell:/Users/sebastiancavada/Documents/scsv/semester-1/ai/ai-project-2023/code/exploration/hierarchy_clustering.ipynb#W4sZmlsZQ%3D%3D?line=13'>14</a>\u001b[0m             labels\u001b[39m=\u001b[39;49mlabelList,\n\u001b[1;32m     <a href='vscode-notebook-cell:/Users/sebastiancavada/Documents/scsv/semester-1/ai/ai-project-2023/code/exploration/hierarchy_clustering.ipynb#W4sZmlsZQ%3D%3D?line=14'>15</a>\u001b[0m             distance_sort\u001b[39m=\u001b[39;49m\u001b[39m'\u001b[39;49m\u001b[39mdescending\u001b[39;49m\u001b[39m'\u001b[39;49m,\n\u001b[1;32m     <a href='vscode-notebook-cell:/Users/sebastiancavada/Documents/scsv/semester-1/ai/ai-project-2023/code/exploration/hierarchy_clustering.ipynb#W4sZmlsZQ%3D%3D?line=15'>16</a>\u001b[0m             show_leaf_counts\u001b[39m=\u001b[39;49m\u001b[39mTrue\u001b[39;49;00m)\n\u001b[1;32m     <a href='vscode-notebook-cell:/Users/sebastiancavada/Documents/scsv/semester-1/ai/ai-project-2023/code/exploration/hierarchy_clustering.ipynb#W4sZmlsZQ%3D%3D?line=17'>18</a>\u001b[0m plt\u001b[39m.\u001b[39mshow()\n",
      "File \u001b[0;32m~/anaconda3/envs/ai701/lib/python3.10/site-packages/scipy/cluster/hierarchy.py:3352\u001b[0m, in \u001b[0;36mdendrogram\u001b[0;34m(Z, p, truncate_mode, color_threshold, get_leaves, orientation, labels, count_sort, distance_sort, show_leaf_counts, no_plot, no_labels, leaf_font_size, leaf_rotation, leaf_label_func, show_contracted, link_color_func, ax, above_threshold_color)\u001b[0m\n\u001b[1;32m   3349\u001b[0m \u001b[39m# Empty list will be filled in _dendrogram_calculate_info\u001b[39;00m\n\u001b[1;32m   3350\u001b[0m contraction_marks \u001b[39m=\u001b[39m [] \u001b[39mif\u001b[39;00m show_contracted \u001b[39melse\u001b[39;00m \u001b[39mNone\u001b[39;00m\n\u001b[0;32m-> 3352\u001b[0m _dendrogram_calculate_info(\n\u001b[1;32m   3353\u001b[0m     Z\u001b[39m=\u001b[39;49mZ, p\u001b[39m=\u001b[39;49mp,\n\u001b[1;32m   3354\u001b[0m     truncate_mode\u001b[39m=\u001b[39;49mtruncate_mode,\n\u001b[1;32m   3355\u001b[0m     color_threshold\u001b[39m=\u001b[39;49mcolor_threshold,\n\u001b[1;32m   3356\u001b[0m     get_leaves\u001b[39m=\u001b[39;49mget_leaves,\n\u001b[1;32m   3357\u001b[0m     orientation\u001b[39m=\u001b[39;49morientation,\n\u001b[1;32m   3358\u001b[0m     labels\u001b[39m=\u001b[39;49mlabels,\n\u001b[1;32m   3359\u001b[0m     count_sort\u001b[39m=\u001b[39;49mcount_sort,\n\u001b[1;32m   3360\u001b[0m     distance_sort\u001b[39m=\u001b[39;49mdistance_sort,\n\u001b[1;32m   3361\u001b[0m     show_leaf_counts\u001b[39m=\u001b[39;49mshow_leaf_counts,\n\u001b[1;32m   3362\u001b[0m     i\u001b[39m=\u001b[39;49m\u001b[39m2\u001b[39;49m\u001b[39m*\u001b[39;49mn \u001b[39m-\u001b[39;49m \u001b[39m2\u001b[39;49m,\n\u001b[1;32m   3363\u001b[0m     iv\u001b[39m=\u001b[39;49m\u001b[39m0.0\u001b[39;49m,\n\u001b[1;32m   3364\u001b[0m     ivl\u001b[39m=\u001b[39;49mivl,\n\u001b[1;32m   3365\u001b[0m     n\u001b[39m=\u001b[39;49mn,\n\u001b[1;32m   3366\u001b[0m     icoord_list\u001b[39m=\u001b[39;49micoord_list,\n\u001b[1;32m   3367\u001b[0m     dcoord_list\u001b[39m=\u001b[39;49mdcoord_list,\n\u001b[1;32m   3368\u001b[0m     lvs\u001b[39m=\u001b[39;49mlvs,\n\u001b[1;32m   3369\u001b[0m     current_color\u001b[39m=\u001b[39;49mcurrent_color,\n\u001b[1;32m   3370\u001b[0m     color_list\u001b[39m=\u001b[39;49mcolor_list,\n\u001b[1;32m   3371\u001b[0m     currently_below_threshold\u001b[39m=\u001b[39;49mcurrently_below_threshold,\n\u001b[1;32m   3372\u001b[0m     leaf_label_func\u001b[39m=\u001b[39;49mleaf_label_func,\n\u001b[1;32m   3373\u001b[0m     contraction_marks\u001b[39m=\u001b[39;49mcontraction_marks,\n\u001b[1;32m   3374\u001b[0m     link_color_func\u001b[39m=\u001b[39;49mlink_color_func,\n\u001b[1;32m   3375\u001b[0m     above_threshold_color\u001b[39m=\u001b[39;49mabove_threshold_color)\n\u001b[1;32m   3377\u001b[0m \u001b[39mif\u001b[39;00m \u001b[39mnot\u001b[39;00m no_plot:\n\u001b[1;32m   3378\u001b[0m     mh \u001b[39m=\u001b[39m \u001b[39mmax\u001b[39m(Z[:, \u001b[39m2\u001b[39m])\n",
      "File \u001b[0;32m~/anaconda3/envs/ai701/lib/python3.10/site-packages/scipy/cluster/hierarchy.py:3624\u001b[0m, in \u001b[0;36m_dendrogram_calculate_info\u001b[0;34m(Z, p, truncate_mode, color_threshold, get_leaves, orientation, labels, count_sort, distance_sort, show_leaf_counts, i, iv, ivl, n, icoord_list, dcoord_list, lvs, mhr, current_color, color_list, currently_below_threshold, leaf_label_func, level, contraction_marks, link_color_func, above_threshold_color)\u001b[0m\n\u001b[1;32m   3620\u001b[0m     ub \u001b[39m=\u001b[39m ab\n\u001b[1;32m   3622\u001b[0m \u001b[39m# Updated iv variable and the amount of space used.\u001b[39;00m\n\u001b[1;32m   3623\u001b[0m (uiva, uwa, uah, uamd) \u001b[39m=\u001b[39m \\\n\u001b[0;32m-> 3624\u001b[0m     _dendrogram_calculate_info(\n\u001b[1;32m   3625\u001b[0m         Z\u001b[39m=\u001b[39;49mZ, p\u001b[39m=\u001b[39;49mp,\n\u001b[1;32m   3626\u001b[0m         truncate_mode\u001b[39m=\u001b[39;49mtruncate_mode,\n\u001b[1;32m   3627\u001b[0m         color_threshold\u001b[39m=\u001b[39;49mcolor_threshold,\n\u001b[1;32m   3628\u001b[0m         get_leaves\u001b[39m=\u001b[39;49mget_leaves,\n\u001b[1;32m   3629\u001b[0m         orientation\u001b[39m=\u001b[39;49morientation,\n\u001b[1;32m   3630\u001b[0m         labels\u001b[39m=\u001b[39;49mlabels,\n\u001b[1;32m   3631\u001b[0m         count_sort\u001b[39m=\u001b[39;49mcount_sort,\n\u001b[1;32m   3632\u001b[0m         distance_sort\u001b[39m=\u001b[39;49mdistance_sort,\n\u001b[1;32m   3633\u001b[0m         show_leaf_counts\u001b[39m=\u001b[39;49mshow_leaf_counts,\n\u001b[1;32m   3634\u001b[0m         i\u001b[39m=\u001b[39;49mua, iv\u001b[39m=\u001b[39;49miv, ivl\u001b[39m=\u001b[39;49mivl, n\u001b[39m=\u001b[39;49mn,\n\u001b[1;32m   3635\u001b[0m         icoord_list\u001b[39m=\u001b[39;49micoord_list,\n\u001b[1;32m   3636\u001b[0m         dcoord_list\u001b[39m=\u001b[39;49mdcoord_list, lvs\u001b[39m=\u001b[39;49mlvs,\n\u001b[1;32m   3637\u001b[0m         current_color\u001b[39m=\u001b[39;49mcurrent_color,\n\u001b[1;32m   3638\u001b[0m         color_list\u001b[39m=\u001b[39;49mcolor_list,\n\u001b[1;32m   3639\u001b[0m         currently_below_threshold\u001b[39m=\u001b[39;49mcurrently_below_threshold,\n\u001b[1;32m   3640\u001b[0m         leaf_label_func\u001b[39m=\u001b[39;49mleaf_label_func,\n\u001b[1;32m   3641\u001b[0m         level\u001b[39m=\u001b[39;49mlevel \u001b[39m+\u001b[39;49m \u001b[39m1\u001b[39;49m, contraction_marks\u001b[39m=\u001b[39;49mcontraction_marks,\n\u001b[1;32m   3642\u001b[0m         link_color_func\u001b[39m=\u001b[39;49mlink_color_func,\n\u001b[1;32m   3643\u001b[0m         above_threshold_color\u001b[39m=\u001b[39;49mabove_threshold_color)\n\u001b[1;32m   3645\u001b[0m h \u001b[39m=\u001b[39m Z[i \u001b[39m-\u001b[39m n, \u001b[39m2\u001b[39m]\n\u001b[1;32m   3646\u001b[0m \u001b[39mif\u001b[39;00m h \u001b[39m>\u001b[39m\u001b[39m=\u001b[39m color_threshold \u001b[39mor\u001b[39;00m color_threshold \u001b[39m<\u001b[39m\u001b[39m=\u001b[39m \u001b[39m0\u001b[39m:\n",
      "File \u001b[0;32m~/anaconda3/envs/ai701/lib/python3.10/site-packages/scipy/cluster/hierarchy.py:3624\u001b[0m, in \u001b[0;36m_dendrogram_calculate_info\u001b[0;34m(Z, p, truncate_mode, color_threshold, get_leaves, orientation, labels, count_sort, distance_sort, show_leaf_counts, i, iv, ivl, n, icoord_list, dcoord_list, lvs, mhr, current_color, color_list, currently_below_threshold, leaf_label_func, level, contraction_marks, link_color_func, above_threshold_color)\u001b[0m\n\u001b[1;32m   3620\u001b[0m     ub \u001b[39m=\u001b[39m ab\n\u001b[1;32m   3622\u001b[0m \u001b[39m# Updated iv variable and the amount of space used.\u001b[39;00m\n\u001b[1;32m   3623\u001b[0m (uiva, uwa, uah, uamd) \u001b[39m=\u001b[39m \\\n\u001b[0;32m-> 3624\u001b[0m     _dendrogram_calculate_info(\n\u001b[1;32m   3625\u001b[0m         Z\u001b[39m=\u001b[39;49mZ, p\u001b[39m=\u001b[39;49mp,\n\u001b[1;32m   3626\u001b[0m         truncate_mode\u001b[39m=\u001b[39;49mtruncate_mode,\n\u001b[1;32m   3627\u001b[0m         color_threshold\u001b[39m=\u001b[39;49mcolor_threshold,\n\u001b[1;32m   3628\u001b[0m         get_leaves\u001b[39m=\u001b[39;49mget_leaves,\n\u001b[1;32m   3629\u001b[0m         orientation\u001b[39m=\u001b[39;49morientation,\n\u001b[1;32m   3630\u001b[0m         labels\u001b[39m=\u001b[39;49mlabels,\n\u001b[1;32m   3631\u001b[0m         count_sort\u001b[39m=\u001b[39;49mcount_sort,\n\u001b[1;32m   3632\u001b[0m         distance_sort\u001b[39m=\u001b[39;49mdistance_sort,\n\u001b[1;32m   3633\u001b[0m         show_leaf_counts\u001b[39m=\u001b[39;49mshow_leaf_counts,\n\u001b[1;32m   3634\u001b[0m         i\u001b[39m=\u001b[39;49mua, iv\u001b[39m=\u001b[39;49miv, ivl\u001b[39m=\u001b[39;49mivl, n\u001b[39m=\u001b[39;49mn,\n\u001b[1;32m   3635\u001b[0m         icoord_list\u001b[39m=\u001b[39;49micoord_list,\n\u001b[1;32m   3636\u001b[0m         dcoord_list\u001b[39m=\u001b[39;49mdcoord_list, lvs\u001b[39m=\u001b[39;49mlvs,\n\u001b[1;32m   3637\u001b[0m         current_color\u001b[39m=\u001b[39;49mcurrent_color,\n\u001b[1;32m   3638\u001b[0m         color_list\u001b[39m=\u001b[39;49mcolor_list,\n\u001b[1;32m   3639\u001b[0m         currently_below_threshold\u001b[39m=\u001b[39;49mcurrently_below_threshold,\n\u001b[1;32m   3640\u001b[0m         leaf_label_func\u001b[39m=\u001b[39;49mleaf_label_func,\n\u001b[1;32m   3641\u001b[0m         level\u001b[39m=\u001b[39;49mlevel \u001b[39m+\u001b[39;49m \u001b[39m1\u001b[39;49m, contraction_marks\u001b[39m=\u001b[39;49mcontraction_marks,\n\u001b[1;32m   3642\u001b[0m         link_color_func\u001b[39m=\u001b[39;49mlink_color_func,\n\u001b[1;32m   3643\u001b[0m         above_threshold_color\u001b[39m=\u001b[39;49mabove_threshold_color)\n\u001b[1;32m   3645\u001b[0m h \u001b[39m=\u001b[39m Z[i \u001b[39m-\u001b[39m n, \u001b[39m2\u001b[39m]\n\u001b[1;32m   3646\u001b[0m \u001b[39mif\u001b[39;00m h \u001b[39m>\u001b[39m\u001b[39m=\u001b[39m color_threshold \u001b[39mor\u001b[39;00m color_threshold \u001b[39m<\u001b[39m\u001b[39m=\u001b[39m \u001b[39m0\u001b[39m:\n",
      "    \u001b[0;31m[... skipping similar frames: _dendrogram_calculate_info at line 3624 (2968 times)]\u001b[0m\n",
      "File \u001b[0;32m~/anaconda3/envs/ai701/lib/python3.10/site-packages/scipy/cluster/hierarchy.py:3624\u001b[0m, in \u001b[0;36m_dendrogram_calculate_info\u001b[0;34m(Z, p, truncate_mode, color_threshold, get_leaves, orientation, labels, count_sort, distance_sort, show_leaf_counts, i, iv, ivl, n, icoord_list, dcoord_list, lvs, mhr, current_color, color_list, currently_below_threshold, leaf_label_func, level, contraction_marks, link_color_func, above_threshold_color)\u001b[0m\n\u001b[1;32m   3620\u001b[0m     ub \u001b[39m=\u001b[39m ab\n\u001b[1;32m   3622\u001b[0m \u001b[39m# Updated iv variable and the amount of space used.\u001b[39;00m\n\u001b[1;32m   3623\u001b[0m (uiva, uwa, uah, uamd) \u001b[39m=\u001b[39m \\\n\u001b[0;32m-> 3624\u001b[0m     _dendrogram_calculate_info(\n\u001b[1;32m   3625\u001b[0m         Z\u001b[39m=\u001b[39;49mZ, p\u001b[39m=\u001b[39;49mp,\n\u001b[1;32m   3626\u001b[0m         truncate_mode\u001b[39m=\u001b[39;49mtruncate_mode,\n\u001b[1;32m   3627\u001b[0m         color_threshold\u001b[39m=\u001b[39;49mcolor_threshold,\n\u001b[1;32m   3628\u001b[0m         get_leaves\u001b[39m=\u001b[39;49mget_leaves,\n\u001b[1;32m   3629\u001b[0m         orientation\u001b[39m=\u001b[39;49morientation,\n\u001b[1;32m   3630\u001b[0m         labels\u001b[39m=\u001b[39;49mlabels,\n\u001b[1;32m   3631\u001b[0m         count_sort\u001b[39m=\u001b[39;49mcount_sort,\n\u001b[1;32m   3632\u001b[0m         distance_sort\u001b[39m=\u001b[39;49mdistance_sort,\n\u001b[1;32m   3633\u001b[0m         show_leaf_counts\u001b[39m=\u001b[39;49mshow_leaf_counts,\n\u001b[1;32m   3634\u001b[0m         i\u001b[39m=\u001b[39;49mua, iv\u001b[39m=\u001b[39;49miv, ivl\u001b[39m=\u001b[39;49mivl, n\u001b[39m=\u001b[39;49mn,\n\u001b[1;32m   3635\u001b[0m         icoord_list\u001b[39m=\u001b[39;49micoord_list,\n\u001b[1;32m   3636\u001b[0m         dcoord_list\u001b[39m=\u001b[39;49mdcoord_list, lvs\u001b[39m=\u001b[39;49mlvs,\n\u001b[1;32m   3637\u001b[0m         current_color\u001b[39m=\u001b[39;49mcurrent_color,\n\u001b[1;32m   3638\u001b[0m         color_list\u001b[39m=\u001b[39;49mcolor_list,\n\u001b[1;32m   3639\u001b[0m         currently_below_threshold\u001b[39m=\u001b[39;49mcurrently_below_threshold,\n\u001b[1;32m   3640\u001b[0m         leaf_label_func\u001b[39m=\u001b[39;49mleaf_label_func,\n\u001b[1;32m   3641\u001b[0m         level\u001b[39m=\u001b[39;49mlevel \u001b[39m+\u001b[39;49m \u001b[39m1\u001b[39;49m, contraction_marks\u001b[39m=\u001b[39;49mcontraction_marks,\n\u001b[1;32m   3642\u001b[0m         link_color_func\u001b[39m=\u001b[39;49mlink_color_func,\n\u001b[1;32m   3643\u001b[0m         above_threshold_color\u001b[39m=\u001b[39;49mabove_threshold_color)\n\u001b[1;32m   3645\u001b[0m h \u001b[39m=\u001b[39m Z[i \u001b[39m-\u001b[39m n, \u001b[39m2\u001b[39m]\n\u001b[1;32m   3646\u001b[0m \u001b[39mif\u001b[39;00m h \u001b[39m>\u001b[39m\u001b[39m=\u001b[39m color_threshold \u001b[39mor\u001b[39;00m color_threshold \u001b[39m<\u001b[39m\u001b[39m=\u001b[39m \u001b[39m0\u001b[39m:\n",
      "File \u001b[0;32m~/anaconda3/envs/ai701/lib/python3.10/site-packages/scipy/cluster/hierarchy.py:3514\u001b[0m, in \u001b[0;36m_dendrogram_calculate_info\u001b[0;34m(Z, p, truncate_mode, color_threshold, get_leaves, orientation, labels, count_sort, distance_sort, show_leaf_counts, i, iv, ivl, n, icoord_list, dcoord_list, lvs, mhr, current_color, color_list, currently_below_threshold, leaf_label_func, level, contraction_marks, link_color_func, above_threshold_color)\u001b[0m\n\u001b[1;32m   3465\u001b[0m \u001b[39mdef\u001b[39;00m \u001b[39m_dendrogram_calculate_info\u001b[39m(Z, p, truncate_mode,\n\u001b[1;32m   3466\u001b[0m                                color_threshold\u001b[39m=\u001b[39mnp\u001b[39m.\u001b[39minf, get_leaves\u001b[39m=\u001b[39m\u001b[39mTrue\u001b[39;00m,\n\u001b[1;32m   3467\u001b[0m                                orientation\u001b[39m=\u001b[39m\u001b[39m'\u001b[39m\u001b[39mtop\u001b[39m\u001b[39m'\u001b[39m, labels\u001b[39m=\u001b[39m\u001b[39mNone\u001b[39;00m,\n\u001b[0;32m   (...)\u001b[0m\n\u001b[1;32m   3476\u001b[0m                                link_color_func\u001b[39m=\u001b[39m\u001b[39mNone\u001b[39;00m,\n\u001b[1;32m   3477\u001b[0m                                above_threshold_color\u001b[39m=\u001b[39m\u001b[39m'\u001b[39m\u001b[39mC0\u001b[39m\u001b[39m'\u001b[39m):\n\u001b[1;32m   3478\u001b[0m \u001b[39m    \u001b[39m\u001b[39m\"\"\"\u001b[39;00m\n\u001b[1;32m   3479\u001b[0m \u001b[39m    Calculate the endpoints of the links as well as the labels for the\u001b[39;00m\n\u001b[1;32m   3480\u001b[0m \u001b[39m    the dendrogram rooted at the node with index i. iv is the independent\u001b[39;00m\n\u001b[0;32m   (...)\u001b[0m\n\u001b[1;32m   3512\u001b[0m \n\u001b[1;32m   3513\u001b[0m \u001b[39m    \"\"\"\u001b[39;00m\n\u001b[0;32m-> 3514\u001b[0m     \u001b[39mif\u001b[39;00m n \u001b[39m==\u001b[39;49m \u001b[39m0\u001b[39;49m:\n\u001b[1;32m   3515\u001b[0m         \u001b[39mraise\u001b[39;00m \u001b[39mValueError\u001b[39;00m(\u001b[39m\"\u001b[39m\u001b[39mInvalid singleton cluster count n.\u001b[39m\u001b[39m\"\u001b[39m)\n\u001b[1;32m   3517\u001b[0m     \u001b[39mif\u001b[39;00m i \u001b[39m==\u001b[39m \u001b[39m-\u001b[39m\u001b[39m1\u001b[39m:\n",
      "\u001b[0;31mRecursionError\u001b[0m: maximum recursion depth exceeded in comparison"
     ]
    },
    {
     "data": {
      "text/plain": [
       "<Figure size 1000x700 with 0 Axes>"
      ]
     },
     "metadata": {},
     "output_type": "display_data"
    }
   ],
   "source": [
    "# use scipy.cluster.hierarchy to cluster embeddings\n",
    "\n",
    "from scipy.cluster.hierarchy import dendrogram, linkage\n",
    "from matplotlib import pyplot as plt\n",
    "\n",
    "linked = linkage(embeddings, 'single')\n",
    "\n",
    "fine_labels = ['apple', 'aquarium_fish', 'baby', 'bear', 'beaver', 'bed', 'bee', 'beetle', 'bicycle', 'bottle', 'bowl', 'boy', 'bridge', 'bus', 'butterfly', 'camel', 'can', 'castle', 'caterpillar', 'cattle', 'chair', 'chimpanzee', 'clock', 'cloud', 'cockroach', 'couch', 'crab', 'crocodile', 'cup', 'dinosaur', 'dolphin', 'elephant', 'flatfish', 'forest', 'fox', 'girl', 'hamster', 'house', 'kangaroo', 'keyboard', 'lamp', 'lawn_mower', 'leopard', 'lion', 'lizard', 'lobster', 'man', 'maple_tree', 'motorcycle', 'mountain', 'mouse', 'mushroom', 'oak_tree', 'orange', 'orchid', 'otter', 'palm_tree', 'pear', 'pickup_truck', 'pine_tree', 'plain', 'plate', 'poppy', 'porcupine', 'possum', 'rabbit', 'raccoon', 'ray', 'road', 'rocket', 'rose', 'sea', 'seal', 'shark', 'shrew', 'skunk', 'skyscraper', 'snail', 'snake', 'spider', 'squirrel', 'streetcar', 'sunflower', 'sweet_pepper', 'table', 'tank', 'telephone', 'television', 'tiger', 'tractor', 'train', 'trout', 'tulip', 'turtle', 'wardrobe', 'whale', 'willow_tree', 'wolf', 'woman', 'worm']\n",
    "\n",
    "labelList = fine_labels\n",
    "\n",
    "\n",
    "plt.figure(figsize=(10, 7))\n",
    "\n",
    "dendrogram(linked,\n",
    "            orientation='top',\n",
    "            labels=labelList,\n",
    "            distance_sort='descending',\n",
    "            show_leaf_counts=True)\n",
    "\n",
    "plt.show()"
   ]
  },
  {
   "cell_type": "code",
   "execution_count": 8,
   "metadata": {},
   "outputs": [],
   "source": [
    "# do PCA\n",
    "from sklearn.decomposition import PCA\n",
    "\n",
    "pca = PCA(n_components=100)\n",
    "pca.fit(embeddings)\n",
    "\n",
    "pca_transform = pca.transform(embeddings)\n",
    "\n"
   ]
  },
  {
   "cell_type": "code",
   "execution_count": null,
   "metadata": {},
   "outputs": [],
   "source": [
    "# use scipy.cluster.hierarchy to cluster embeddings\n",
    "\n",
    "from scipy.cluster.hierarchy import dendrogram, linkage\n",
    "from matplotlib import pyplot as plt\n",
    "\n",
    "linked = linkage(pca_transform, 'single')\n",
    "\n",
    "fine_labels = ['apple', 'aquarium_fish', 'baby', 'bear', 'beaver', 'bed', 'bee', 'beetle', 'bicycle', 'bottle', 'bowl', 'boy', 'bridge', 'bus', 'butterfly', 'camel', 'can', 'castle', 'caterpillar', 'cattle', 'chair', 'chimpanzee', 'clock', 'cloud', 'cockroach', 'couch', 'crab', 'crocodile', 'cup', 'dinosaur', 'dolphin', 'elephant', 'flatfish', 'forest', 'fox', 'girl', 'hamster', 'house', 'kangaroo', 'keyboard', 'lamp', 'lawn_mower', 'leopard', 'lion', 'lizard', 'lobster', 'man', 'maple_tree', 'motorcycle', 'mountain', 'mouse', 'mushroom', 'oak_tree', 'orange', 'orchid', 'otter', 'palm_tree', 'pear', 'pickup_truck', 'pine_tree', 'plain', 'plate', 'poppy', 'porcupine', 'possum', 'rabbit', 'raccoon', 'ray', 'road', 'rocket', 'rose', 'sea', 'seal', 'shark', 'shrew', 'skunk', 'skyscraper', 'snail', 'snake', 'spider', 'squirrel', 'streetcar', 'sunflower', 'sweet_pepper', 'table', 'tank', 'telephone', 'television', 'tiger', 'tractor', 'train', 'trout', 'tulip', 'turtle', 'wardrobe', 'whale', 'willow_tree', 'wolf', 'woman', 'worm']\n",
    "\n",
    "labelList = fine_labels\n",
    "\n",
    "\n",
    "plt.figure(figsize=(10, 7))\n",
    "\n",
    "dendrogram(linked,\n",
    "            orientation='top',\n",
    "            labels=labelList,\n",
    "            distance_sort='descending',\n",
    "            show_leaf_counts=True)\n",
    "\n",
    "plt.show()"
   ]
  }
 ],
 "metadata": {
  "kernelspec": {
   "display_name": "ai701",
   "language": "python",
   "name": "python3"
  },
  "language_info": {
   "codemirror_mode": {
    "name": "ipython",
    "version": 3
   },
   "file_extension": ".py",
   "mimetype": "text/x-python",
   "name": "python",
   "nbconvert_exporter": "python",
   "pygments_lexer": "ipython3",
   "version": "3.10.0"
  },
  "orig_nbformat": 4
 },
 "nbformat": 4,
 "nbformat_minor": 2
}
