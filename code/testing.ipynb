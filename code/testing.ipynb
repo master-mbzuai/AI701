{
 "cells": [
  {
   "cell_type": "code",
   "execution_count": 23,
   "metadata": {},
   "outputs": [],
   "source": [
    "import torch\n",
    "import torch.nn as nn"
   ]
  },
  {
   "cell_type": "code",
   "execution_count": 24,
   "metadata": {},
   "outputs": [
    {
     "name": "stdout",
     "output_type": "stream",
     "text": [
      "torch.Size([64, 344])\n",
      "tensor([[ 2.5259,  0.9197, -0.9509,  ...,  1.1630, -1.0974, -1.7632],\n",
      "        [ 0.5238, -0.4465, -1.3433,  ...,  0.2845, -0.0349,  0.7958],\n",
      "        [ 1.1678,  0.6246,  0.7846,  ...,  0.7523,  0.1590,  1.1019],\n",
      "        ...,\n",
      "        [-0.8581,  1.5983,  0.1122,  ...,  0.9969,  0.6680,  0.0720],\n",
      "        [-0.9091,  1.0263,  0.5785,  ...,  1.3528,  0.2186, -0.2907],\n",
      "        [ 0.1165, -0.0545, -2.5590,  ...,  0.1030,  0.7131, -0.8916]])\n"
     ]
    }
   ],
   "source": [
    "x = torch.randn(64,344)\n",
    "print(x.shape)\n",
    "print(x)"
   ]
  },
  {
   "cell_type": "code",
   "execution_count": 31,
   "metadata": {},
   "outputs": [],
   "source": [
    "y = torch.zeros(64,10)\n",
    "\n",
    "y[:,1] = 1"
   ]
  },
  {
   "cell_type": "code",
   "execution_count": 32,
   "metadata": {},
   "outputs": [],
   "source": [
    "modifier_bias = nn.Parameter(torch.randn(10, 344))"
   ]
  },
  {
   "cell_type": "code",
   "execution_count": 33,
   "metadata": {},
   "outputs": [
    {
     "name": "stdout",
     "output_type": "stream",
     "text": [
      "torch.Size([10, 344])\n"
     ]
    }
   ],
   "source": [
    "print(modifier_bias.shape)"
   ]
  },
  {
   "cell_type": "code",
   "execution_count": 48,
   "metadata": {},
   "outputs": [],
   "source": [
    "indices_of_ones = torch.nonzero(y == 1)"
   ]
  },
  {
   "cell_type": "code",
   "execution_count": 50,
   "metadata": {},
   "outputs": [
    {
     "name": "stdout",
     "output_type": "stream",
     "text": [
      "torch.Size([64, 344])\n"
     ]
    }
   ],
   "source": [
    "b = torch.index_select(modifier_bias, 0, indices_of_ones[:,1])\n",
    "print(b.shape)\n",
    "\n"
   ]
  },
  {
   "cell_type": "code",
   "execution_count": 47,
   "metadata": {},
   "outputs": [
    {
     "name": "stdout",
     "output_type": "stream",
     "text": [
      "tensor([1, 1, 1, 1, 1, 1, 1, 1, 1, 1, 1, 1, 1, 1, 1, 1, 1, 1, 1, 1, 1, 1, 1, 1,\n",
      "        1, 1, 1, 1, 1, 1, 1, 1, 1, 1, 1, 1, 1, 1, 1, 1, 1, 1, 1, 1, 1, 1, 1, 1,\n",
      "        1, 1, 1, 1, 1, 1, 1, 1, 1, 1, 1, 1, 1, 1, 1, 1])\n"
     ]
    }
   ],
   "source": []
  },
  {
   "cell_type": "code",
   "execution_count": null,
   "metadata": {},
   "outputs": [],
   "source": []
  }
 ],
 "metadata": {
  "kernelspec": {
   "display_name": "ai701",
   "language": "python",
   "name": "python3"
  },
  "language_info": {
   "codemirror_mode": {
    "name": "ipython",
    "version": 3
   },
   "file_extension": ".py",
   "mimetype": "text/x-python",
   "name": "python",
   "nbconvert_exporter": "python",
   "pygments_lexer": "ipython3",
   "version": "3.10.0"
  }
 },
 "nbformat": 4,
 "nbformat_minor": 2
}
